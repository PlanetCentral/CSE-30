{
  "cells": [
    {
      "cell_type": "markdown",
      "id": "f7c681d2",
      "metadata": {
        "id": "f7c681d2",
        "notebookgrader": {
          "id": "3dbf73846aaf7a6231c8a957109646968a9c92d7",
          "readonly": true
        }
      },
      "source": [
        "# Classes\n",
        "### Copyright Luca de Alfaro, 2021-23, with Oswald Campesato.  License: CC-BY-NC."
      ]
    },
    {
      "cell_type": "markdown",
      "id": "4ffb64f4",
      "metadata": {
        "id": "4ffb64f4",
        "notebookgrader": {
          "id": "a832e42776e0a0098794660481f1abc290590e7a",
          "readonly": true
        }
      },
      "source": [
        "A Python class provides a way of encapsulating togeteher data, and the methods and primitive operations on the data.\n",
        "\n",
        "We can define a class `Rectangle`, which encapsulates the dimensions $w$ and $h$ of a rectangle, and methods to compute area and perimeter, as follows."
      ]
    },
    {
      "cell_type": "code",
      "execution_count": 1,
      "id": "ba8f2e30",
      "metadata": {
        "id": "ba8f2e30",
        "notebookgrader": {
          "id": "15ee9e158f74a14486823cbd48707c2dfcf5230c",
          "is_solution": false,
          "is_tests": false,
          "readonly": true
        },
        "outputId": "6ff23c8e-d0e5-4f34-bb57-d2f67ae3b8cb"
      },
      "outputs": [],
      "source": [
        "class Rectangle(object):\n",
        "\n",
        "    def __init__(self, w, h):\n",
        "        self.w = w\n",
        "        self.h = h\n",
        "\n",
        "    def area(self):\n",
        "        return self.w * self.h\n",
        "\n",
        "    @property\n",
        "    def perimeter(self):\n",
        "        return 2 * (self.w + self.h)"
      ]
    },
    {
      "cell_type": "markdown",
      "id": "e3e82b5c",
      "metadata": {
        "id": "e3e82b5c",
        "notebookgrader": {
          "id": "53eeb8ce45638ca12679572c95481ba241166a32",
          "readonly": true
        }
      },
      "source": [
        "## Creating a new object\n",
        "\n",
        "We create a rectangle as follows:"
      ]
    },
    {
      "cell_type": "code",
      "execution_count": 2,
      "id": "fabf7099",
      "metadata": {
        "id": "fabf7099",
        "notebookgrader": {
          "id": "affc87c05435544b0ee2479053a586e41b6601c6",
          "is_solution": false,
          "is_tests": false,
          "readonly": true
        },
        "outputId": "f9f0c494-0550-4926-dd22-63e9f5e2505d"
      },
      "outputs": [],
      "source": [
        "r = Rectangle(3, 4)"
      ]
    },
    {
      "cell_type": "markdown",
      "id": "20f0dfc4",
      "metadata": {
        "id": "20f0dfc4",
        "notebookgrader": {
          "id": "450a41112016f28cd9158126db58dee3a0c4f841",
          "readonly": true
        }
      },
      "source": [
        "### Object initialization\n",
        "\n",
        "The statement above is executed as follows.  First, Python realizes that you want to create a new object of class `Rectangle`.  The class `Rectangle` is a subclass of the class `object` (line 1), which is the most general class in Python, that is, the mother of all classes, or the protoclass.  So Python as first thing generates an object, which is a container for data and methods.\n",
        "Python then passes to the `__init__` method of `Rectangle` (defined in line 3) three arguments:\n",
        "\n",
        "* The newly-created object, that is yet to be filled with data.  This is passed as argument `self`.  The name `self` is purely a Python convention, btw, you could rename it `thingie` or `myself_the_best_object_in_the_universe` and everything would work.  But please follow the convention.\n",
        "* The width 3 and height 4 parameters of `Rectangle(3, 4)`.\n",
        "\n",
        "The `__init__` method assigns two attributes of the object:\n",
        "\n",
        "* `self.w` is assigned the `w` parameter,\n",
        "* `self.h` is assigned the `h` parameter.\n",
        "\n",
        "To assign a value to an attribute `myattribute` of an object, you simply say `o.myattribute = value`, where `o` is the object; in this case, the object is in `self`, as mentioned."
      ]
    },
    {
      "cell_type": "markdown",
      "id": "760cbc79",
      "metadata": {
        "id": "760cbc79",
        "notebookgrader": {
          "id": "6d8cdd307c6e2774fb7ea7b87b99b6b54e12260c",
          "readonly": true
        }
      },
      "source": [
        "### Accessing attributes of an object\n",
        "\n",
        "Unlike in Java, for instance, object attributes can be accessed simply by writing `object.attribute`, for instance:"
      ]
    },
    {
      "cell_type": "code",
      "execution_count": 3,
      "id": "2d78541f",
      "metadata": {
        "colab": {
          "base_uri": "https://localhost:8080/"
        },
        "id": "2d78541f",
        "notebookgrader": {
          "id": "b8edb111413162b841600cb7230da30c8a33a64b",
          "is_solution": false,
          "is_tests": false,
          "readonly": true
        },
        "outputId": "6898a82d-9926-446b-cea5-87707d5a5f32"
      },
      "outputs": [
        {
          "name": "stdout",
          "output_type": "stream",
          "text": [
            "Rectangle height: 4\n",
            "Rectangle width: 3\n"
          ]
        }
      ],
      "source": [
        "print(\"Rectangle height:\", r.h)\n",
        "print(\"Rectangle width:\", r.w)"
      ]
    },
    {
      "cell_type": "markdown",
      "id": "f6ce82be",
      "metadata": {
        "id": "f6ce82be",
        "notebookgrader": {
          "id": "0d154a257cd40141ea50b38c4c18109f7287c885",
          "readonly": true
        }
      },
      "source": [
        "Python has no notion of \"private\" object attributes, which cannot be accessed from outside the class declaration.  If you want to say that people are not supposed to look at an attribute, you can call it with a name that begins with underscore, as in:"
      ]
    },
    {
      "cell_type": "code",
      "execution_count": 4,
      "id": "a282b4af",
      "metadata": {
        "id": "a282b4af",
        "notebookgrader": {
          "id": "05cd05a7fb57aecaa00a7e5a9e82bb27207a03e8",
          "is_solution": false,
          "is_tests": false,
          "readonly": true
        },
        "outputId": "101172f5-3dd9-46be-ab8b-b8c2f8247bea"
      },
      "outputs": [],
      "source": [
        "class VersionedRectangle(object):\n",
        "\n",
        "    def __init__(self, w, h):\n",
        "        self.w = w\n",
        "        self.h = h\n",
        "        self._version = \"1.0\"\n",
        "\n",
        "    def area(self):\n",
        "        return self.w * self.h\n",
        "\n",
        "    @property\n",
        "    def perimeter(self):\n",
        "        return 2 * (self.w + self.h)"
      ]
    },
    {
      "cell_type": "markdown",
      "id": "69d12448",
      "metadata": {
        "id": "69d12448",
        "notebookgrader": {
          "id": "a05a5399eab391afd7889dff7f9170f3bce9b4e2",
          "readonly": true
        }
      },
      "source": [
        "This provides a weak indication -- a wish, really -- for people not to tamper with the `_version` attribute.  The attribute is still accessible, however:"
      ]
    },
    {
      "cell_type": "code",
      "execution_count": 5,
      "id": "b7e49da9",
      "metadata": {
        "colab": {
          "base_uri": "https://localhost:8080/",
          "height": 35
        },
        "id": "b7e49da9",
        "notebookgrader": {
          "id": "3936379a7602476731e4b86fd99a5973668f183f",
          "is_solution": false,
          "is_tests": false,
          "readonly": true
        },
        "outputId": "021ac33f-3bd7-4999-aed3-6c9cc9154d66"
      },
      "outputs": [
        {
          "data": {
            "text/plain": [
              "'1.0'"
            ]
          },
          "execution_count": 5,
          "metadata": {},
          "output_type": "execute_result"
        }
      ],
      "source": [
        "vr = VersionedRectangle(5, 6)\n",
        "vr._version"
      ]
    },
    {
      "cell_type": "markdown",
      "id": "5b7dab71",
      "metadata": {
        "id": "5b7dab71",
        "notebookgrader": {
          "id": "dcd4cbf94dda0a07f03d88325ee07d314c52b63e",
          "readonly": true
        }
      },
      "source": [
        "### Adding attributes to existing objects\n",
        "\n",
        "In Python, you can take an existing object and add a new attribute to it, like this:"
      ]
    },
    {
      "cell_type": "code",
      "execution_count": 6,
      "id": "66bfbcc3",
      "metadata": {
        "id": "66bfbcc3",
        "notebookgrader": {
          "id": "97cfb0d70c26c07d936ebe0c9dfd4f036dfe39c4",
          "is_solution": false,
          "is_tests": false,
          "readonly": true
        },
        "outputId": "453c8499-1418-4012-c534-9d727ec3b7ea"
      },
      "outputs": [],
      "source": [
        "r.border = True"
      ]
    },
    {
      "cell_type": "code",
      "execution_count": 7,
      "id": "c3a3bdf9",
      "metadata": {
        "colab": {
          "base_uri": "https://localhost:8080/"
        },
        "id": "c3a3bdf9",
        "notebookgrader": {
          "id": "0683b8be15641e9cd2a383c01880702db0e06834",
          "is_solution": false,
          "is_tests": false,
          "readonly": true
        },
        "outputId": "6aedcc70-7733-48a0-86f7-1129d041fa22"
      },
      "outputs": [
        {
          "data": {
            "text/plain": [
              "True"
            ]
          },
          "execution_count": 7,
          "metadata": {},
          "output_type": "execute_result"
        }
      ],
      "source": [
        "r.border"
      ]
    },
    {
      "cell_type": "markdown",
      "id": "95ce4f04",
      "metadata": {
        "id": "95ce4f04",
        "notebookgrader": {
          "id": "25cf541f395538662c82c7f409cbb704c23a1b71",
          "readonly": true
        }
      },
      "source": [
        "Of course, it is only that particular rectangle `r` that now has an attribute `border` defined:"
      ]
    },
    {
      "cell_type": "code",
      "execution_count": 8,
      "id": "cce7c8cc",
      "metadata": {
        "colab": {
          "base_uri": "https://localhost:8080/"
        },
        "id": "cce7c8cc",
        "notebookgrader": {
          "id": "8902f6b8ff44ed108d0386f0237feaa57cd77c2f",
          "is_solution": false,
          "is_tests": false,
          "readonly": true
        },
        "outputId": "d5d5322c-cb30-452d-da30-c8e2139191a6"
      },
      "outputs": [
        {
          "name": "stderr",
          "output_type": "stream",
          "text": [
            "Traceback (most recent call last):\n",
            "  File \"C:\\Users\\rahil\\AppData\\Local\\Temp\\ipykernel_23084\\4106626226.py\", line 5, in <module>\n",
            "    another_rectangle.border\n",
            "AttributeError: 'Rectangle' object has no attribute 'border'\n"
          ]
        }
      ],
      "source": [
        "import traceback\n",
        "\n",
        "another_rectangle = Rectangle(3, 4)\n",
        "try:\n",
        "    another_rectangle.border\n",
        "except:\n",
        "    traceback.print_exc()"
      ]
    },
    {
      "cell_type": "markdown",
      "id": "31a20cc9",
      "metadata": {
        "id": "31a20cc9",
        "notebookgrader": {
          "id": "d990afea0611fddc3644c27326e97c86bf0e53df",
          "readonly": true
        }
      },
      "source": [
        "## Calling object methods\n",
        "\n",
        "If you define a method with:\n",
        "\n",
        "```\n",
        "    def method(self, <parameters>):\n",
        "```\n",
        "\n",
        "you can call it on an object `obj` via:\n",
        "\n",
        "    obj.method(<parameters>)\n",
        "\n",
        "Thus, the object to which the method belongs (`obj` in this case) becomes the first argument, which is typically called `self`, in the method definition `def method(self, <parameters>)`.\n",
        "\n",
        "Since the method `area` is defined via:\n",
        "\n",
        "```\n",
        "    def area(self):\n",
        "```\n",
        "\n",
        "with no parameters except `self`, we can call it with an empty parameter list `()`, like so:\n"
      ]
    },
    {
      "cell_type": "code",
      "execution_count": 9,
      "id": "3c5166d1",
      "metadata": {
        "colab": {
          "base_uri": "https://localhost:8080/"
        },
        "id": "3c5166d1",
        "notebookgrader": {
          "id": "e1b45de7010617b69e0a506404a181e3f91631e8",
          "is_solution": false,
          "is_tests": false,
          "readonly": true
        },
        "outputId": "dc2fa2d1-ce5e-4677-ad0d-b81213515a6d"
      },
      "outputs": [
        {
          "data": {
            "text/plain": [
              "12"
            ]
          },
          "execution_count": 9,
          "metadata": {},
          "output_type": "execute_result"
        }
      ],
      "source": [
        "r.area()"
      ]
    },
    {
      "cell_type": "markdown",
      "id": "31641391",
      "metadata": {
        "id": "31641391",
        "notebookgrader": {
          "id": "01154341b05d1a3fb08f233ffcc8257dacef4857",
          "readonly": true
        }
      },
      "source": [
        "If we want to avoid having to include the empty parameter list `()`, we can define the method to be a _property_ via the `@property` decorator:\n",
        "\n",
        "        @property\n",
        "        def perimeter(self):\n",
        "            ...\n",
        "\n",
        "just as we did for perimeter:"
      ]
    },
    {
      "cell_type": "code",
      "execution_count": 10,
      "id": "69d76664",
      "metadata": {
        "colab": {
          "base_uri": "https://localhost:8080/"
        },
        "id": "69d76664",
        "notebookgrader": {
          "id": "9d4b9e83f44255d57448b637dd7810fc1c8e8009",
          "is_solution": false,
          "is_tests": false,
          "readonly": true
        },
        "outputId": "4bf54150-966e-4f5f-f713-f2ffd83c89f4"
      },
      "outputs": [
        {
          "data": {
            "text/plain": [
              "14"
            ]
          },
          "execution_count": 10,
          "metadata": {},
          "output_type": "execute_result"
        }
      ],
      "source": [
        "r.perimeter"
      ]
    },
    {
      "cell_type": "markdown",
      "id": "77d591e6",
      "metadata": {
        "id": "77d591e6",
        "notebookgrader": {
          "id": "f7bc7ef9443c90fe8481a689e3ff4a43e87de832",
          "readonly": true
        }
      },
      "source": [
        "### Methods with arguments\n",
        "\n",
        "Let's now consider a class `FabricRectangle` with an additional method, that gives us the cost of the rectangle if it had to be manufactured using fabric:"
      ]
    },
    {
      "cell_type": "code",
      "execution_count": 11,
      "id": "f2d8bfb1",
      "metadata": {
        "id": "f2d8bfb1",
        "notebookgrader": {
          "id": "05008292675a11d15398d74d9197d68b4a8f9e4b",
          "is_solution": false,
          "is_tests": false,
          "readonly": true
        },
        "outputId": "d349fe7d-63b2-4ab0-cf73-8440e45a61fd"
      },
      "outputs": [],
      "source": [
        "class FabricRectangle(object):\n",
        "\n",
        "    def __init__(self, w, h):\n",
        "        self.w = w\n",
        "        self.h = h\n",
        "\n",
        "    def area(self):\n",
        "        return self.w * self.h\n",
        "\n",
        "    def cost(self, unit_fabric_cost):\n",
        "        \"\"\"Returns the total cost of the fabric to build a rectangle.\"\"\"\n",
        "        return unit_fabric_cost * self.area()\n",
        "\n",
        "    @property\n",
        "    def perimeter(self):\n",
        "        return 2 * (self.w + self.h)"
      ]
    },
    {
      "cell_type": "markdown",
      "id": "c2d32c43",
      "metadata": {
        "id": "c2d32c43",
        "notebookgrader": {
          "id": "e5e270e1ef42acb638b21e03af766f593e2bf4e8",
          "readonly": true
        }
      },
      "source": [
        "We can create a rectangle of this class via:"
      ]
    },
    {
      "cell_type": "code",
      "execution_count": 12,
      "id": "7e935311",
      "metadata": {
        "id": "7e935311",
        "notebookgrader": {
          "id": "591da49485bbe1bd6912c5297a03fc2a998f5005",
          "is_solution": false,
          "is_tests": false,
          "readonly": true
        },
        "outputId": "bf7b94cb-175b-4725-aad7-715d8b5b7869"
      },
      "outputs": [],
      "source": [
        "fabric_rectangle = FabricRectangle(4, 5)"
      ]
    },
    {
      "cell_type": "markdown",
      "id": "f6cc4871",
      "metadata": {
        "id": "f6cc4871",
        "notebookgrader": {
          "id": "c06622d76d479a3c79722008f2ace9ad7e309796",
          "readonly": true
        }
      },
      "source": [
        "and compute its cost with a certain fabric via:"
      ]
    },
    {
      "cell_type": "code",
      "execution_count": 13,
      "id": "2ee94b95",
      "metadata": {
        "colab": {
          "base_uri": "https://localhost:8080/"
        },
        "id": "2ee94b95",
        "notebookgrader": {
          "id": "3b92f3aa16bcd72d4e646125416d2ac4ba29c70b",
          "is_solution": false,
          "is_tests": false,
          "readonly": true
        },
        "outputId": "8c35832c-b77d-48b9-b867-826c4d0b69f1"
      },
      "outputs": [
        {
          "data": {
            "text/plain": [
              "240"
            ]
          },
          "execution_count": 13,
          "metadata": {},
          "output_type": "execute_result"
        }
      ],
      "source": [
        "fabric_rectangle.cost(12)"
      ]
    },
    {
      "cell_type": "markdown",
      "id": "ffaa55a5",
      "metadata": {
        "id": "ffaa55a5",
        "notebookgrader": {
          "id": "3601b42a50fd1b83df5e9c9de360a2edfe635170",
          "readonly": true
        }
      },
      "source": [
        "The method `cost` was defined via:\n",
        "\n",
        "```\n",
        "    def cost(self, unit_fabric_cost):\n",
        "```\n",
        "and:\n",
        "\n",
        "* `fabric_rectangle` is assigned to `self`,\n",
        "* `12` is assigned to `unit_fabric_cost.\n"
      ]
    },
    {
      "cell_type": "markdown",
      "id": "b9bc817f",
      "metadata": {
        "id": "b9bc817f",
        "notebookgrader": {
          "id": "c7774a906949065cd11a91db230e06abe9c836ca",
          "readonly": true
        }
      },
      "source": [
        "### Calling methods via the class name\n",
        "\n",
        "Note that you could achieve the same goal by calling:"
      ]
    },
    {
      "cell_type": "code",
      "execution_count": 14,
      "id": "10b42db9",
      "metadata": {
        "colab": {
          "base_uri": "https://localhost:8080/"
        },
        "id": "10b42db9",
        "notebookgrader": {
          "id": "dddd3b53fd9891d4184fa4538705795459b26e9d",
          "is_solution": false,
          "is_tests": false,
          "readonly": true
        },
        "outputId": "0a0095b8-b884-43c4-ffe6-10e18f5e8ec5"
      },
      "outputs": [
        {
          "data": {
            "text/plain": [
              "240"
            ]
          },
          "execution_count": 14,
          "metadata": {},
          "output_type": "execute_result"
        }
      ],
      "source": [
        "FabricRectangle.cost(fabric_rectangle, 12)"
      ]
    },
    {
      "cell_type": "markdown",
      "id": "01766831",
      "metadata": {
        "id": "01766831",
        "notebookgrader": {
          "id": "06d5de6e88d531d3b7f81826a9e8b69c27340e73",
          "readonly": true
        }
      },
      "source": [
        "In this way, we specify explicitly that we call the `cost` method of the `FabricRectangle` class, with arguments `(fabric_rectangle, 12)` for `(self, cost)`.  However, the above is not a commonly used way of calling methods in Python.  Normally, you call methods on objects using the `object.method(...)` syntax."
      ]
    },
    {
      "cell_type": "markdown",
      "id": "fe3ec817",
      "metadata": {
        "id": "fe3ec817",
        "notebookgrader": {
          "id": "1ab022b64b9a58e77ce8edc6c535f00b1a6f9203",
          "readonly": true
        }
      },
      "source": [
        "### Properties\n",
        "\n",
        "The method perimeter has a `@property` decorator around it. This makes it possible to call it without the `()`, so that you can write:"
      ]
    },
    {
      "cell_type": "code",
      "execution_count": 15,
      "id": "aab339a4",
      "metadata": {
        "colab": {
          "base_uri": "https://localhost:8080/"
        },
        "id": "aab339a4",
        "notebookgrader": {
          "id": "447bf6b3306c33c67dd57ca7e38b4a186f489b0f",
          "is_solution": false,
          "is_tests": false,
          "readonly": true
        },
        "outputId": "80cb038c-76e2-4e8b-a057-c458cf4313c1"
      },
      "outputs": [
        {
          "data": {
            "text/plain": [
              "14"
            ]
          },
          "execution_count": 15,
          "metadata": {},
          "output_type": "execute_result"
        }
      ],
      "source": [
        "r.perimeter"
      ]
    },
    {
      "cell_type": "markdown",
      "id": "e07f085d",
      "metadata": {
        "id": "e07f085d",
        "notebookgrader": {
          "id": "e5f636818f5e7452debac1dd22d01a9c618eda4d",
          "readonly": true
        }
      },
      "source": [
        "rather than `r.perimeter()`. That's all there is to it.  Properties are very handy, as they allow you to create computed properties of methods that look like attributes."
      ]
    },
    {
      "cell_type": "markdown",
      "id": "a8320c98",
      "metadata": {
        "id": "a8320c98",
        "notebookgrader": {
          "id": "a4cf5364a4207815c3790417337a61cd390206a3",
          "readonly": true
        }
      },
      "source": [
        "### Static methods\n",
        "\n",
        "Sometimes, a method does not depend from the object itself -- that is, its implementation does not mention `self`.  In that case, you can make it into a _static_ method.  For instance, we can define a class `UpAndDown` of string methods like this:"
      ]
    },
    {
      "cell_type": "code",
      "execution_count": 16,
      "id": "1a83a30c",
      "metadata": {
        "id": "1a83a30c",
        "notebookgrader": {
          "id": "0b34635be09d7eacc08fa2d4387033b468002de5",
          "is_solution": false,
          "is_tests": false,
          "readonly": true
        },
        "outputId": "44b59031-c0bb-413c-8b60-3e786cd915e7"
      },
      "outputs": [],
      "source": [
        "class UpAndDown(object):\n",
        "\n",
        "    def up(self, s):\n",
        "        return s.upper()\n",
        "\n",
        "    def down(self, s):\n",
        "        return s.lower()"
      ]
    },
    {
      "cell_type": "markdown",
      "id": "ce13f532",
      "metadata": {
        "id": "ce13f532",
        "notebookgrader": {
          "id": "dff54d37134d8d47a0a46840f7625cdcac45a6d7",
          "readonly": true
        }
      },
      "source": [
        "The methods `up` and `down` are not applied to the object; they are just conveniently grouped in a class.  You can then make them static:"
      ]
    },
    {
      "cell_type": "code",
      "execution_count": 17,
      "id": "ffcce7eb",
      "metadata": {
        "id": "ffcce7eb",
        "notebookgrader": {
          "id": "86cbd60cc4003295a04f7148443c3d34ee4cf164",
          "is_solution": false,
          "is_tests": false,
          "readonly": true
        },
        "outputId": "598cad91-bb52-4321-98ef-e45fc29cd481"
      },
      "outputs": [],
      "source": [
        "class UpAndDown(object):\n",
        "\n",
        "    @staticmethod\n",
        "    def up(s):\n",
        "        return s.upper()\n",
        "\n",
        "    @staticmethod\n",
        "    def down(self, s):\n",
        "        return s.lower()"
      ]
    },
    {
      "cell_type": "code",
      "execution_count": 18,
      "id": "f02fff5f",
      "metadata": {
        "colab": {
          "base_uri": "https://localhost:8080/",
          "height": 35
        },
        "id": "f02fff5f",
        "notebookgrader": {
          "id": "5023a25781c955df93c10e274f869004d50b8810",
          "is_solution": false,
          "is_tests": false,
          "readonly": true
        },
        "outputId": "ff452ed7-d599-4c99-8229-56fdfda3fd9c"
      },
      "outputs": [
        {
          "data": {
            "text/plain": [
              "'CAT'"
            ]
          },
          "execution_count": 18,
          "metadata": {},
          "output_type": "execute_result"
        }
      ],
      "source": [
        "s = \"cat\"\n",
        "UpAndDown.up(s)"
      ]
    },
    {
      "cell_type": "markdown",
      "id": "8a244d1a",
      "metadata": {
        "id": "8a244d1a",
        "notebookgrader": {
          "id": "cd2f1aaa3711d160b04ad12de957be72113edc8a",
          "readonly": true
        }
      },
      "source": [
        "As you see from the above exammple, static methods are called using the class name, followed by a dot, followed by the static method name."
      ]
    },
    {
      "cell_type": "markdown",
      "id": "41c2a5fb",
      "metadata": {
        "id": "41c2a5fb",
        "notebookgrader": {
          "id": "b1078f168bcc122112df0cc3728ecba8e3598a87",
          "readonly": true
        }
      },
      "source": [
        "### dir() : directory listing an object\n",
        "\n",
        "If you are wondering what are all the attributes of a class, `dir()` gives you a list:"
      ]
    },
    {
      "cell_type": "code",
      "execution_count": 19,
      "id": "d12bc7cb",
      "metadata": {
        "colab": {
          "base_uri": "https://localhost:8080/"
        },
        "id": "d12bc7cb",
        "notebookgrader": {
          "id": "5360f78436d3165bb38b004087f42cd1e515520c",
          "is_solution": false,
          "is_tests": false,
          "readonly": true
        },
        "outputId": "08560c80-ab0e-4400-e4c9-4e6ffd1cc03a"
      },
      "outputs": [
        {
          "data": {
            "text/plain": [
              "['__class__',\n",
              " '__delattr__',\n",
              " '__dict__',\n",
              " '__dir__',\n",
              " '__doc__',\n",
              " '__eq__',\n",
              " '__format__',\n",
              " '__ge__',\n",
              " '__getattribute__',\n",
              " '__getstate__',\n",
              " '__gt__',\n",
              " '__hash__',\n",
              " '__init__',\n",
              " '__init_subclass__',\n",
              " '__le__',\n",
              " '__lt__',\n",
              " '__module__',\n",
              " '__ne__',\n",
              " '__new__',\n",
              " '__reduce__',\n",
              " '__reduce_ex__',\n",
              " '__repr__',\n",
              " '__setattr__',\n",
              " '__sizeof__',\n",
              " '__str__',\n",
              " '__subclasshook__',\n",
              " '__weakref__',\n",
              " 'area',\n",
              " 'border',\n",
              " 'h',\n",
              " 'perimeter',\n",
              " 'w']"
            ]
          },
          "execution_count": 19,
          "metadata": {},
          "output_type": "execute_result"
        }
      ],
      "source": [
        "dir(r)"
      ]
    },
    {
      "cell_type": "markdown",
      "id": "5c84c168",
      "metadata": {
        "id": "5c84c168",
        "notebookgrader": {
          "id": "e45d991ea666614e1863f970f8e032b0c7fc9b91",
          "readonly": true
        }
      },
      "source": [
        "The list contains both attributes and methods: to Python, these are the same, they are all attributes: it's just that `r.h` has a number as value, and `r.area` has a function as value.\n",
        "\n",
        "The list contains both the attributes specific to our `Rectangle` class (`area`, `h`, `perimeter`, `w`, `__init__`), and the attributes that every Python `object` has."
      ]
    },
    {
      "cell_type": "markdown",
      "id": "e421d8a6",
      "metadata": {
        "id": "e421d8a6",
        "notebookgrader": {
          "id": "647afc3f8a7bfbe1da2ba82e7131d99ee140d469",
          "readonly": true
        }
      },
      "source": [
        "### Accessing attributes by name: `getattr` and `setattr`\n",
        "\n",
        "The typical way of accessing an object attributes is via the dot notation, as in:"
      ]
    },
    {
      "cell_type": "code",
      "execution_count": 20,
      "id": "3f60a79c",
      "metadata": {
        "colab": {
          "base_uri": "https://localhost:8080/"
        },
        "id": "3f60a79c",
        "notebookgrader": {
          "id": "982eab5acf66729421c6ff66e0e598a1fefb19ed",
          "is_solution": false,
          "is_tests": false,
          "readonly": true
        },
        "outputId": "370acbab-a776-4292-bf22-3b5c721588bb"
      },
      "outputs": [
        {
          "data": {
            "text/plain": [
              "3"
            ]
          },
          "execution_count": 20,
          "metadata": {},
          "output_type": "execute_result"
        }
      ],
      "source": [
        "r.w"
      ]
    },
    {
      "cell_type": "code",
      "execution_count": 21,
      "id": "fda961a3",
      "metadata": {
        "colab": {
          "base_uri": "https://localhost:8080/"
        },
        "id": "fda961a3",
        "notebookgrader": {
          "id": "55afc7e77d5249df788cbe75007e01265f5b2967",
          "is_solution": false,
          "is_tests": false,
          "readonly": true
        },
        "outputId": "2a744796-1f11-4c2d-9a2d-ab398d2ee6f8"
      },
      "outputs": [
        {
          "data": {
            "text/plain": [
              "14"
            ]
          },
          "execution_count": 21,
          "metadata": {},
          "output_type": "execute_result"
        }
      ],
      "source": [
        "r.perimeter"
      ]
    },
    {
      "cell_type": "markdown",
      "id": "fa7f379b",
      "metadata": {
        "id": "fa7f379b",
        "notebookgrader": {
          "id": "07c92a4962e762f9f5bc867369dae835ec9ae008",
          "readonly": true
        }
      },
      "source": [
        "If the _name_ of an attribute is given to you as a string, you can use `getattr` to get the corresponding attribute:"
      ]
    },
    {
      "cell_type": "code",
      "execution_count": 22,
      "id": "2823a55d",
      "metadata": {
        "colab": {
          "base_uri": "https://localhost:8080/"
        },
        "id": "2823a55d",
        "notebookgrader": {
          "id": "73c96ee95961f7dd46a74fb56c66864dc2fac0d7",
          "is_solution": false,
          "is_tests": false,
          "readonly": true
        },
        "outputId": "7664d087-0512-45b6-a333-729438209a72"
      },
      "outputs": [
        {
          "name": "stdout",
          "output_type": "stream",
          "text": [
            "w : 3\n",
            "perimeter : 14\n"
          ]
        }
      ],
      "source": [
        "for s in ['w', 'perimeter']:\n",
        "    # Let's get the attribute called s.\n",
        "    a = getattr(r, s)\n",
        "    # and call it.\n",
        "    print(s, \":\", a)"
      ]
    },
    {
      "cell_type": "markdown",
      "id": "64d0a461",
      "metadata": {
        "id": "64d0a461",
        "notebookgrader": {
          "id": "358df5c4b533e2f686e9a056822297cf0fecc033",
          "readonly": true
        }
      },
      "source": [
        "You can also get methods in this way:"
      ]
    },
    {
      "cell_type": "code",
      "execution_count": 23,
      "id": "69dfb878",
      "metadata": {
        "colab": {
          "base_uri": "https://localhost:8080/"
        },
        "id": "69dfb878",
        "notebookgrader": {
          "id": "e43d588814203792f2dcd598ccca249da3618e87",
          "is_solution": false,
          "is_tests": false,
          "readonly": true
        },
        "outputId": "862ea583-f6d8-4ef1-9e08-6d7e75486860"
      },
      "outputs": [
        {
          "data": {
            "text/plain": [
              "12"
            ]
          },
          "execution_count": 23,
          "metadata": {},
          "output_type": "execute_result"
        }
      ],
      "source": [
        "area_method = getattr(r, \"area\")\n",
        "area_method()"
      ]
    },
    {
      "cell_type": "markdown",
      "id": "2914f355",
      "metadata": {
        "id": "2914f355",
        "notebookgrader": {
          "id": "30faf859a82ed23efca37671a20b8c283b5f76e8",
          "readonly": true
        }
      },
      "source": [
        "You can get the methods also from the class:"
      ]
    },
    {
      "cell_type": "code",
      "execution_count": 24,
      "id": "764e662e",
      "metadata": {
        "colab": {
          "base_uri": "https://localhost:8080/"
        },
        "id": "764e662e",
        "notebookgrader": {
          "id": "06b5f817980c15cf31225f3b8daf7baf203bd082",
          "is_solution": false,
          "is_tests": false,
          "readonly": true
        },
        "outputId": "1640d9ef-0f18-4035-ff60-365b608076a1"
      },
      "outputs": [
        {
          "data": {
            "text/plain": [
              "12"
            ]
          },
          "execution_count": 24,
          "metadata": {},
          "output_type": "execute_result"
        }
      ],
      "source": [
        "area_method_from_class = getattr(Rectangle, \"area\")\n",
        "area_method_from_class(r)"
      ]
    },
    {
      "cell_type": "markdown",
      "id": "a5c73fbf",
      "metadata": {
        "id": "a5c73fbf",
        "notebookgrader": {
          "id": "728c13d5b29085c8053eeb9990c60f3375a9d2ff",
          "readonly": true
        }
      },
      "source": [
        "In that case, you have to specify the value for `self`, that is, the object to which the method is applied, as the first parameter, as we did above."
      ]
    },
    {
      "cell_type": "markdown",
      "id": "520e1c57",
      "metadata": {
        "id": "520e1c57",
        "notebookgrader": {
          "id": "0987ea4e8634bec1ed339a5628fad8e9562990f4",
          "readonly": true
        }
      },
      "source": [
        "You can use `setattr` to set attributes of object, for example, you can do with dot notation:"
      ]
    },
    {
      "cell_type": "code",
      "execution_count": 25,
      "id": "9439a7d2",
      "metadata": {
        "id": "9439a7d2",
        "notebookgrader": {
          "id": "1867bc4b586fd67419a84ee397b6160a728c140f",
          "is_solution": false,
          "is_tests": false,
          "readonly": true
        },
        "outputId": "7679b76e-a599-4f10-e734-2399e016b00a"
      },
      "outputs": [],
      "source": [
        "r.color = \"blue\""
      ]
    },
    {
      "cell_type": "markdown",
      "id": "1ddfbecb",
      "metadata": {
        "id": "1ddfbecb",
        "notebookgrader": {
          "id": "d35eda5d5c500d620a4309e28ba96c51445e7a9b",
          "readonly": true
        }
      },
      "source": [
        "or equivalently,"
      ]
    },
    {
      "cell_type": "code",
      "execution_count": 26,
      "id": "6447010c",
      "metadata": {
        "colab": {
          "base_uri": "https://localhost:8080/",
          "height": 35
        },
        "id": "6447010c",
        "notebookgrader": {
          "id": "e828b0277c4eaea1df87287229f81d9f45b30311",
          "is_solution": false,
          "is_tests": false,
          "readonly": true
        },
        "outputId": "907112bf-e064-48dc-9977-1e4103a93565"
      },
      "outputs": [
        {
          "data": {
            "text/plain": [
              "'green'"
            ]
          },
          "execution_count": 26,
          "metadata": {},
          "output_type": "execute_result"
        }
      ],
      "source": [
        "setattr(r, \"color\", \"green\")\n",
        "r.color"
      ]
    },
    {
      "cell_type": "markdown",
      "id": "badfc51f",
      "metadata": {
        "id": "badfc51f",
        "notebookgrader": {
          "id": "59255c66753f7c28938a5bed988938a0b091912a",
          "readonly": true
        }
      },
      "source": [
        "## Subclasses\n",
        "\n",
        "You can define a class to be a subclass of another.  In that case, the subclass inherits all the attributes and methods of the superclass, and you can add new methods to it.\n",
        "\n",
        "For instance, it is quite wasteful to repeat in the `FabricRectangle` class all of the code of `Rectangle`, just to add the `cost` method.  It is much more concise to define `FabricRectangle` as a subclass of `Rectangle`, like this:"
      ]
    },
    {
      "cell_type": "code",
      "execution_count": 27,
      "id": "d65be4e5",
      "metadata": {
        "id": "d65be4e5",
        "notebookgrader": {
          "id": "15e8e13181f35c823da63c64b7b6f89405b0564b",
          "is_solution": false,
          "is_tests": false,
          "readonly": true
        },
        "outputId": "24788b53-028d-4bc1-c17e-dafc1eb9d0f1"
      },
      "outputs": [],
      "source": [
        "class FabricRectangle(Rectangle):\n",
        "\n",
        "    def __init__(self, w, h, unit_cost=None):\n",
        "        super().__init__(w, h)\n",
        "        self.unit_cost = unit_cost\n",
        "\n",
        "    def cost(self, unit_fabric_cost=None):\n",
        "        \"\"\"Returns the total cost of the fabric to build a rectangle.\"\"\"\n",
        "        # At least one cost should be specified.\n",
        "        c = unit_fabric_cost if unit_fabric_cost is not None else self.cost\n",
        "        assert c is not None, \"No cost specified\"\n",
        "        return c * self.area()"
      ]
    },
    {
      "cell_type": "code",
      "execution_count": 28,
      "id": "ee3c53b7",
      "metadata": {
        "colab": {
          "base_uri": "https://localhost:8080/"
        },
        "id": "ee3c53b7",
        "notebookgrader": {
          "id": "62774f254d048faca2fde46af98332d99c3799f3",
          "is_solution": false,
          "is_tests": false,
          "readonly": true
        },
        "outputId": "38aad1d3-742c-4a91-d3be-fe13084f86b9"
      },
      "outputs": [
        {
          "name": "stdout",
          "output_type": "stream",
          "text": [
            "Cost for fabric with unit cost 12: 240\n",
            "Perimeter: 18\n"
          ]
        }
      ],
      "source": [
        "fr = FabricRectangle(4, 5)\n",
        "print(\"Cost for fabric with unit cost 12:\", fr.cost(12))\n",
        "print(\"Perimeter:\", fr.perimeter)"
      ]
    },
    {
      "cell_type": "markdown",
      "id": "a9f8789a",
      "metadata": {
        "id": "a9f8789a",
        "notebookgrader": {
          "id": "05e124944f5f8e69ee807743c15afd8de3756a8d",
          "readonly": true
        }
      },
      "source": [
        "In the above definition, `class FabricRectangle(Rectangle)` indicates that the class `FabricRectangle` is a subclass of `Rectangle`, just as `Rectangle` in turn was a subclass of the class `object` of Python: `object` is the _\"mother of all classes\"_ in Python."
      ]
    },
    {
      "cell_type": "markdown",
      "id": "49c8133b",
      "metadata": {
        "id": "49c8133b",
        "notebookgrader": {
          "id": "15757f40112c035bd7f431d80a0bfbe6d9b82377",
          "readonly": true
        }
      },
      "source": [
        "When we create an object of class `FabricRectangle` via `fr = FabricRectangle(4, 5)`, the following happens:\n",
        "\n",
        "* First, a generic object `obj` of class `FabricRectangle` is created; this object is empty (its attributes are not defined yet).  \n",
        "* Then, we call the `__init__` method of the superclass, which is `Rectangle`, passing to it arguments `w` and `h`.  This init method will set `self.w` and `self.h` to their proper values.\n",
        "* Finally, we also set `self.unit_cost` to the unit cost, which in this case is None.\n",
        "\n",
        "The initializazion could have written in at least a couple of equivalent ways:\n",
        "\n",
        "```\n",
        "    def __init__(self, w, h, unit_cost=None):\n",
        "        Rectangle.__init__(self, w, h)\n",
        "        self.unit_cost = unit_cost\n",
        "```\n",
        "\n",
        "But this is rather ugly; it's better to use `super()` to get the superclass.  Another way is:\n",
        "\n",
        "```\n",
        "    def __init__(self, w, h, unit_cost=None):\n",
        "        self.w = w\n",
        "        self.h = h\n",
        "        self.unit_cost = unit_cost\n",
        "```\n",
        "\n",
        "but this is also bad form, since if we change the way the initializer for `Rectangle` works, we would need to change the code here, which is not so nice."
      ]
    },
    {
      "cell_type": "markdown",
      "id": "6511d98f",
      "metadata": {
        "id": "6511d98f",
        "notebookgrader": {
          "id": "868d80042162ba6526e29365384092b199939e19",
          "readonly": true
        }
      },
      "source": [
        "### Checking the type of an object"
      ]
    },
    {
      "cell_type": "markdown",
      "id": "1e8331da",
      "metadata": {
        "id": "1e8331da",
        "notebookgrader": {
          "id": "f63a4690023df4dfae950f997d19134746a58277",
          "readonly": true
        }
      },
      "source": [
        "You can check the type of an object as follows. This is true, as `fr` is a `FabricRectangle`:"
      ]
    },
    {
      "cell_type": "code",
      "execution_count": 29,
      "id": "d28d0149",
      "metadata": {
        "colab": {
          "base_uri": "https://localhost:8080/"
        },
        "id": "d28d0149",
        "notebookgrader": {
          "id": "4e75dc86a8b0ba49d8c4a14cc262c091ea5aded7",
          "is_solution": false,
          "is_tests": false,
          "readonly": true
        },
        "outputId": "ce169ab7-54f1-492c-85b6-a5e0fdf46ab8"
      },
      "outputs": [
        {
          "data": {
            "text/plain": [
              "True"
            ]
          },
          "execution_count": 29,
          "metadata": {},
          "output_type": "execute_result"
        }
      ],
      "source": [
        "isinstance(fr, FabricRectangle)"
      ]
    },
    {
      "cell_type": "markdown",
      "id": "b72181af",
      "metadata": {
        "id": "b72181af",
        "notebookgrader": {
          "id": "767bf525ab2c3ec45cb1eb9129ea8114132b237f",
          "readonly": true
        }
      },
      "source": [
        "Due to inheritance, `fr` is also a `Rectangle`:"
      ]
    },
    {
      "cell_type": "code",
      "execution_count": 30,
      "id": "897c0441",
      "metadata": {
        "colab": {
          "base_uri": "https://localhost:8080/"
        },
        "id": "897c0441",
        "notebookgrader": {
          "id": "acaf7974b0e077c4fbe59ca86f8925207eb63d72",
          "is_solution": false,
          "is_tests": false,
          "readonly": true
        },
        "outputId": "092a8ceb-4a1d-422d-bc8f-be28818e19ba"
      },
      "outputs": [
        {
          "data": {
            "text/plain": [
              "True"
            ]
          },
          "execution_count": 30,
          "metadata": {},
          "output_type": "execute_result"
        }
      ],
      "source": [
        "isinstance(fr, Rectangle)"
      ]
    },
    {
      "cell_type": "markdown",
      "id": "4ea70707",
      "metadata": {
        "id": "4ea70707",
        "notebookgrader": {
          "id": "92308f0c94e8fd75e1cf46f9c78a7b0040fda292",
          "readonly": true
        }
      },
      "source": [
        "You can get the class of an object via `obj.__class__`, and the name by accessing `__name__` on the class, as follows:"
      ]
    },
    {
      "cell_type": "code",
      "execution_count": 31,
      "id": "1744eb2d",
      "metadata": {
        "colab": {
          "base_uri": "https://localhost:8080/",
          "height": 35
        },
        "id": "1744eb2d",
        "notebookgrader": {
          "id": "5ec9cec1b9336123f3cfcf42e2a0b9ccfd66d50a",
          "is_solution": false,
          "is_tests": false,
          "readonly": true
        },
        "outputId": "1c9b2cbf-6f0c-44f3-b22f-74ce02527c43"
      },
      "outputs": [
        {
          "data": {
            "text/plain": [
              "'FabricRectangle'"
            ]
          },
          "execution_count": 31,
          "metadata": {},
          "output_type": "execute_result"
        }
      ],
      "source": [
        "fr.__class__.__name__"
      ]
    },
    {
      "cell_type": "markdown",
      "id": "b7f22efc",
      "metadata": {
        "id": "b7f22efc",
        "notebookgrader": {
          "id": "1caa6d487ca03210d26bf7104020245798bf17bc",
          "readonly": true
        }
      },
      "source": [
        "## Creating Datatypes\n",
        "\n",
        "By implementing class methods defined in the [Python data model](https://docs.python.org/3/reference/datamodel.html), you can create objects that behave like numbers, dictionaries, and more.\n"
      ]
    },
    {
      "cell_type": "markdown",
      "id": "3b7fa270",
      "metadata": {
        "id": "3b7fa270",
        "notebookgrader": {
          "id": "282e690d0cdb3fade82234936c7bebc03ece671c",
          "readonly": true
        }
      },
      "source": [
        "### Implementing arithmetic operators\n",
        "\n",
        "We can define the effect of arithmetic operators such as `+`, `-`, `*`, `/` on objects of the class.  For example, to ensure that\n",
        "\n",
        "    obj1 + obj2\n",
        "\n",
        "can be evaluated, all we need to do is define an [`__add__` method](https://docs.python.org/3/reference/datamodel.html#object.__add__) :\n",
        "\n",
        "```\n",
        "    def add(self, other):\n",
        "```\n",
        "\n",
        "where `self` is the object on the left of `+` (`obj1` in the code above) and `other` is the object on the right (`obj2` in the code above).\n",
        "\n",
        "For example, here is how you would implement complex numbers with their four operations:"
      ]
    },
    {
      "cell_type": "code",
      "execution_count": 32,
      "id": "64ff30d7",
      "metadata": {
        "id": "64ff30d7",
        "notebookgrader": {
          "id": "7cc4b0064df9a7e359ef1f7005c9693b6ca2eec1",
          "is_solution": false,
          "is_tests": false,
          "readonly": true
        },
        "outputId": "d4ff496a-59a7-49d3-888f-26af83a181ab"
      },
      "outputs": [],
      "source": [
        "import math\n",
        "\n",
        "class Complex(object):\n",
        "\n",
        "    def __init__(self, r, i):\n",
        "        self.r = r # Real part\n",
        "        self.i = i # Imaginary part\n",
        "\n",
        "    def __add__(self, other):\n",
        "        return Complex(self.r + other.r, self.i + other.i)\n",
        "\n",
        "    def __sub__(self, other):\n",
        "        return Complex(self.r - other.r, self.i - other.i)\n",
        "\n",
        "    def __mul__(self, other):\n",
        "        return Complex((self.r * other.r - self.i * other.i),\n",
        "                       (self.r * other.i + self.i * other.r))\n",
        "\n",
        "    @property\n",
        "    def modulus_square(self):\n",
        "        return self.r * self.r + self.i * self.i\n",
        "\n",
        "    @property\n",
        "    def modulus(self):\n",
        "        return math.sqrt(self.modulus_square)\n",
        "\n",
        "    def inverse(self):\n",
        "        m = self.modulus_square # to cache it\n",
        "        return Complex(self.r / m, - self.i / m)\n",
        "\n",
        "    def __truediv__(self, other):\n",
        "        return self * other.inverse()\n",
        "\n",
        "    def __repr__(self):\n",
        "        \"\"\"This defines how to print a complex number.\"\"\"\n",
        "        if self.i < 0:\n",
        "            return \"{}-{}i\".format(self.r, -self.i)\n",
        "        return \"{}+{}i\".format(self.r, self.i)\n",
        "\n",
        "    def __eq__(self, other):\n",
        "        \"\"\"We even define equality\"\"\"\n",
        "        return self.r == other.r and self.i == other.i"
      ]
    },
    {
      "cell_type": "code",
      "execution_count": 33,
      "id": "71da03f7",
      "metadata": {
        "colab": {
          "base_uri": "https://localhost:8080/"
        },
        "id": "71da03f7",
        "notebookgrader": {
          "id": "053f3b1ac39999c089e44bec4c3c9072c0919650",
          "is_solution": false,
          "is_tests": false,
          "readonly": true
        },
        "outputId": "d8097d29-07d3-4128-f7ca-47ddab8ca2cd"
      },
      "outputs": [
        {
          "data": {
            "text/plain": [
              "-1-1i"
            ]
          },
          "execution_count": 33,
          "metadata": {},
          "output_type": "execute_result"
        }
      ],
      "source": [
        "c1 = Complex(2, 3)\n",
        "c2 = Complex(3, 4)\n",
        "c1 - c2"
      ]
    },
    {
      "cell_type": "code",
      "execution_count": 34,
      "id": "102dbcd8",
      "metadata": {
        "colab": {
          "base_uri": "https://localhost:8080/"
        },
        "id": "102dbcd8",
        "notebookgrader": {
          "id": "0fa378015eb94d9b26522c29f54591e91debde00",
          "is_solution": false,
          "is_tests": false,
          "readonly": true
        },
        "outputId": "cc42aa79-c1b1-4916-fa53-054ef083a575"
      },
      "outputs": [
        {
          "data": {
            "text/plain": [
              "True"
            ]
          },
          "execution_count": 34,
          "metadata": {},
          "output_type": "execute_result"
        }
      ],
      "source": [
        "(c1 - c2) + c2 == c1"
      ]
    },
    {
      "cell_type": "code",
      "execution_count": 35,
      "id": "50049bfb",
      "metadata": {
        "colab": {
          "base_uri": "https://localhost:8080/"
        },
        "id": "50049bfb",
        "notebookgrader": {
          "id": "32c069e32b0fe17afc9ab08c9a0bc2dfcf3697e5",
          "is_solution": false,
          "is_tests": false,
          "readonly": true
        },
        "outputId": "f90b90e2-14b2-401b-95df-b4c774251856"
      },
      "outputs": [
        {
          "data": {
            "text/plain": [
              "True"
            ]
          },
          "execution_count": 35,
          "metadata": {},
          "output_type": "execute_result"
        }
      ],
      "source": [
        "(c1 / c2) * c2 == c1"
      ]
    },
    {
      "cell_type": "markdown",
      "id": "9b6ca314",
      "metadata": {
        "id": "9b6ca314",
        "notebookgrader": {
          "id": "dc87bf933e383f8d52c1a3e7a8f75152cdcf4d57",
          "readonly": true
        }
      },
      "source": [
        "### Equality and sorting\n",
        "\n",
        "To implement equality, as we saw above, all we need is to implement the `__eq__` method, which has signature `__eq__(self, other)`.\n",
        "\n",
        "To implement sorting, we need to implement `<`, defined by the `__lt__` method.  Rather than redefining the `Complex` class from scratch, we can add it to the class after the fact, like so.  This is not a common notation in Python, but it is very convenient in notebooks:"
      ]
    },
    {
      "cell_type": "code",
      "execution_count": 36,
      "id": "969ac445",
      "metadata": {
        "id": "969ac445",
        "notebookgrader": {
          "id": "b2beb9b3353c519275a7a400739a13a182d37447",
          "is_solution": false,
          "is_tests": false,
          "readonly": true
        },
        "outputId": "4b0621ee-7fe9-4222-d154-a1208405c20c"
      },
      "outputs": [],
      "source": [
        "def complex_lt(self, other):\n",
        "    \"\"\"We order complex numbers according to the lexicographic ordering\n",
        "    of their (real, imaginary) parts.\"\"\"\n",
        "    return (self.r, self.i) < (other.r, other.i)\n",
        "\n",
        "Complex.__lt__ = complex_lt"
      ]
    },
    {
      "cell_type": "code",
      "execution_count": 37,
      "id": "7e196e43",
      "metadata": {
        "colab": {
          "base_uri": "https://localhost:8080/"
        },
        "id": "7e196e43",
        "notebookgrader": {
          "id": "0852fe84c2af2260b597326ea961ed1b1aeb3d5e",
          "is_solution": false,
          "is_tests": false,
          "readonly": true
        },
        "outputId": "55aedeac-4bc9-4b91-eea1-38bf088fa382"
      },
      "outputs": [
        {
          "data": {
            "text/plain": [
              "True"
            ]
          },
          "execution_count": 37,
          "metadata": {},
          "output_type": "execute_result"
        }
      ],
      "source": [
        "c1 < c2"
      ]
    },
    {
      "cell_type": "code",
      "execution_count": 38,
      "id": "9dad9b21",
      "metadata": {
        "colab": {
          "base_uri": "https://localhost:8080/"
        },
        "id": "9dad9b21",
        "notebookgrader": {
          "id": "b26b1cec23967d98c7aba19b4c1af8bf125a0e20",
          "is_solution": false,
          "is_tests": false,
          "readonly": true
        },
        "outputId": "75cf9965-7afd-468e-f1f0-8ca7def50555"
      },
      "outputs": [
        {
          "data": {
            "text/plain": [
              "[2+3i, 3+4i]"
            ]
          },
          "execution_count": 38,
          "metadata": {},
          "output_type": "execute_result"
        }
      ],
      "source": [
        "c_list = [c2, c1]\n",
        "c_list.sort()\n",
        "c_list"
      ]
    },
    {
      "cell_type": "markdown",
      "id": "5ad9f9ba",
      "metadata": {
        "id": "5ad9f9ba",
        "notebookgrader": {
          "id": "9ef04868c1ff634a7e5b98953709184a4a6e4164",
          "readonly": true
        }
      },
      "source": [
        "### Implementing dictionary-like objects\n",
        "\n",
        "The `[]` method used to assign a value to a dictionary element, as in `d[3] = 'cat'`, is implemented via the `__setitem__` method, and the `[]` method used to get values from dictionaries, as in `d[3]`, is implemented via the `__getitem__` method.  So if you want to create objects that behave like dictionaries, just implement their [`__setitem__` and `__getitem__` methods](https://docs.python.org/3/reference/datamodel.html#emulating-container-types).  You can also implement `__len__` to return the length of the object."
      ]
    },
    {
      "cell_type": "markdown",
      "id": "b70a9d79",
      "metadata": {
        "id": "b70a9d79",
        "notebookgrader": {
          "id": "155a2ad2b5835b97475ebd26534088f8d3e3af8d",
          "readonly": true
        }
      },
      "source": [
        "## Excercise\n",
        "\n",
        "Please implement the methods `__delitem__` and `__contains__` below."
      ]
    },
    {
      "cell_type": "code",
      "execution_count": 39,
      "id": "d5575cfc",
      "metadata": {
        "id": "d5575cfc",
        "notebookgrader": {
          "id": "773f63cb9747a9399ffa92e2754a2864c3b936c5",
          "is_solution": false,
          "is_tests": false,
          "readonly": true
        }
      },
      "outputs": [],
      "source": [
        "# Let's import the time class.\n",
        "import time"
      ]
    },
    {
      "cell_type": "code",
      "execution_count": 40,
      "id": "3958d1f3",
      "metadata": {
        "id": "3958d1f3",
        "notebookgrader": {
          "id": "7fe1095aa188e04cae8aed2487d41f93554cd0a2",
          "is_solution": true,
          "is_tests": false,
          "readonly": false
        }
      },
      "outputs": [],
      "source": [
        "class TimestampedDict(object):\n",
        "    \"\"\"This is a dictionary that remembers at what time the values were set.\"\"\"\n",
        "\n",
        "    def __init__(self):\n",
        "        # The dictionary for the values...\n",
        "        self.d = {}\n",
        "        # ... and that for the timestamps.\n",
        "        self.ts = {}\n",
        "\n",
        "    def __setitem__(self, k, v):\n",
        "        \"\"\"Sets key k to value v\"\"\"\n",
        "        self.d[k] = v\n",
        "        self.ts[k] = time.time()\n",
        "\n",
        "    def __getitem__(self, k):\n",
        "        return self.d[k]\n",
        "\n",
        "    def age(self, k):\n",
        "        \"\"\"Returns the age of the k to v association.\"\"\"\n",
        "        return time.time() - self.ts[k]\n",
        "\n",
        "    def __len__(self):\n",
        "        \"\"\"Length of the dictionary.\"\"\"\n",
        "        return len(self.d)\n",
        "\n",
        "    def __delitem__(self, k):\n",
        "        \"\"\"Deletes the key k from the dictionary.\"\"\"\n",
        "        ### YOUR SOLUTION HERE\n",
        "        del self.d[k]\n",
        "        del self.ts[k]\n",
        "\n",
        "    def __contains__(self, k):\n",
        "        \"\"\"Checks if key k is in the dictionary.\"\"\"\n",
        "        ### YOUR SOLUTION HERE\n",
        "        return k in self.d"
      ]
    },
    {
      "cell_type": "markdown",
      "id": "5eae7462",
      "metadata": {
        "id": "5eae7462",
        "notebookgrader": {
          "id": "b5cf0d45abc47479bf249cfac8bfc5b739c4c0d4",
          "readonly": true
        }
      },
      "source": [
        "Let us test your solution, first of all."
      ]
    },
    {
      "cell_type": "code",
      "execution_count": 41,
      "id": "cf7e5a7a",
      "metadata": {
        "colab": {
          "base_uri": "https://localhost:8080/"
        },
        "id": "cf7e5a7a",
        "notebookgrader": {
          "id": "b060bc2b005e352b4f344d736e9b1ffbd1c97de4",
          "is_solution": false,
          "is_tests": true,
          "points_earned": 10,
          "readonly": true,
          "test_points": 10
        },
        "outputId": "111693a2-7ba1-43a8-dcae-31f0c66d29d5"
      },
      "outputs": [
        {
          "name": "stdout",
          "output_type": "stream",
          "text": [
            "All tests pass!\n"
          ]
        }
      ],
      "source": [
        "# Tests 10 points.  Tests for __delitem__\n",
        "\n",
        "tsd = TimestampedDict()\n",
        "tsd[\"cat\"] = 4\n",
        "tsd[\"dog\"] = 3\n",
        "del tsd[\"dog\"]\n",
        "assert \"cat\" in tsd.d, \"Cat is in\"\n",
        "assert \"dog\" not in tsd.d, \"Dog is not in\"\n",
        "\n",
        "\n",
        "print(\"All tests pass!\")"
      ]
    },
    {
      "cell_type": "code",
      "execution_count": 42,
      "id": "4d08cb5a",
      "metadata": {
        "colab": {
          "base_uri": "https://localhost:8080/"
        },
        "id": "4d08cb5a",
        "notebookgrader": {
          "id": "756aed8e9fe86fa4d0cdce452e35240480aecd8c",
          "is_solution": false,
          "is_tests": true,
          "points_earned": 10,
          "readonly": true,
          "test_points": 10
        },
        "outputId": "e6092b45-55d9-49bd-e425-dd68b43facfb"
      },
      "outputs": [
        {
          "name": "stdout",
          "output_type": "stream",
          "text": [
            "All tests pass!\n"
          ]
        }
      ],
      "source": [
        "# Tests 10 points.  Tests for __contains__\n",
        "\n",
        "tsd = TimestampedDict()\n",
        "tsd[\"cat\"] = 4\n",
        "tsd[\"dog\"] = 3\n",
        "assert \"cat\" in tsd, \"Cat is in\"\n",
        "assert \"bird\" not in tsd, \"Bird is not in\"\n",
        "\n",
        "\n",
        "print(\"All tests pass!\")"
      ]
    },
    {
      "cell_type": "code",
      "execution_count": 43,
      "id": "a2f69287",
      "metadata": {
        "colab": {
          "base_uri": "https://localhost:8080/"
        },
        "id": "a2f69287",
        "notebookgrader": {
          "id": "fddf1e875b26ba0b240fb7d293177ad30fb422fb",
          "is_solution": false,
          "is_tests": true,
          "points_earned": 10,
          "readonly": true,
          "test_points": 10
        },
        "outputId": "f4496733-e001-4206-f8c0-864d3a02ef6f"
      },
      "outputs": [
        {
          "name": "stdout",
          "output_type": "stream",
          "text": [
            "All tests pass!\n"
          ]
        }
      ],
      "source": [
        "# Tests 10 points.  All together now!\n",
        "\n",
        "tsd = TimestampedDict()\n",
        "tsd[\"cat\"] = 4\n",
        "tsd[\"dog\"] = 3\n",
        "assert \"cat\" in tsd, \"Cat is in\"\n",
        "assert \"dog\" in tsd, \"Dog also\"\n",
        "assert \"bird\" not in tsd, \"Bird is not in\"\n",
        "del tsd[\"dog\"]\n",
        "assert \"dog\" not in tsd, \"Dog no more in\"\n",
        "\n",
        "\n",
        "print(\"All tests pass!\")"
      ]
    },
    {
      "cell_type": "code",
      "execution_count": 44,
      "id": "001ff339",
      "metadata": {
        "colab": {
          "base_uri": "https://localhost:8080/"
        },
        "id": "001ff339",
        "notebookgrader": {
          "id": "abec93371879bc0acc824948823918828a466f5f",
          "is_solution": false,
          "is_tests": false,
          "readonly": true
        },
        "outputId": "50f66c7f-6345-4702-a1d5-d33961e9c01d"
      },
      "outputs": [
        {
          "name": "stdout",
          "output_type": "stream",
          "text": [
            "cat: value: 4 age: 1.5007104873657227\n",
            "bird: value: 5 age: 1.0004916191101074\n"
          ]
        }
      ],
      "source": [
        "tsd = TimestampedDict()\n",
        "tsd[\"cat\"] = 4\n",
        "time.sleep(0.5)\n",
        "tsd[\"bird\"] = 5\n",
        "time.sleep(1)\n",
        "print(\"cat: value:\", tsd[\"cat\"], \"age:\", tsd.age(\"cat\"))\n",
        "print(\"bird: value:\", tsd[\"bird\"], \"age:\", tsd.age(\"bird\"))\n"
      ]
    },
    {
      "cell_type": "code",
      "execution_count": null,
      "id": "16e0e195",
      "metadata": {
        "id": "16e0e195",
        "notebookgrader": {
          "id": "2ff338a4bc8463063f9a061d6a55b69f75bc3803",
          "is_solution": false,
          "is_tests": false,
          "readonly": true
        },
        "outputId": "ecde6f23-6db0-4bad-e800-142fc0beee8b"
      },
      "outputs": [],
      "source": []
    }
  ],
  "metadata": {
    "colab": {
      "provenance": []
    },
    "kernelspec": {
      "display_name": "Python 3",
      "name": "python3"
    },
    "language_info": {
      "codemirror_mode": {
        "name": "ipython",
        "version": 3
      },
      "file_extension": ".py",
      "mimetype": "text/x-python",
      "name": "python",
      "nbconvert_exporter": "python",
      "pygments_lexer": "ipython3",
      "version": "3.12.1"
    }
  },
  "nbformat": 4,
  "nbformat_minor": 5
}
