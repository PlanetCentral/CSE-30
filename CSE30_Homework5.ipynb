{
  "cells": [
    {
      "cell_type": "markdown",
      "id": "4917e95d",
      "metadata": {
        "id": "4917e95d",
        "notebookgrader": {
          "id": "fc0ba7996f0dfe4e262cc28854f38c1399551b76",
          "readonly": true
        }
      },
      "source": [
        "# Fractions\n",
        "## Copyright Luca de Alfaro, 2021."
      ]
    },
    {
      "cell_type": "markdown",
      "id": "572f45c7",
      "metadata": {
        "id": "572f45c7",
        "notebookgrader": {
          "id": "a8e8b5b82842933b3ab1c5affd6869e61c1d1f61",
          "readonly": true
        }
      },
      "source": [
        "We have seen in the chapter on classes how to implement complex numbers:"
      ]
    },
    {
      "cell_type": "code",
      "execution_count": 1,
      "id": "65d364d5",
      "metadata": {
        "id": "65d364d5",
        "notebookgrader": {
          "id": "02f66c36affe719084f08489ebce95c329e77f60",
          "is_solution": false,
          "is_tests": false,
          "readonly": true
        },
        "outputId": "6dbab110-2db0-4332-9f72-c41abf582883"
      },
      "outputs": [],
      "source": [
        "import math\n",
        "\n",
        "class Complex(object):\n",
        "\n",
        "    def __init__(self, r, i):\n",
        "        self.r = r # Real part\n",
        "        self.i = i # Imaginary part\n",
        "\n",
        "    def __add__(self, other):\n",
        "        return Complex(self.r + other.r, self.i + other.i)\n",
        "\n",
        "    def __sub__(self, other):\n",
        "        return Complex(self.r - other.r, self.i - other.i)\n",
        "\n",
        "    def __mul__(self, other):\n",
        "        return Complex((self.r * other.r - self.i * other.i),\n",
        "                       (self.r * other.i + self.i * other.r))\n",
        "\n",
        "    @property\n",
        "    def modulus_square(self):\n",
        "        return self.r * self.r + self.i * self.i\n",
        "\n",
        "    @property\n",
        "    def modulus(self):\n",
        "        return math.sqrt(self.modulus_square)\n",
        "\n",
        "    def inverse(self):\n",
        "        m = self.modulus_square # to cache it\n",
        "        return Complex(self.r / m, - self.i / m)\n",
        "\n",
        "    def __truediv__(self, other):\n",
        "        return self * other.inverse()\n",
        "\n",
        "    def __repr__(self):\n",
        "        \"\"\"This defines how to print a complex number.\"\"\"\n",
        "        if self.i < 0:\n",
        "            return \"{}-{}i\".format(self.r, -self.i)\n",
        "        return \"{}+{}i\".format(self.r, self.i)\n",
        "\n",
        "    def __eq__(self, other):\n",
        "        \"\"\"We even define equality\"\"\"\n",
        "        return self.r == other.r and self.i == other.i"
      ]
    },
    {
      "cell_type": "markdown",
      "id": "9b87f9c1",
      "metadata": {
        "id": "9b87f9c1",
        "notebookgrader": {
          "id": "396068b82a1e6b2bb4c54129ac6f3378f3fbd95e",
          "readonly": true
        }
      },
      "source": [
        "There are several ideas above:\n",
        "\n",
        "* To implement the mathematical operations `+`, `-`, `*`, `/`, between complex numbers, we implement the methods `__add__`, `__sub__`, `__mul__`, `__truediv__`.  You can find more information in the documentation for the [Python data model](https://docs.python.org/3/reference/datamodel.html).\n",
        "* Similarly, to define equality we define `__eq__`, and to define `<` we define `__lt__`.\n",
        "\n",
        "We will now do something similar to define fractions."
      ]
    },
    {
      "cell_type": "markdown",
      "id": "0b5864c2",
      "metadata": {
        "id": "0b5864c2",
        "notebookgrader": {
          "id": "7c6bba67fef0e05ac87b85ac18eced4a7cc7ffd4",
          "readonly": true
        }
      },
      "source": [
        "## Fractions, and normal form\n",
        "\n",
        "We want to define a class `Fraction` to represent a fraction, with integers as numerator and denominator.  \n",
        "Similarly to the `Complex` class above, you need to implement the methods necessary to define `+`, `-`, `*`, `/` among fractions, as well as equality.\n",
        "\n",
        "You will represent fractions in _normal form_, such that:\n",
        "* numerator and denumerator which do not have common factors (common divisors), except for 1 (of course),\n",
        "* the denominator is positive.\n",
        "\n",
        "For example, when you create a fraction via:\n",
        "\n",
        "    r = Fraction(8, 6)\n",
        "\n",
        "and then ask for the denominator,\n",
        "\n",
        "    r.numerator\n",
        "\n",
        "the result will be 4, and\n",
        "\n",
        "    r.denominator\n",
        "\n",
        "will be 3.\n",
        "\n",
        "To remove the common factors from a fraction $m/n$, simply compute the greatest common divisor $d = gcd(m, n)$ via Euclid's algorithm (see the chapter on recursion), and reduce the fraction to $(m/d) / (n/d)$.\n",
        "\n",
        "We advise you to reduce a fraction into normal form directly into the constructor of the class (the `__init__` method).  \n",
        "\n",
        "Here is the code for `Fraction`; we leave the interesting bits for you to do.\n"
      ]
    },
    {
      "cell_type": "code",
      "execution_count": 2,
      "id": "049b2f4a",
      "metadata": {
        "id": "049b2f4a",
        "notebookgrader": {
          "id": "5e5728465b56b9810f265455ab1538600a43f044",
          "is_solution": true,
          "is_tests": false,
          "readonly": false
        },
        "outputId": "2b6a2e9c-e15e-4a73-9651-b0e814120840"
      },
      "outputs": [],
      "source": [
        "#@title Definition of Fraction class\n",
        "\n",
        "# Here you can define any code that is useful to you\n",
        "# (e.g., the gcd function, or anything else you wish).\n",
        "### YOUR SOLUTION HERE\n",
        "def gcd(a, b):\n",
        "    \"\"\"Compute the greatest common divisor of a and b.\"\"\"\n",
        "    while b:\n",
        "        a, b = b, a % b\n",
        "    return a\n",
        "\n",
        "class Fraction(object):\n",
        "\n",
        "    def __init__(self, numerator, denominator):\n",
        "        assert isinstance(numerator, int)\n",
        "        assert isinstance(denominator, int)\n",
        "        assert denominator != 0\n",
        "        ### YOUR SOLUTION HERE\n",
        "        self.numerator = numerator\n",
        "        self.denominator = denominator\n",
        "        self.simplify()\n",
        "\n",
        "    def simplify(self):\n",
        "        \"\"\"Simplify the fraction to its smallest form.\"\"\"\n",
        "        common_divisor = gcd(self.numerator, self.denominator)\n",
        "        self.numerator //= common_divisor\n",
        "        self.denominator //= common_divisor\n",
        "        if self.denominator < 0:\n",
        "            self.numerator *= -1\n",
        "            self.denominator *= -1\n",
        "\n",
        "    def __repr__(self):\n",
        "        \"\"\"Pretty print a fraction.\"\"\"\n",
        "        return \"{}/{}\".format(self.numerator, self.denominator)\n",
        "\n",
        "    ## Here, implement the methods for +, -, *, /, =, and <.\n",
        "    ## Done quite at leisure, with spaces and all, this can be done in about\n",
        "    ## 25 lines of code.\n",
        "    ### YOUR SOLUTION HERE\n",
        "    def __add__(self, other):\n",
        "        new_numerator = self.numerator * other.denominator + other.numerator * self.denominator\n",
        "        new_denominator = self.denominator * other.denominator\n",
        "        return Fraction(new_numerator, new_denominator)\n",
        "\n",
        "    def __sub__(self, other):\n",
        "        new_numerator = self.numerator * other.denominator - other.numerator * self.denominator\n",
        "        new_denominator = self.denominator * other.denominator\n",
        "        return Fraction(new_numerator, new_denominator)\n",
        "\n",
        "    def __mul__(self, other):\n",
        "        new_numerator = self.numerator * other.numerator\n",
        "        new_denominator = self.denominator * other.denominator\n",
        "        return Fraction(new_numerator, new_denominator)\n",
        "\n",
        "    def __truediv__(self, other):\n",
        "        new_numerator = self.numerator * other.denominator\n",
        "        new_denominator = self.denominator * other.numerator\n",
        "        return Fraction(new_numerator, new_denominator)\n",
        "\n",
        "    def __eq__(self, other):\n",
        "        return self.numerator == other.numerator and self.denominator == other.denominator\n",
        "\n",
        "    def __lt__(self, other):\n",
        "        return self.numerator * other.denominator < other.numerator * self.denominator\n",
        "\n",
        "    def __repr__(self):\n",
        "        return \"{}/{}\".format(self.numerator, self.denominator)\n"
      ]
    },
    {
      "cell_type": "code",
      "execution_count": 3,
      "id": "5909a430",
      "metadata": {
        "colab": {
          "base_uri": "https://localhost:8080/"
        },
        "id": "5909a430",
        "notebookgrader": {
          "id": "e2faa5ae8abdc229f78fe1917b87b1a129a34f03",
          "is_solution": false,
          "is_tests": false,
          "readonly": true
        },
        "outputId": "b8351d89-e140-4065-ecb2-4303627c7920"
      },
      "outputs": [
        {
          "data": {
            "text/plain": [
              "4/3"
            ]
          },
          "execution_count": 3,
          "metadata": {},
          "output_type": "execute_result"
        }
      ],
      "source": [
        "Fraction(8, 6)\n"
      ]
    },
    {
      "cell_type": "markdown",
      "id": "8e69edd9",
      "metadata": {
        "id": "8e69edd9",
        "notebookgrader": {
          "id": "972ec5dd6d1d283255c63eb123559dbd3f83bc4e",
          "readonly": true
        }
      },
      "source": [
        "Here are some tests."
      ]
    },
    {
      "cell_type": "code",
      "execution_count": 4,
      "id": "e321a6a5",
      "metadata": {
        "id": "e321a6a5",
        "notebookgrader": {
          "id": "68497cb8d5ad898581342db314e3f29900d9ecc5",
          "is_solution": false,
          "is_tests": true,
          "points_earned": 10,
          "readonly": true,
          "test_points": 10
        },
        "outputId": "eb838c50-8562-4615-b8b4-7440de0ba9a8"
      },
      "outputs": [],
      "source": [
        "# Tests 10 points.\n",
        "\n",
        "## First, let us check that you correctly put the fraction into normal form,\n",
        "## without common factor between numerator and denominator, and with a\n",
        "## positive denominator.\n",
        "\n",
        "f = Fraction(8, 6)\n",
        "assert f.numerator == 4 and f.denominator == 3\n",
        "\n",
        "f = Fraction(-8, 6)\n",
        "assert f.numerator == -4 and f.denominator == 3\n",
        "\n",
        "f = Fraction(8, -6)\n",
        "assert f.numerator == -4 and f.denominator == 3\n",
        "\n",
        "f = Fraction(-8, -6)\n",
        "assert f.numerator == 4 and f.denominator == 3\n",
        "\n",
        "f = Fraction(0, 10)\n",
        "assert f.numerator == 0 and f.denominator == 1"
      ]
    },
    {
      "cell_type": "code",
      "execution_count": 5,
      "id": "88a0e9cb",
      "metadata": {
        "id": "88a0e9cb",
        "notebookgrader": {
          "id": "9cc9ee7fcf4e391244b6e416fd3278826ff7000e",
          "is_solution": false,
          "is_tests": true,
          "points_earned": 10,
          "readonly": true,
          "test_points": 10
        },
        "outputId": "92713cd3-5fdd-4e9b-86e3-165b2af2a95f"
      },
      "outputs": [],
      "source": [
        "# Tests 10 points.\n",
        "\n",
        "f = Fraction(8, 6) + Fraction(25, 20)\n",
        "assert f.numerator == 31 and f.denominator == 12\n",
        "assert f == Fraction(31, 12)\n",
        "assert f == Fraction(62, 24)\n",
        "\n",
        "assert Fraction(6, 4) + Fraction(-8, 6) == Fraction(6, 4) - Fraction(8, 6)\n",
        "assert not (Fraction(6, 4) + Fraction(-8, 6) == Fraction(6, 5) - Fraction(8, 6))\n"
      ]
    },
    {
      "cell_type": "code",
      "execution_count": 6,
      "id": "16170646",
      "metadata": {
        "id": "16170646",
        "notebookgrader": {
          "id": "68a74f6818b77aeed6f5bc64e893186900f666b2",
          "is_solution": false,
          "is_tests": true,
          "points_earned": 10,
          "readonly": true,
          "test_points": 10
        },
        "outputId": "59e521f4-623e-4748-ac89-88716ed61b16"
      },
      "outputs": [],
      "source": [
        "# Tests 10 points.\n",
        "\n",
        "assert Fraction(3, 2) * Fraction(2, 3) == Fraction(1, 1)\n",
        "assert Fraction(3, 2) / Fraction(2, 3) == Fraction(9, 4)\n",
        "assert Fraction(3, 2) / Fraction(6, 4) == Fraction(1, 1)\n",
        "assert Fraction(32, 16) == Fraction(2, 1)\n",
        "assert not Fraction(33, 16) == Fraction(4, 2)\n"
      ]
    },
    {
      "cell_type": "code",
      "execution_count": 7,
      "id": "c82e5454",
      "metadata": {
        "id": "c82e5454",
        "notebookgrader": {
          "id": "5f82d0ef1a963d404d9aedb64d4cfa37cbacb9d1",
          "is_solution": false,
          "is_tests": true,
          "points_earned": 10,
          "readonly": true,
          "test_points": 10
        },
        "outputId": "31e9d390-aff5-4dab-a926-085673ab0e0f"
      },
      "outputs": [],
      "source": [
        "# Tests 10 points.\n",
        "\n",
        "assert Fraction(5, 7) < Fraction(5, 6)\n",
        "assert Fraction(-3, 2) < Fraction(0, 3)\n"
      ]
    },
    {
      "cell_type": "code",
      "execution_count": 8,
      "id": "a67ff841",
      "metadata": {
        "id": "a67ff841",
        "notebookgrader": {
          "id": "cf3cda3b8ab4a3ad2afe0775e1e5740952c08d9e",
          "is_solution": false,
          "is_tests": true,
          "points_earned": 5,
          "readonly": true,
          "test_points": 5
        },
        "outputId": "ff24467a-b214-4aa2-9f84-6739763965c7"
      },
      "outputs": [],
      "source": [
        "# Tests 5 points.\n",
        "\n",
        "## Let's check you leave things unchanged.\n",
        "a = Fraction(7, 8)\n",
        "b = Fraction(-4, 5)\n",
        "a + b\n",
        "a / b\n",
        "a < b\n",
        "a * b\n",
        "assert a == Fraction(7, 8)\n",
        "assert b == Fraction(-4, 5)"
      ]
    },
    {
      "cell_type": "code",
      "execution_count": 9,
      "id": "d57b1d88",
      "metadata": {
        "id": "d57b1d88",
        "notebookgrader": {
          "id": "216a22e0aaa43a13d6908e37bd8b2257e882a8a8",
          "is_solution": false,
          "is_tests": true,
          "points_earned": 10,
          "readonly": true,
          "test_points": 10
        },
        "outputId": "0e83925f-6bb2-4be0-f47f-2a61de0b8120"
      },
      "outputs": [],
      "source": [
        "# Tests 10 points.\n",
        "\n",
        "## And finally, some random tests.\n",
        "import random\n",
        "for _ in range(1000):\n",
        "    a = Fraction(random.randint(-200, 200), random.randint(1, 100))\n",
        "    b = Fraction(random.randint(-200, 200), random.randint(1, 100))\n",
        "    c = Fraction(random.randint(-200, 200), random.randint(1, 100))\n",
        "    assert Fraction(-1, 1000) < (a - b) * (a - b)\n",
        "    assert (a - b) * (a + b) == a * a - b * b\n",
        "    z = Fraction(0, 1) # Zero, as a fraction.\n",
        "    if not ((a == z) or (b == z) or (c == z)):\n",
        "        assert (a / b) * b == (a / c) * c\n",
        "        assert (a / b) * (a / c) == (a * a) / (b * c)\n",
        "        assert (a / b) / (b / c) == (a * c) / (b * b)\n",
        "        assert (a * a * b * c) / (a * c) == a * b"
      ]
    },
    {
      "cell_type": "markdown",
      "id": "e2c0e6c6",
      "metadata": {
        "id": "e2c0e6c6",
        "notebookgrader": {
          "id": "784f9d8d48cf72eb6e6c1a44fcbd62248e868aa3",
          "readonly": true
        }
      },
      "source": [
        "## An Int class\n",
        "\n",
        "To define the value 7, you can write `Fraction(14, 2)` or `Fraction(7, 1)` (it's the same), but this is a bit inconvenient.  Write a subclass `Int` of `Fraction`, so that `Int(7)` generates a fraction with value 7."
      ]
    },
    {
      "cell_type": "code",
      "execution_count": 10,
      "id": "c456ad2e",
      "metadata": {
        "id": "c456ad2e",
        "notebookgrader": {
          "id": "00dcf34238aae17743d14f2c111ecd407fbd776d",
          "is_solution": true,
          "is_tests": false,
          "readonly": false
        },
        "outputId": "a3bfdc67-3f15-483d-cbf9-fd42bfe70132"
      },
      "outputs": [],
      "source": [
        "#@title Defining an Int class\n",
        "\n",
        "class Int(Fraction):\n",
        "\n",
        "    ### YOUR SOLUTION HERE\n",
        "    def __init__(self, numerator):\n",
        "        super().__init__(numerator, 1)"
      ]
    },
    {
      "cell_type": "markdown",
      "id": "09143e2f",
      "metadata": {
        "id": "09143e2f",
        "notebookgrader": {
          "id": "2bb81e5adfb2233b996319a57be6005ccef26954",
          "readonly": true
        }
      },
      "source": [
        "And now for some tests."
      ]
    },
    {
      "cell_type": "code",
      "execution_count": 11,
      "id": "59988f2e",
      "metadata": {
        "id": "59988f2e",
        "notebookgrader": {
          "id": "485ca159ec2e41ec6ead55c1dfdc0f52191a0daf",
          "is_solution": false,
          "is_tests": true,
          "points_earned": 10,
          "readonly": true,
          "test_points": 10
        },
        "outputId": "08910005-bbe3-489c-ef42-bf2a617045f7"
      },
      "outputs": [],
      "source": [
        "# Tests 10 points.\n",
        "\n",
        "assert Int(3) / Int(2) == Fraction(3, 2)\n",
        "assert Int(3) * Int(4) / (Int(5) + Int(2)) == Fraction(12, 7)\n",
        "assert Int(3) * Int(4) / (Int(5) + Int(1)) == Fraction(2, 1)"
      ]
    }
  ],
  "metadata": {
    "colab": {
      "provenance": []
    },
    "kernelspec": {
      "display_name": "Python 3",
      "language": "python",
      "name": "python3"
    },
    "language_info": {
      "codemirror_mode": {
        "name": "ipython",
        "version": 3
      },
      "file_extension": ".py",
      "mimetype": "text/x-python",
      "name": "python",
      "nbconvert_exporter": "python",
      "pygments_lexer": "ipython3",
      "version": "3.11.5"
    }
  },
  "nbformat": 4,
  "nbformat_minor": 5
}
