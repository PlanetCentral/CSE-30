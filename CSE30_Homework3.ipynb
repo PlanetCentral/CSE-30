{
  "cells": [
    {
      "cell_type": "markdown",
      "id": "9fdaa78a",
      "metadata": {
        "id": "9fdaa78a",
        "notebookgrader": {
          "id": "d04422618bcd1512451af422c08c2eb608f0e376",
          "readonly": true
        }
      },
      "source": [
        "# Generators\n",
        "### Copyright Luca de Alfaro, 2020.  License: CC-BY-NC."
      ]
    },
    {
      "cell_type": "markdown",
      "id": "239cc7b2",
      "metadata": {
        "id": "239cc7b2",
        "notebookgrader": {
          "id": "0068ec0d0957010c41ead96b96c4810619576600",
          "readonly": true
        }
      },
      "source": [
        "To understand what a generator is, let's start with a simple example.  \n",
        "Assume we have a long list `words` of words, perhaps obtained by splitting a long document into the individual words.  The words in `words` can be either in uppercase, or in lowercase, or capitalized: we have no guarantees.\n",
        "\n",
        "Our task is this: given an additional word `keyword`, we want to check whether `keyword` appears in the document, regardless of case.\n",
        "\n",
        "One brute force way of doing this consists in creating a lowercase version of `words`, and check if `keyword`, once also put in lowercase, belongs to the list:"
      ]
    },
    {
      "cell_type": "code",
      "execution_count": 1,
      "id": "e9730f4f",
      "metadata": {
        "colab": {
          "base_uri": "https://localhost:8080/",
          "height": 34
        },
        "id": "e9730f4f",
        "notebookgrader": {
          "id": "4c82ac98936716dc8eee6e59585bdf5fbcb6dade",
          "is_solution": false,
          "is_tests": false,
          "readonly": true
        },
        "outputId": "ff1e95be-2d4d-499d-f7cb-21430449b75f"
      },
      "outputs": [
        {
          "name": "stdout",
          "output_type": "stream",
          "text": [
            "True\n"
          ]
        }
      ],
      "source": [
        "words = \"I told you I do not need a PHONE I need a TOASTER\".split()\n",
        "\n",
        "def lowercase_list(words):\n",
        "    \"\"\"Returns the lowercase version of the list\"\"\"\n",
        "    return [w.lower() for w in words]\n",
        "\n",
        "def check_occurrence(words, keyword):\n",
        "    return keyword.lower() in lowercase_list(words)\n",
        "\n",
        "print(check_occurrence(words, \"Phone\"))"
      ]
    },
    {
      "cell_type": "markdown",
      "id": "c06a544a",
      "metadata": {
        "id": "c06a544a",
        "notebookgrader": {
          "id": "4d382181b4050e661a42c58ca7b9910f6c468ea0",
          "readonly": true
        }
      },
      "source": [
        "The problem with this approach is that we are building a whole new duplicate list, just for the purpose of checking membership.\n",
        "\n",
        "One way of avoiding building the whole list is to inter-mingle the generation of the list and its use:"
      ]
    },
    {
      "cell_type": "code",
      "execution_count": 2,
      "id": "623653f5",
      "metadata": {
        "id": "623653f5",
        "notebookgrader": {
          "id": "809533b30a730804367bc1c16f72ae0078c17943",
          "is_solution": false,
          "is_tests": false,
          "readonly": true
        },
        "outputId": "c9483483-9a20-472f-df71-f041851748f9"
      },
      "outputs": [],
      "source": [
        "def check_occurrence(words, keyword):\n",
        "    for w in words:\n",
        "        if keyword == w.lower():\n",
        "            return True\n",
        "        return False"
      ]
    },
    {
      "cell_type": "markdown",
      "id": "f5f73573",
      "metadata": {
        "id": "f5f73573",
        "notebookgrader": {
          "id": "b4c9d3f3e50d623ce06a0018ecced742da85935f",
          "readonly": true
        }
      },
      "source": [
        "The problem with this is that it mixes the `for` loop in `check_occurrence` with the list transformation.\n",
        "In this case, the list transformation is simple (it consists in a single call to `.lower()`), but if it were complex, it would be a much cleaner design to transform the list in a separate function.\n",
        "\n",
        "Can we have a separate function, similar to `lowercase_list`, that avoids building a full list?\n"
      ]
    },
    {
      "cell_type": "markdown",
      "id": "7a35a9fb",
      "metadata": {
        "id": "7a35a9fb",
        "notebookgrader": {
          "id": "97c41e2e1ea7d0b64c0fafa3c7286b0d4357855d",
          "readonly": true
        }
      },
      "source": [
        "It turns out, yes.  Consider this function, which iterates over a list of words, and prints the lowercase version of each word:"
      ]
    },
    {
      "cell_type": "code",
      "execution_count": 3,
      "id": "f61acd7e",
      "metadata": {
        "colab": {
          "base_uri": "https://localhost:8080/",
          "height": 243
        },
        "id": "f61acd7e",
        "notebookgrader": {
          "id": "5fa127927e3447027aef3a20eca86933cfbe31f5",
          "is_solution": false,
          "is_tests": false,
          "readonly": true
        },
        "outputId": "db28157a-bb53-42a5-b894-b2345ec17921"
      },
      "outputs": [
        {
          "name": "stdout",
          "output_type": "stream",
          "text": [
            "i\n",
            "told\n",
            "you\n",
            "i\n",
            "do\n",
            "not\n",
            "need\n",
            "a\n",
            "phone\n",
            "i\n",
            "need\n",
            "a\n",
            "toaster\n"
          ]
        }
      ],
      "source": [
        "def print_lowercase(words):\n",
        "    for w in words:\n",
        "        print(w.lower())\n",
        "\n",
        "print_lowercase(words)"
      ]
    },
    {
      "cell_type": "markdown",
      "id": "ef5ba2d7",
      "metadata": {
        "id": "ef5ba2d7",
        "notebookgrader": {
          "id": "c6adcd8e33929a4caee2653ebe95bdbd545e3c63",
          "readonly": true
        }
      },
      "source": [
        "The function converts each word to lowercase on the fly, and prints it, without ever building the list of all lowercase words.  Can we just, instead of printing the word, return it?  Then we could check membership without building a new list.  Does this work?"
      ]
    },
    {
      "cell_type": "code",
      "execution_count": 4,
      "id": "af61079f",
      "metadata": {
        "colab": {
          "base_uri": "https://localhost:8080/",
          "height": 34
        },
        "id": "af61079f",
        "notebookgrader": {
          "id": "6af0c26c7df62824b796a26a755cc3ebec3537ef",
          "is_solution": false,
          "is_tests": false,
          "readonly": true
        },
        "outputId": "457ea569-01d6-4669-82ac-d8f0125d2910"
      },
      "outputs": [
        {
          "name": "stdout",
          "output_type": "stream",
          "text": [
            "False\n"
          ]
        }
      ],
      "source": [
        "def return_lowercase(words):\n",
        "    for w in words:\n",
        "        return w.lower()\n",
        "\n",
        "def check_occurrence(words, keyword):\n",
        "    return keyword.lower() in return_lowercase(words)\n",
        "\n",
        "print(check_occurrence(words, \"Phone\"))"
      ]
    },
    {
      "cell_type": "markdown",
      "id": "15dae751",
      "metadata": {
        "id": "15dae751",
        "notebookgrader": {
          "id": "5bb7653da5eeb0bb389a358c57b5d599908f2f2c",
          "readonly": true
        }
      },
      "source": [
        "What goes wrong?  The problem is that the `return` statement in line 3 above terminates the execution of the `for` loop.  So `return_lowercase` returns the first word `\"i\"` and terminates.  The check in line 6 then checks whether `\"phone\"` is a member of the list of characters `\"i\"`: if a string is used when a list is expected, the list of characters is used.\n",
        "This is not true, and the check returns `False`.\n",
        "\n",
        "Fundamentally, what goes wrong is that `return` does not allow us to return the lowercase words one by one, because it stops at the first word.  \n",
        "We need a version of `return` that gives the result back, but \"keeps going\" in the loop.  This version of `return` is called `yield`.  Let's try it."
      ]
    },
    {
      "cell_type": "code",
      "execution_count": 5,
      "id": "a3d622d8",
      "metadata": {
        "colab": {
          "base_uri": "https://localhost:8080/",
          "height": 34
        },
        "id": "a3d622d8",
        "notebookgrader": {
          "id": "074e9348eee7120a512214aacf6ee37dff3641c9",
          "is_solution": false,
          "is_tests": false,
          "readonly": true
        },
        "outputId": "1d34005c-2a34-4df5-ba0c-428564782f85"
      },
      "outputs": [
        {
          "name": "stdout",
          "output_type": "stream",
          "text": [
            "True\n"
          ]
        }
      ],
      "source": [
        "def yield_lowercase(words):\n",
        "    for w in words:\n",
        "        yield w.lower()\n",
        "\n",
        "def check_occurrence(words, keyword):\n",
        "    return keyword.lower() in yield_lowercase(words)\n",
        "\n",
        "print(check_occurrence(words, \"Phone\"))"
      ]
    },
    {
      "cell_type": "markdown",
      "id": "e8f5b3f3",
      "metadata": {
        "id": "e8f5b3f3",
        "notebookgrader": {
          "id": "76016b0e9dfb34d87b1f9d8f622b12e9a0a65cd6",
          "readonly": true
        }
      },
      "source": [
        "This works!\n",
        "\n",
        "And the function `yield_lowercase` is called a generator, because it generates a list -- without ever having to store one.\n",
        "\n",
        "The implementation of the `yield` statement is sophisticated, because it needs essentially to pause execution to return the value, keeping track of the place inside the function, so that execution can be restarted when the next value is needed.  But to understand how to use it, think of `yield` as a version of `print` that, instead of printing, returns the value, and then just like `print`, keeps going."
      ]
    },
    {
      "cell_type": "code",
      "execution_count": 6,
      "id": "a943cfe6",
      "metadata": {
        "id": "a943cfe6",
        "notebookgrader": {
          "id": "cbccc6b6869b5e590be28e76d908a34d9510f8e4",
          "is_solution": false,
          "is_tests": false,
          "readonly": true
        },
        "outputId": "02cafb85-f7ee-4312-b141-720132f8c67a"
      },
      "outputs": [],
      "source": [
        "#@title Let's define a test helper.\n",
        "\n",
        "def check_equal(x, y, msg=None):\n",
        "    if x != y:\n",
        "        if msg is None:\n",
        "            print(\"Error:\")\n",
        "        else:\n",
        "            print(\"Error in\", msg, \":\")\n",
        "        print(\"    Your answer was:\", x)\n",
        "        print(\"    Correct answer: \", y)\n",
        "    assert x == y, \"%r and %r are different\" % (x, y)"
      ]
    },
    {
      "cell_type": "markdown",
      "id": "c3748061",
      "metadata": {
        "id": "c3748061",
        "notebookgrader": {
          "id": "d2fe1b1f9ff9f3955ca67d5c188b07129d97859c",
          "readonly": true
        }
      },
      "source": [
        "## Generators Are Infinitely Useful"
      ]
    },
    {
      "cell_type": "markdown",
      "id": "0a35707d",
      "metadata": {
        "id": "0a35707d",
        "notebookgrader": {
          "id": "9cce9783da3ace5283d70e88906a4c31dbe78279",
          "readonly": true
        }
      },
      "source": [
        "So what can generators do?\n",
        "\n",
        "One thing, as we discovered, is return a variant of a list without every fully building the variant as a list.  This is important, because often we have big data structures in memory, and we want to be able to operate on them without having to duplicate them when we need something else.\n",
        "\n",
        "The most interesting use of generators, however, is to create on the fly -- without ever storing them -- structures that can be very large."
      ]
    },
    {
      "cell_type": "markdown",
      "id": "9cf87cc1",
      "metadata": {
        "id": "9cf87cc1",
        "notebookgrader": {
          "id": "caa181dba6e6740f8e8d6c4098d9a62ecfc34787",
          "readonly": true
        }
      },
      "source": [
        "In particular, one of the fun facts about generators is that they provide a _finite_ representation for _infinite_ things.  Here is an iterator on even numbers:"
      ]
    },
    {
      "cell_type": "code",
      "execution_count": 7,
      "id": "df675f7e",
      "metadata": {
        "colab": {
          "base_uri": "https://localhost:8080/",
          "height": 104
        },
        "id": "df675f7e",
        "notebookgrader": {
          "id": "c71f8a96e4f4bfef984f10591fb770d88a406905",
          "is_solution": false,
          "is_tests": false,
          "readonly": true
        },
        "outputId": "7247e5d9-faa2-4ad5-d088-511c7ec43051"
      },
      "outputs": [
        {
          "name": "stdout",
          "output_type": "stream",
          "text": [
            "This is even: 0\n",
            "This is even: 2\n",
            "This is even: 4\n",
            "This is even: 6\n",
            "This is even: 8\n"
          ]
        }
      ],
      "source": [
        "def even_numbers():\n",
        "    i = 0\n",
        "    while True:\n",
        "        yield 2 * i\n",
        "        i += 1\n",
        "\n",
        "for n in even_numbers():\n",
        "    print(\"This is even:\", n)\n",
        "    if n > 7:\n",
        "        break"
      ]
    },
    {
      "cell_type": "markdown",
      "id": "5ac27e91",
      "metadata": {
        "id": "5ac27e91",
        "notebookgrader": {
          "id": "a133cbb4c909d9f4ece55ea28601d8cb79453026",
          "readonly": true
        }
      },
      "source": [
        "We stopped at 7, but `even_numbers` would have been quite happy to keep going.\n",
        "\n",
        "Here's an iterator that produces all numbers that are not divisible by 2, 3, or 5.  Note how `yield` does not need to appear directly in a loop: it can appear inside if-then-else statements and anything else."
      ]
    },
    {
      "cell_type": "code",
      "execution_count": 8,
      "id": "6aadaf69",
      "metadata": {
        "colab": {
          "base_uri": "https://localhost:8080/",
          "height": 139
        },
        "id": "6aadaf69",
        "notebookgrader": {
          "id": "1ae4860bdec69658feaf76bb78a37d10015078c2",
          "is_solution": false,
          "is_tests": false,
          "readonly": true
        },
        "outputId": "5708a644-7b52-4ac7-ad34-53a4dff2527a"
      },
      "outputs": [
        {
          "name": "stdout",
          "output_type": "stream",
          "text": [
            "1\n",
            "7\n",
            "11\n",
            "13\n",
            "17\n",
            "19\n",
            "23\n"
          ]
        }
      ],
      "source": [
        "def not_div_235():\n",
        "    i = 0\n",
        "    while True:\n",
        "        if (i % 2) * (i % 3) * (i % 5) > 0:\n",
        "            yield i\n",
        "        i += 1\n",
        "\n",
        "for n in not_div_235():\n",
        "    print(n)\n",
        "    if n > 20:\n",
        "        break"
      ]
    },
    {
      "cell_type": "markdown",
      "id": "02ea6784",
      "metadata": {
        "id": "02ea6784",
        "notebookgrader": {
          "id": "62c0dab03b35536176bf6ba02ea0c6b9d121ef05",
          "readonly": true
        }
      },
      "source": [
        "**Exercise:** Build a generator that returns the [Fibonacci numbers](https://en.wikipedia.org/wiki/Fibonacci_number)."
      ]
    },
    {
      "cell_type": "code",
      "execution_count": 9,
      "id": "b12660c7",
      "metadata": {
        "id": "b12660c7",
        "notebookgrader": {
          "id": "2025d9eb34614207d748d8ce6e0c6059a8c69245",
          "is_solution": true,
          "is_tests": false,
          "readonly": false
        },
        "outputId": "cfbe354e-682e-4a67-a58f-eda6737f6ea9"
      },
      "outputs": [],
      "source": [
        "#@title Exercise: implement a Fibonacci number generator\n",
        "\n",
        "def fibonacci_generator():\n",
        "    \"\"\"Generates all Fibonacci numbers.\"\"\"\n",
        "    ### YOUR SOLUTION HERE\n",
        "    a, b = 0, 1\n",
        "    while True:\n",
        "        yield a\n",
        "        a, b = b, a + b"
      ]
    },
    {
      "cell_type": "code",
      "execution_count": 10,
      "id": "f61b9921",
      "metadata": {
        "cellView": "form",
        "id": "f61b9921",
        "notebookgrader": {
          "id": "c50303d7d5efe8bf65c1d7e0fd152f0d655aca17",
          "is_solution": false,
          "is_tests": true,
          "points_earned": 10,
          "readonly": true,
          "test_points": 10
        },
        "outputId": "93e177c8-5210-4d9d-f552-fa21c21759fe"
      },
      "outputs": [],
      "source": [
        "# Tests 10 points: Fibonacci numbers\n",
        "\n",
        "r = []\n",
        "for n in fibonacci_generator():\n",
        "    r.append(n)\n",
        "    if n > 100:\n",
        "        break\n",
        "check_equal(r, [0, 1, 1, 2, 3, 5, 8, 13, 21, 34, 55, 89, 144])\n"
      ]
    },
    {
      "cell_type": "markdown",
      "id": "095f2318",
      "metadata": {
        "id": "095f2318",
        "notebookgrader": {
          "id": "dbb8452f7d6a228f4684267c3fd025117539bee2",
          "readonly": true
        }
      },
      "source": [
        "**Exercise:** Build a generator that returns all the prime numbers.  The idea is to loop over all positive integers, test each one to see if it is prime, and if it is, `yield` it."
      ]
    },
    {
      "cell_type": "code",
      "execution_count": 11,
      "id": "b0e7b579",
      "metadata": {
        "id": "b0e7b579",
        "notebookgrader": {
          "id": "034f020d8d032f28ada18cbd5d8d10c5e0437119",
          "is_solution": true,
          "is_tests": false,
          "readonly": false
        },
        "outputId": "56abfcd1-2d79-4702-f105-351a019c38a2"
      },
      "outputs": [],
      "source": [
        "#@title Exercise: implement a prime number generator\n",
        "\n",
        "# My solution is simple and not particularly optimized,\n",
        "# and it is 12 lines long.\n",
        "\n",
        "def prime_number_generator():\n",
        "    \"\"\"This generator returns all prime numbers.\"\"\"\n",
        "    ### YOUR SOLUTION HERE\n",
        "    yield 2\n",
        "    primes = [2]\n",
        "    num = 3\n",
        "    while True:\n",
        "        is_prime = all(num % p != 0 for p in primes)\n",
        "        if is_prime:\n",
        "            primes.append(num)\n",
        "            yield num\n",
        "        num += 2"
      ]
    },
    {
      "cell_type": "markdown",
      "id": "d6dd68bf",
      "metadata": {
        "id": "d6dd68bf",
        "notebookgrader": {
          "id": "0cb571477332777103d6f0d1f1becc354f87f9fa",
          "readonly": true
        }
      },
      "source": [
        "Let us use our generator:"
      ]
    },
    {
      "cell_type": "code",
      "execution_count": 12,
      "id": "a04a15f5",
      "metadata": {
        "colab": {
          "base_uri": "https://localhost:8080/",
          "height": 191
        },
        "id": "a04a15f5",
        "notebookgrader": {
          "id": "639892038a62c269a7c15f6f83c8772072cac57a",
          "is_solution": false,
          "is_tests": false,
          "readonly": true
        },
        "outputId": "a6d09960-c95c-40f8-8d74-15a9bb161b72"
      },
      "outputs": [
        {
          "name": "stdout",
          "output_type": "stream",
          "text": [
            "2\n",
            "3\n",
            "5\n",
            "7\n",
            "11\n",
            "13\n",
            "17\n",
            "19\n",
            "23\n",
            "29\n"
          ]
        }
      ],
      "source": [
        "i = 0\n",
        "for n in prime_number_generator():\n",
        "    print(n)\n",
        "    i += 1\n",
        "    if i == 10:\n",
        "        break"
      ]
    },
    {
      "cell_type": "code",
      "execution_count": 13,
      "id": "308810ab",
      "metadata": {
        "cellView": "form",
        "id": "308810ab",
        "notebookgrader": {
          "id": "b62c0aea75ece849a48954984d6164d032c97a91",
          "is_solution": false,
          "is_tests": true,
          "points_earned": 10,
          "readonly": true,
          "test_points": 10
        },
        "outputId": "223fa81a-25f5-43a4-deb1-90625bc7005b"
      },
      "outputs": [],
      "source": [
        "# Tests 10 points: `prime_number_generator`\n",
        "\n",
        "\n",
        "\n",
        "for n in prime_number_generator():\n",
        "    if n == 33:\n",
        "        raise Exception()\n",
        "    elif n > 37:\n",
        "        break\n"
      ]
    },
    {
      "cell_type": "markdown",
      "id": "49f00811",
      "metadata": {
        "id": "49f00811",
        "notebookgrader": {
          "id": "3ad337e26156347d343935981e9620d9d97eb79e",
          "readonly": true
        }
      },
      "source": [
        "## Generators That Know When To Stop\n",
        "\n",
        "Sometimes, while running a generator, you realize that there's nothing more that needs to be `yield`-ed.  In that case, you can terminate the execution with a `return`.   Let's write a generator that takes a list of words, and iterates over the words until a given stop-word is reached, or until the end of the list, whichever happens first."
      ]
    },
    {
      "cell_type": "code",
      "execution_count": 14,
      "id": "201c10b4",
      "metadata": {
        "id": "201c10b4",
        "notebookgrader": {
          "id": "1719a356eb0c88c80548620ee67c67cbf934748c",
          "is_solution": false,
          "is_tests": false,
          "readonly": true
        },
        "outputId": "ee0511f9-b8a2-473a-bcfd-c2e9f007dfe6"
      },
      "outputs": [],
      "source": [
        "def words_until_stop(stop_word, words):\n",
        "    for w in words:\n",
        "        if w == stop_word:\n",
        "            # We stop the iteration.\n",
        "            return\n",
        "        else:\n",
        "            yield w"
      ]
    },
    {
      "cell_type": "markdown",
      "id": "9048abab",
      "metadata": {
        "id": "9048abab",
        "notebookgrader": {
          "id": "0d5f7ec28c3546ccc450d7e3e93abfcf5bddf70a",
          "readonly": true
        }
      },
      "source": [
        "Note that the function `words_until_stop` has two ways of terminating.  One is when the stop word is met, and the `return` executed.  The other is when the `for` loop runs to completion."
      ]
    },
    {
      "cell_type": "code",
      "execution_count": 15,
      "id": "f39dda38",
      "metadata": {
        "colab": {
          "base_uri": "https://localhost:8080/",
          "height": 86
        },
        "id": "f39dda38",
        "notebookgrader": {
          "id": "ae1d4698eea25438dafab1d98d6187b09e542d10",
          "is_solution": false,
          "is_tests": false,
          "readonly": true
        },
        "outputId": "99363a36-1329-450a-d170-aa08acf9e0b0"
      },
      "outputs": [
        {
          "name": "stdout",
          "output_type": "stream",
          "text": [
            "I\n",
            "like\n",
            "to\n",
            "eat\n"
          ]
        }
      ],
      "source": [
        "words = \"I like to eat pears far more than apples\".split()\n",
        "\n",
        "for w in words_until_stop(\"pears\", words):\n",
        "    print(w)"
      ]
    },
    {
      "cell_type": "markdown",
      "id": "fe98cfa7",
      "metadata": {
        "id": "fe98cfa7",
        "notebookgrader": {
          "id": "d66635783fd29d8d15e6d7dcfee9019753a1c25a",
          "readonly": true
        }
      },
      "source": [
        "## Iterating Over Permutations\n",
        "\n",
        "Let us now write an iterator that, given a list, returns all the permutations of elements in the list.  The [itertools module](https://docs.python.org/3.7/library/itertools.html) contains such an iterator, but it is rather instructive to write it ourselves.\n",
        "\n",
        "Recall that a permutation is a reordering.  So if you have a list\n",
        "\n",
        "    [1, 2, 3]\n",
        "\n",
        "its six permutations are:\n",
        "\n",
        "    [1, 2, 3]\n",
        "    [1, 3, 2]\n",
        "    [2, 1, 3]\n",
        "    [2, 3, 1]\n",
        "    [3, 1, 2]\n",
        "    [3, 2, 1]\n",
        "\n",
        "To generate all permutations, we decompose the problem.  For a list $l$, let $P(l)$ be its set of permutations.  For a set of lists $C$, and for a single list $s$, denote with\n",
        "\n",
        "$$\n",
        "s +^* C = \\{s + c \\mid c \\in C \\}\n",
        "$$\n",
        "\n",
        "the set obtaining by the concatenation of $s$ with every element of $C$.\n",
        "For elements $x_1, \\ldots, x_n$, we have:\n",
        "\n",
        "$$\n",
        "\\begin{align*}\n",
        "P([x_1, \\ldots, x_n]) = \\{ \\, & [x_1] +^* P([x_2, \\ldots, x_n]),\\\\\n",
        "& [x_2] +^* P([x_1, x_3, \\ldots, x_n]), \\\\\n",
        "& \\cdots \\\\\n",
        "& [x_k] +^* P([x_1, \\ldots, x_{k-1}, x_{k+1}, \\ldots, x_n]),\\\\\n",
        "& \\ldots \\\\\n",
        "& [x_n] +^* P([x_1, \\ldots, x_{n-1}]) \\, \\} \\; .\n",
        "\\end{align*}\n",
        "$$\n",
        "\n",
        "In other words, given a list $l$, we can iterate on it, choosing in turn an element $x$.  We can then compute the permutations of $l$ by concatenating $x$ with the permutations of the list $l'$ that results from removing $x$ from $l$."
      ]
    },
    {
      "cell_type": "code",
      "execution_count": 16,
      "id": "e606048d",
      "metadata": {
        "cellView": "both",
        "id": "e606048d",
        "notebookgrader": {
          "id": "197c94d875c3ff54b431eb908bebf565be302fe7",
          "is_solution": false,
          "is_tests": false,
          "readonly": true
        },
        "outputId": "be9be4e6-fa46-459f-e4b4-48fe651a261a"
      },
      "outputs": [],
      "source": [
        "def permute(elements):\n",
        "    \"\"\"Yields all the permutations of iterable, one by one.\"\"\"\n",
        "    if len(elements) == 0:\n",
        "        yield []\n",
        "    else:\n",
        "        for i, x in enumerate(elements):\n",
        "            # We separate elements into x, and into remainder, that\n",
        "            # consists of all elements minus x.\n",
        "            remainder = elements[:i] + elements[i+1:]\n",
        "            for p in permute(remainder):\n",
        "                yield [x] + p"
      ]
    },
    {
      "cell_type": "code",
      "execution_count": 17,
      "id": "9bad3871",
      "metadata": {
        "cellView": "both",
        "colab": {
          "base_uri": "https://localhost:8080/",
          "height": 121
        },
        "id": "9bad3871",
        "notebookgrader": {
          "id": "a7acc30a6a3cd6e480943b7bd047b605cdd869f7",
          "is_solution": false,
          "is_tests": false,
          "readonly": true
        },
        "outputId": "f45f0acd-9d9a-4f5c-a8e5-31c063c80bf3"
      },
      "outputs": [
        {
          "name": "stdout",
          "output_type": "stream",
          "text": [
            "[1, 2, 3]\n",
            "[1, 3, 2]\n",
            "[2, 1, 3]\n",
            "[2, 3, 1]\n",
            "[3, 1, 2]\n",
            "[3, 2, 1]\n"
          ]
        }
      ],
      "source": [
        "l = [1, 2, 3]\n",
        "for ll in permute(l):\n",
        "    print(ll)\n",
        "\n",
        "check_equal(len(list(permute([1, 2, 3, 4]))), 24)"
      ]
    },
    {
      "cell_type": "markdown",
      "id": "539f0fbc",
      "metadata": {
        "id": "539f0fbc",
        "notebookgrader": {
          "id": "be02998d0b3e71af74f6f8940702183dd99d63af",
          "readonly": true
        }
      },
      "source": [
        "### Iterating Over Combinations\n",
        "\n",
        "Given a list containing distinct elements, assume we want to iterate over all pairs of elements of the list.\n",
        "This is easy to do:"
      ]
    },
    {
      "cell_type": "code",
      "execution_count": 18,
      "id": "83c314b5",
      "metadata": {
        "id": "83c314b5",
        "notebookgrader": {
          "id": "33bc83a071086307d65e2898d790a084f575f271",
          "is_solution": false,
          "is_tests": false,
          "readonly": true
        },
        "outputId": "59d1db83-d5ad-47b5-f094-1eed7378c30d"
      },
      "outputs": [],
      "source": [
        "def iterate_pairs(elements):\n",
        "    for i, x in enumerate(elements):\n",
        "        for y in elements[i + 1:]:\n",
        "            yield {x, y}"
      ]
    },
    {
      "cell_type": "code",
      "execution_count": 19,
      "id": "3d7b88a6",
      "metadata": {
        "colab": {
          "base_uri": "https://localhost:8080/",
          "height": 121
        },
        "id": "3d7b88a6",
        "notebookgrader": {
          "id": "a9a7db7bf0c942700ec664e539ab361069f952f2",
          "is_solution": false,
          "is_tests": false,
          "readonly": true
        },
        "outputId": "851ffb4c-c3bb-4920-a68f-fae31c6aab92"
      },
      "outputs": [
        {
          "name": "stdout",
          "output_type": "stream",
          "text": [
            "{1, 2}\n",
            "{1, 3}\n",
            "{1, 4}\n",
            "{2, 3}\n",
            "{2, 4}\n",
            "{3, 4}\n"
          ]
        }
      ],
      "source": [
        "mylist = [1, 2, 3, 4]\n",
        "for p in iterate_pairs(mylist):\n",
        "    print(p)"
      ]
    },
    {
      "cell_type": "markdown",
      "id": "131cbb4b",
      "metadata": {
        "id": "131cbb4b",
        "notebookgrader": {
          "id": "281085f86b67695b81012c61e6edf21800394ba6",
          "readonly": true
        }
      },
      "source": [
        "What if I asked you to iterate over triples of elements?  \n",
        "You could of course use three nested for loops, instead of just two.\n",
        "But at some point, it becomes easier to write the general solution.\n",
        "\n",
        "Consider a list $L = [x_1, x_2, \\ldots, x_n]$ consisting of all distinct elements, and an integer $k$.\n",
        "Let $C(k, L)$ be the set of subsets of $L$ containing $k$ elements.\n",
        "$C(k, L)$ is also known as the _combinations of $L$ in groups of $k$_.\n",
        "\n",
        "We will write a function `combinations(k, L)` that computes $C(k, L)$.\n",
        "To do so, we will use recursion, and write $C(k, L)$ in terms of $C(k-1, \\ldots)$.\n",
        "That is, to generate the subsets of length $k$, we will rely on a recursive call (a call to $C$ itself) to generate the subsets of length $k-1$.\n",
        "To write the recursion, let $\\cup^*$ be the operator taking the union of a set with each set in a set:\n",
        "\n",
        "$$\n",
        "A \\cup^* B = \\{a \\cup b \\mid b \\in B\\} \\; .\n",
        "$$\n",
        "\n",
        "There are three cases, depending on the relation between the size $k$ of the subset we want, and the number $n = |L|$ of elements in $L$.\n",
        "\n",
        "1. If $k = n$, we can just return a set containing $L$.\n",
        "\n",
        "2. If $k > n$, then obviously $C(k, L) = \\emptyset$, where $\\emptyset$ denotes the empty set, as we cannot obtain a subset bigger than the set itself.\n",
        "\n",
        "3. If $k < n$, to generate the $k$-subsets of a list $L$, you pick each element $x$ of $L$ in turn, you consider the list $L'$ of elements following $x$ in $L$, and you return the union of $x$, and of a $k-1$-subset of $L'$.\n",
        "For those who like the precision of formulas:\n",
        "\n",
        "$$\n",
        "\\begin{align*}\n",
        "C(k, [x_1, \\ldots, x_n]) = \\{ \\, & \\{x_1\\} \\cup^* C(k - 1, [x_2, \\ldots, x_n]),\\\\\n",
        "& \\{x_2\\} \\cup^* C(k-1, [x_3, \\ldots, x_n]), \\\\\n",
        "& \\cdots \\\\\n",
        "& \\{x_i\\} \\cup^* C(k-1, [x_{i+1}, \\ldots, x_n]),\\\\\n",
        "& \\cdots \\\\\n",
        "& \\{x_n\\} \\cup^* C(k-1, \\emptyset) \\, \\} \\; .\n",
        "\\end{align*}\n",
        "$$\n",
        "\n"
      ]
    },
    {
      "cell_type": "markdown",
      "id": "40733baf",
      "metadata": {
        "id": "40733baf",
        "notebookgrader": {
          "id": "fdb1689aad09e71c1a86ebc77534c35c11ece1bd",
          "readonly": true
        }
      },
      "source": [
        "**Exercise:** Implement a function `combinations(k, elements)` implementing the function $C$ above, that is, returning the set of $k$-elements subsets of `elements`.\n",
        "\n",
        "Hint: the difficulty is not in writing the recursion, but in deciding when NOT to recur, and rather, yield a result or the absence of results."
      ]
    },
    {
      "cell_type": "code",
      "execution_count": 20,
      "id": "ab895841",
      "metadata": {
        "id": "ab895841",
        "notebookgrader": {
          "id": "20d6b84dc30a2d94bbfafaf0328cba9bea6c4425",
          "is_solution": true,
          "is_tests": false,
          "readonly": false
        },
        "outputId": "4aec625c-55f2-4ca1-b163-b565e830f50a"
      },
      "outputs": [],
      "source": [
        "#@title Exercise: Generating Combinations\n",
        "\n",
        "def combinations(k, elements):\n",
        "    assert isinstance(elements, list)\n",
        "    # This can be done in 9 lines of code, and possibly fewer.\n",
        "    ### YOUR SOLUTION HERE\n",
        "    assert isinstance(elements, list)\n",
        "    if k == 0:\n",
        "        return [set()]\n",
        "    if k > len(elements):\n",
        "        return []\n",
        "    if k == len(elements):\n",
        "        return [set(elements)]\n",
        "    without_first = combinations(k, elements[1:])\n",
        "    with_first = [set([elements[0]]) | combo for combo in combinations(k - 1, elements[1:])]\n",
        "    return with_first + without_first"
      ]
    },
    {
      "cell_type": "code",
      "execution_count": 21,
      "id": "608f5015",
      "metadata": {
        "cellView": "form",
        "id": "608f5015",
        "notebookgrader": {
          "id": "53209994fe1dfb92c8d7363c39c207fe26e72e57",
          "is_solution": false,
          "is_tests": true,
          "points_earned": 5,
          "readonly": true,
          "test_points": 5
        },
        "outputId": "9950277a-93c5-446e-8b2c-43555c1ec91c"
      },
      "outputs": [],
      "source": [
        "# Tests 5 points: Basic tests for Combination Generation\n",
        "\n",
        "# Let us start from some base cases.\n",
        "L = [1, 2, 3, 4, 5]\n",
        "\n",
        "# There are no combinations of 5 elements in groups of 6.\n",
        "n = 0\n",
        "for c in combinations(6, L):\n",
        "    n += 1\n",
        "check_equal(n, 0)\n",
        "\n",
        "\n",
        "# There is only one combination of 5 elements in groups of 5: the set itself.\n",
        "n = 0\n",
        "for c in combinations(5, L):\n",
        "    check_equal(c, set(L))\n",
        "    n += 1\n",
        "check_equal(n, 1)\n"
      ]
    },
    {
      "cell_type": "code",
      "execution_count": 22,
      "id": "31fd76d5",
      "metadata": {
        "cellView": "form",
        "id": "31fd76d5",
        "notebookgrader": {
          "id": "7460c4a9856eb125e1a03af618a207f65f16d90e",
          "is_solution": false,
          "is_tests": true,
          "points_earned": 5,
          "readonly": true,
          "test_points": 5
        },
        "outputId": "88515183-2f7e-4b73-dc4a-72c9f79e9644"
      },
      "outputs": [],
      "source": [
        "# Tests 5 points: Basic tests 2 for Combination Generation\n",
        "L = [1, 2, 3, 4, 5]\n",
        "\n",
        "# There is only one combination of 5 elements in groups of 0: the empty set.\n",
        "n = 0\n",
        "for c in combinations(0, L):\n",
        "    check_equal(c, set())\n",
        "    n += 1\n",
        "check_equal(n, 1)\n"
      ]
    },
    {
      "cell_type": "code",
      "execution_count": 23,
      "id": "8d08dd61",
      "metadata": {
        "cellView": "form",
        "id": "8d08dd61",
        "notebookgrader": {
          "id": "e4768de6ba917773c417420df9846329d40c7cc7",
          "is_solution": false,
          "is_tests": true,
          "points_earned": 5,
          "readonly": true,
          "test_points": 5
        },
        "outputId": "d4e3e956-0ef1-4e7b-a835-7f81318ff18f"
      },
      "outputs": [],
      "source": [
        "# Tests 5 points: Basic tests 3 for Combination Generation\n",
        "L = [1, 2, 3, 4, 5]\n",
        "\n",
        "# There is only one combination of 5 elements in groups of 5: the set itself.\n",
        "n = 0\n",
        "for c in combinations(5, L):\n",
        "    check_equal(c, set(L))\n",
        "    n += 1\n",
        "check_equal(n, 1)\n"
      ]
    },
    {
      "cell_type": "code",
      "execution_count": 24,
      "id": "105d0d9b",
      "metadata": {
        "cellView": "form",
        "id": "105d0d9b",
        "notebookgrader": {
          "id": "28e7befedca121c3cd592eff68bfd0035da92253",
          "is_solution": false,
          "is_tests": true,
          "points_earned": 10,
          "readonly": true,
          "test_points": 10
        },
        "outputId": "6d3d7c4f-599c-4778-919c-1c8b5cd73d21"
      },
      "outputs": [],
      "source": [
        "# Tests 10 points: Normal tests for Combination Generator\n",
        "\n",
        "L = [1, 3, 4, 2, 5]\n",
        "c2 = combinations(2, L)\n",
        "c3 = combinations(3, L)\n",
        "n = 0\n",
        "ok = False\n",
        "for c in c2:\n",
        "    n += 1\n",
        "    check_equal(len(c), 2)\n",
        "    if c == {3, 2}:\n",
        "        ok = True\n",
        "check_equal(n, 10, msg=\"n\")\n",
        "check_equal(ok, True, msg=\"ok\")\n",
        "\n",
        "n = 0\n",
        "ok = False\n",
        "for c in c3:\n",
        "    check_equal(len(c), 3)\n",
        "    n += 1\n",
        "    if c == {2, 3, 5}:\n",
        "        ok = True\n",
        "check_equal(n, 10)\n",
        "check_equal(ok, True)\n"
      ]
    },
    {
      "cell_type": "markdown",
      "id": "cc20a0df",
      "metadata": {
        "id": "cc20a0df",
        "notebookgrader": {
          "id": "e704b2bb9a46364e576b8880362c52944cd22b01",
          "readonly": true
        }
      },
      "source": [
        "### Iterating Over Subsets\n",
        "\n",
        "Given a set, write an iterator that returns all subsets of the set.  \n",
        "\n",
        "Hint: decompose the problem.  Given a set $S$, let $x \\in S$ and $S' = S \\setminus \\{x\\}$.  Denoting with $P(S)$ (the _powerset_ of $S$) the set of subsets of $S$, we have:\n",
        "\n",
        "$$\n",
        "P(S) = P(S') \\cup \\{T \\cup \\{x\\} \\mid T \\in P(S') \\} \\; .\n",
        "$$\n",
        "\n",
        "In words, if you select an element of $x$, and let $S' = S \\setminus \\{x\\}$, then the subsets of $S$ are the union of:\n",
        "\n",
        "* the subsets of $S'$,\n",
        "* the subsets of $S'$, with $x$ added to them.\n",
        "\n",
        "This enables you to reduce the problem of computing the subsets of $S$, to that of computing the subsets of the smaller set $S'$."
      ]
    },
    {
      "cell_type": "code",
      "execution_count": 25,
      "id": "03c6b490",
      "metadata": {
        "id": "03c6b490",
        "notebookgrader": {
          "id": "7aace2def7fca87c147e440eecee936b36ff08e7",
          "is_solution": true,
          "is_tests": false,
          "readonly": false
        },
        "outputId": "cbad9da4-bc5c-4467-9d25-abd51b37e79b"
      },
      "outputs": [],
      "source": [
        "#@title Exercise: implement the `subsets` function for sets\n",
        "\n",
        "def subsets(s):\n",
        "    \"\"\"Given a set s, yield all the subsets of s,\n",
        "    including s itself and the empty set.\"\"\"\n",
        "    ### YOUR SOLUTION HERE\n",
        "    if not isinstance(s, set):\n",
        "        s = set(s)\n",
        "    if not s:\n",
        "        yield set()\n",
        "    else:\n",
        "        x = next(iter(s))\n",
        "        remaining = s - {x}\n",
        "        for subset in subsets(remaining):\n",
        "            yield subset\n",
        "            yield subset | {x}"
      ]
    },
    {
      "cell_type": "code",
      "execution_count": 26,
      "id": "3b0155cf",
      "metadata": {
        "cellView": "form",
        "colab": {
          "base_uri": "https://localhost:8080/",
          "height": 156
        },
        "id": "3b0155cf",
        "notebookgrader": {
          "id": "46ff439d378534895ea5bc124165fbd54d988e84",
          "is_solution": false,
          "is_tests": true,
          "points_earned": 10,
          "readonly": true,
          "test_points": 10
        },
        "outputId": "f3ced32a-9a38-400a-b82b-8d04ed0d4788"
      },
      "outputs": [
        {
          "name": "stdout",
          "output_type": "stream",
          "text": [
            "set()\n",
            "{1}\n",
            "{2}\n",
            "{1, 2}\n",
            "{3}\n",
            "{1, 3}\n",
            "{2, 3}\n",
            "{1, 2, 3}\n"
          ]
        }
      ],
      "source": [
        "# Tests 10 points: `subsets`\n",
        "\n",
        "s = set([1, 2, 3])\n",
        "for t in subsets(s):\n",
        "    print(t)\n",
        "\n",
        "check_equal(len(list(subsets(s))), 8)\n"
      ]
    }
  ],
  "metadata": {
    "colab": {
      "provenance": []
    },
    "kernelspec": {
      "display_name": "Python 3",
      "language": "python",
      "name": "python3"
    },
    "language_info": {
      "codemirror_mode": {
        "name": "ipython",
        "version": 3
      },
      "file_extension": ".py",
      "mimetype": "text/x-python",
      "name": "python",
      "nbconvert_exporter": "python",
      "pygments_lexer": "ipython3",
      "version": "3.11.5"
    }
  },
  "nbformat": 4,
  "nbformat_minor": 5
}
