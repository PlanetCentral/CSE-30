{
  "cells": [
    {
      "cell_type": "markdown",
      "id": "8b5b7c78",
      "metadata": {
        "id": "8b5b7c78",
        "notebookgrader": {
          "id": "9ea72fb26980f000305fd15c2d875dc934b819ff",
          "readonly": true
        }
      },
      "source": [
        "# Counting Stacks and Queues\n",
        "### Copyright Luca de Alfaro, 2019-21.  License: CC-BY-NC."
      ]
    },
    {
      "cell_type": "markdown",
      "id": "c12a6786",
      "metadata": {
        "id": "c12a6786",
        "notebookgrader": {
          "id": "5d3ae854de75edb30718c599a12f88d2febe78a8",
          "readonly": true
        }
      },
      "source": [
        "## Stacks, Queues, and Their Counting Versions\n",
        "\n",
        "A stack is a data structure with two operations: push, and pop.  Picture it as a pile of dishes sitting on a counter.  A push operation places a dish on top of the pile.  A pop operation returns the dish on top of the pile, or None if the pile is empty, that is, contains no dishes.  A \"dish\" can be any Python object.\n",
        "\n",
        "A queue is a data structure with two operations: put, and get.  Imagine it as a stack of books horizontally on a shelf.  A put operation adds the book to the left end of the books on the shelf; a get operation gets the book from the right end of the shelf.  \n",
        "\n",
        "Thus, the difference between a stack and a queue is that the stack is FILO (First In, Last Out), whereas the queue is FIFO (First In, First Out).  Elements in a stack are retrieved newest first.\n",
        "Elements in a queue are retrieved in the order they were put in, oldest first.\n",
        "\n",
        "We will implement here these data structures, with a small twist: we will also introduce _counting_ versions of them, which avoid keeping multiple identical copies of objects in a row.\n",
        "\n"
      ]
    },
    {
      "cell_type": "markdown",
      "id": "ba039941",
      "metadata": {
        "id": "ba039941",
        "notebookgrader": {
          "id": "a569a6b79492accc988d99f3a5c6cd9b10672d45",
          "readonly": true
        }
      },
      "source": [
        "Let us begin by implementing a plain vanilla stack."
      ]
    },
    {
      "cell_type": "code",
      "execution_count": 1,
      "id": "26cff711",
      "metadata": {
        "id": "26cff711",
        "notebookgrader": {
          "id": "75e72d7af0e7a9675716b27112727a389f4e21a0",
          "is_solution": false,
          "is_tests": false,
          "readonly": true
        },
        "outputId": "2daed4c8-522b-4887-e237-f9d4171eeeb7"
      },
      "outputs": [],
      "source": [
        "class Stack(object):\n",
        "\n",
        "    def __init__(self):\n",
        "        self.stack = []\n",
        "\n",
        "    def __repr__(self):\n",
        "        \"\"\"Defining a __repr__ function will enable us to print the\n",
        "        stack contents, and facilitate debugging.\"\"\"\n",
        "        return repr(self.stack) # Good enough.\n",
        "\n",
        "    def push(self, x):\n",
        "        \"\"\"The \"top\" of the stack is the end of the list.\"\"\"\n",
        "        self.stack.append(x)\n",
        "\n",
        "    def pop(self):\n",
        "        return self.stack.pop() if len(self.stack) > 0 else None\n",
        "\n",
        "    def isempty(self):\n",
        "        return len(self.stack) == 0\n"
      ]
    },
    {
      "cell_type": "markdown",
      "id": "b76106ae",
      "metadata": {
        "id": "b76106ae",
        "notebookgrader": {
          "id": "a69421dafdcb3209897a99709b7698cf4452c122",
          "readonly": true
        }
      },
      "source": [
        "Let's see how this works."
      ]
    },
    {
      "cell_type": "code",
      "execution_count": 2,
      "id": "7dc1e732",
      "metadata": {
        "colab": {
          "base_uri": "https://localhost:8080/",
          "height": 86
        },
        "id": "7dc1e732",
        "notebookgrader": {
          "id": "5c25fda789278216ebb6bdfd94a1ea597c1bff1a",
          "is_solution": false,
          "is_tests": false,
          "readonly": true
        },
        "outputId": "7a2d31da-38bb-49b3-a344-72b8aa7b7b09"
      },
      "outputs": [
        {
          "name": "stdout",
          "output_type": "stream",
          "text": [
            "None\n",
            "b\n",
            "a\n",
            "None\n"
          ]
        }
      ],
      "source": [
        "s = Stack()\n",
        "print(s.pop())\n",
        "s.push('a')\n",
        "s.push('b')\n",
        "print(s.pop())\n",
        "print(s.pop())\n",
        "print(s.pop())"
      ]
    },
    {
      "cell_type": "markdown",
      "id": "2a7c1d2b",
      "metadata": {
        "id": "2a7c1d2b",
        "notebookgrader": {
          "id": "19924eca575076213ed6115605196808450897ad",
          "readonly": true
        }
      },
      "source": [
        "Ok!  The definition of a queue is similar."
      ]
    },
    {
      "cell_type": "code",
      "execution_count": 3,
      "id": "35e3d385",
      "metadata": {
        "id": "35e3d385",
        "notebookgrader": {
          "id": "6866a71031f6841b5fc5ec14dd6f7b12bac4f067",
          "is_solution": false,
          "is_tests": false,
          "readonly": true
        },
        "outputId": "6ab6e912-45f2-4bb7-97dd-1562ae7d2be6"
      },
      "outputs": [],
      "source": [
        "class Queue(object):\n",
        "\n",
        "    def __init__(self):\n",
        "        self.queue = []\n",
        "\n",
        "    def __repr__(self):\n",
        "        \"\"\"Defining a __repr__ function will enable us to print the\n",
        "        queue contents, and facilitate debugging.\"\"\"\n",
        "        return repr(self.queue) # Good enough.\n",
        "\n",
        "    def add(self, x):\n",
        "        self.queue.append(x)\n",
        "\n",
        "    def get(self):\n",
        "        # This is the only difference compared to the stack above.\n",
        "        return self.queue.pop(0) if len(self.queue) > 0 else None\n",
        "\n",
        "    def isempty(self):\n",
        "        return len(self.queue) == 0\n"
      ]
    },
    {
      "cell_type": "markdown",
      "id": "e427bce7",
      "metadata": {
        "id": "e427bce7",
        "notebookgrader": {
          "id": "f547055fa4484a2e1625f5d88717b38fc58b4850",
          "readonly": true
        }
      },
      "source": [
        "Let's see how it works."
      ]
    },
    {
      "cell_type": "code",
      "execution_count": 4,
      "id": "24018643",
      "metadata": {
        "colab": {
          "base_uri": "https://localhost:8080/",
          "height": 86
        },
        "id": "24018643",
        "notebookgrader": {
          "id": "4cba88081b85181af64c3b65ed7a08d957a296f0",
          "is_solution": false,
          "is_tests": false,
          "readonly": true
        },
        "outputId": "918b7df5-08a7-4247-c547-0223d7351a12"
      },
      "outputs": [
        {
          "name": "stdout",
          "output_type": "stream",
          "text": [
            "None\n",
            "a\n",
            "b\n",
            "None\n"
          ]
        }
      ],
      "source": [
        "s = Queue()\n",
        "print(s.get())\n",
        "s.add('a')\n",
        "s.add('b')\n",
        "print(s.get())\n",
        "print(s.get())\n",
        "print(s.get())"
      ]
    },
    {
      "cell_type": "markdown",
      "id": "bf679294",
      "metadata": {
        "id": "bf679294",
        "notebookgrader": {
          "id": "0d548b3d11223929eacf45ec21cbe31eafdb0360",
          "readonly": true
        }
      },
      "source": [
        "As you see, in a queue, the elements are retrieved in the same order in which they were added."
      ]
    },
    {
      "cell_type": "markdown",
      "id": "e94dbeea",
      "metadata": {
        "id": "e94dbeea",
        "notebookgrader": {
          "id": "87a2129144dbe5335bba046779d7ee0489c21a8a",
          "readonly": true
        }
      },
      "source": [
        "Python experts might note that, for a queue, we would do better by using the [`collections.deque` class](https://docs.python.org/3.7/library/collections.html#collections.deque), rather than the list class, to make the `pop(0)` operation more efficient; in lists, it takes time proportional to the length of the list; in deques, it takes constant time.  For small lists, however, the difference is negligible.\n"
      ]
    },
    {
      "cell_type": "markdown",
      "id": "4c0244d2",
      "metadata": {
        "id": "4c0244d2",
        "notebookgrader": {
          "id": "d00d123775c64fcfdc5c757fafe5ce894a89bb87",
          "readonly": true
        }
      },
      "source": [
        "We now consider a use case in which we may need to put in the queue or stack many repeated copies of the same object.  For instance, assume that the queue is used to store events, and assume that some event may end up being repeated many times in a row.  As an example, the events can be \"s\", for the tick of a second, \"m\", when the minute advances, and \"h\", when the hour advances.  There will be 60 consecutive \"s\" events between any two \"m\" events, and it seems a waste to store so many consecutive identical events.  Storing many identical things in a row is akin to counting in unary notation, after all.  We would be better off storing the repeated elements only once, along with a count of the number of times they occur.  Let's develop a queue using this idea (a stack can be done similarly)."
      ]
    },
    {
      "cell_type": "markdown",
      "id": "fb486ecc",
      "metadata": {
        "id": "fb486ecc",
        "notebookgrader": {
          "id": "49971ba1e28627a810796b928235a86809963a9c",
          "readonly": true
        }
      },
      "source": [
        "To facilitate debugging, we will implement counting queues in two fashions: first in a silly fashion, implementing their correct interface, but without implementing the smart way of storing elements with their count, and then later in the proper fashion.\n",
        "Implementing things the silly way is often useful.  For one thing, it's easier, which other things being equal is an advantage.  For another, it will let you postpone the difficult implementation, so that you can do it once you really have enough data to support the belief that repeated elements will be common.  Finally, simple  implementations are useful in testing, as you can compare the behavior of more complex and efficient implementations with that of simpler, if inefficient, ones.  You can even profile your code later, to decide whether the complication of adopting the more refined implementation was worth it."
      ]
    },
    {
      "cell_type": "code",
      "execution_count": 5,
      "id": "5867b71c",
      "metadata": {
        "id": "5867b71c",
        "notebookgrader": {
          "id": "a158a7c97c1146bacd5abce04ac4c2eb03a7bdef",
          "is_solution": false,
          "is_tests": false,
          "readonly": true
        },
        "outputId": "3f023296-e105-4e69-d665-fed0151b6454"
      },
      "outputs": [],
      "source": [
        "class NotQuiteCountingQueue(object):\n",
        "\n",
        "    def __init__(self):\n",
        "        self.queue = []\n",
        "\n",
        "    def __repr__(self):\n",
        "        \"\"\"Defining a __repr__ function will enable us to print the\n",
        "        queue contents, and facilitate debugging.\"\"\"\n",
        "        return repr(self.queue) # Good enough.\n",
        "\n",
        "    def add(self, x, count=1):\n",
        "        \"\"\"When we push an element, we can push it with an optional count.\"\"\"\n",
        "        # This is a devilish trick, but if you multiply a list, you get multiple\n",
        "        # copies of it concatenated.\n",
        "        self.queue = self.queue + [x] * count\n",
        "\n",
        "    def get(self):\n",
        "        return self.queue.pop(0) if len(self.queue) > 0 else None\n",
        "\n",
        "    def isempty(self):\n",
        "        return len(self.queue) == 0\n",
        "\n",
        "    def length(self):\n",
        "        return len(self.queue)\n"
      ]
    },
    {
      "cell_type": "markdown",
      "id": "859d49e5",
      "metadata": {
        "id": "859d49e5",
        "notebookgrader": {
          "id": "a44c3cc2df30e93348a6ed88c76f976d01b832b7",
          "readonly": true
        }
      },
      "source": [
        "Let us see how this works."
      ]
    },
    {
      "cell_type": "code",
      "execution_count": 6,
      "id": "67f3d892",
      "metadata": {
        "colab": {
          "base_uri": "https://localhost:8080/",
          "height": 156
        },
        "id": "67f3d892",
        "notebookgrader": {
          "id": "cca7092d9346306ec540826143d8d8dabb6e659c",
          "is_solution": false,
          "is_tests": false,
          "readonly": true
        },
        "outputId": "3224f19f-be1d-4b53-a8e7-6915f1bb517b"
      },
      "outputs": [
        {
          "name": "stdout",
          "output_type": "stream",
          "text": [
            "a\n",
            "b\n",
            "b\n",
            "b\n",
            "b\n",
            "b\n",
            "c\n",
            "c\n"
          ]
        }
      ],
      "source": [
        "q = NotQuiteCountingQueue()\n",
        "q.add('a')\n",
        "q.add('b', count=5)\n",
        "q.add('c', count=2)\n",
        "while not q.isempty():\n",
        "    print(q.get())"
      ]
    },
    {
      "cell_type": "markdown",
      "id": "1b532b82",
      "metadata": {
        "id": "1b532b82",
        "notebookgrader": {
          "id": "590502e0a51cdc6fe8be164c5ae62872de11b647",
          "readonly": true
        }
      },
      "source": [
        "Let's write our smart implementation now.  In the queue, we will store pairs $(x, n)$, where $x$ is an element and $n$ is the count of the number of occurrences of $x$."
      ]
    },
    {
      "cell_type": "code",
      "execution_count": 7,
      "id": "e3a32611",
      "metadata": {
        "id": "e3a32611",
        "notebookgrader": {
          "id": "af5901e7be477f365275a4db14885cc001e316cf",
          "is_solution": false,
          "is_tests": false,
          "readonly": true
        },
        "outputId": "b50be779-db19-47af-d115-a799203deac9"
      },
      "outputs": [],
      "source": [
        "class CountingQueue(object):\n",
        "\n",
        "    def __init__(self):\n",
        "        self.queue = []\n",
        "\n",
        "    def __repr__(self):\n",
        "        return repr(self.queue)\n",
        "\n",
        "    def add(self, x, count=1):\n",
        "        # If the element is the same as the last element, we simply\n",
        "        # increment the count.  This assumes we can test equality of\n",
        "        # elements.\n",
        "        if len(self.queue) > 0:\n",
        "            xx, cc = self.queue[-1]\n",
        "            if xx == x:\n",
        "                self.queue[-1] = (xx, cc + count)\n",
        "            else:\n",
        "                self.queue.append((x, count))\n",
        "        else:\n",
        "            self.queue = [(x, count)]\n",
        "\n",
        "    def get(self):\n",
        "        if len(self.queue) == 0:\n",
        "            return None\n",
        "        x, c = self.queue[0]\n",
        "        if c == 1:\n",
        "            self.queue.pop(0)\n",
        "            return x\n",
        "        else:\n",
        "            self.queue[0] = (x, c - 1)\n",
        "            return x\n",
        "\n",
        "    def isempty(self):\n",
        "        # Since the count of an element is never 0, we can just check\n",
        "        # whether the queue is empty.\n",
        "        return len(self.queue) == 0\n"
      ]
    },
    {
      "cell_type": "markdown",
      "id": "0b6e4ad1",
      "metadata": {
        "id": "0b6e4ad1",
        "notebookgrader": {
          "id": "604d31a2a20de5c9798fdd60e91700f7cd6e75d9",
          "readonly": true
        }
      },
      "source": [
        "Let's put this to the same test as before, printing the queue contents at each step to see what is going on."
      ]
    },
    {
      "cell_type": "code",
      "execution_count": 8,
      "id": "48d79618",
      "metadata": {
        "colab": {
          "base_uri": "https://localhost:8080/",
          "height": 347
        },
        "id": "48d79618",
        "notebookgrader": {
          "id": "2e8efdb87fcaac71f3ed91fdb06cdbdee5964dbe",
          "is_solution": false,
          "is_tests": false,
          "readonly": true
        },
        "outputId": "c35e401c-c7aa-4593-dd27-cac97d82dbf4"
      },
      "outputs": [
        {
          "name": "stdout",
          "output_type": "stream",
          "text": [
            "[('a', 1)]\n",
            "[('a', 1), ('b', 5)]\n",
            "[('a', 1), ('b', 5), ('c', 2)]\n",
            "a\n",
            "[('b', 5), ('c', 2)]\n",
            "b\n",
            "[('b', 4), ('c', 2)]\n",
            "b\n",
            "[('b', 3), ('c', 2)]\n",
            "b\n",
            "[('b', 2), ('c', 2)]\n",
            "b\n",
            "[('b', 1), ('c', 2)]\n",
            "b\n",
            "[('c', 2)]\n",
            "c\n",
            "[('c', 1)]\n",
            "c\n",
            "[]\n"
          ]
        }
      ],
      "source": [
        "q = CountingQueue()\n",
        "q.add('a')\n",
        "print(q)\n",
        "q.add('b', count=5)\n",
        "print(q)\n",
        "q.add('c', count=2)\n",
        "print(q)\n",
        "while not q.isempty():\n",
        "    print(q.get())\n",
        "    print(q)"
      ]
    },
    {
      "cell_type": "markdown",
      "id": "597fa4e8",
      "metadata": {
        "id": "597fa4e8",
        "notebookgrader": {
          "id": "7adff314368992238b64deb6b117f131789cb714",
          "readonly": true
        }
      },
      "source": [
        "It works!  And notice that it works even if we add elements one by one."
      ]
    },
    {
      "cell_type": "code",
      "execution_count": 9,
      "id": "41ea77b0",
      "metadata": {
        "colab": {
          "base_uri": "https://localhost:8080/",
          "height": 34
        },
        "id": "41ea77b0",
        "notebookgrader": {
          "id": "fd53cf3229234874f0a32a17282984e5bdbf25b0",
          "is_solution": false,
          "is_tests": false,
          "readonly": true
        },
        "outputId": "a64444ff-a303-4f4f-d31c-985ddd91314f"
      },
      "outputs": [
        {
          "name": "stdout",
          "output_type": "stream",
          "text": [
            "[('a', 10), ('b', 1), ('c', 6)]\n"
          ]
        }
      ],
      "source": [
        "q = CountingQueue()\n",
        "for i in range(10):\n",
        "    q.add('a')\n",
        "q.add('b')\n",
        "for i in range(3):\n",
        "    q.add('c', count=2)\n",
        "print(q)"
      ]
    },
    {
      "cell_type": "code",
      "execution_count": 10,
      "id": "21180cf7",
      "metadata": {
        "cellView": "form",
        "id": "21180cf7",
        "notebookgrader": {
          "id": "e468a4157b6ebb09be25eb61fdf9011ccf16d0ff",
          "is_solution": false,
          "is_tests": false,
          "readonly": true
        },
        "outputId": "f944f70f-31ac-49dc-f32b-d281787a68dd"
      },
      "outputs": [],
      "source": [
        "#@title Testing helper\n",
        "\n",
        "def check_equal(x, y, msg=None):\n",
        "    if x == y:\n",
        "        if msg is not None:\n",
        "            print(msg, \": Success\")\n",
        "    else:\n",
        "        if msg is None:\n",
        "            print(\"Error:\")\n",
        "        else:\n",
        "            print(\"Error in\", msg, \":\")\n",
        "        print(\"    Your answer was:\", x)\n",
        "        print(\"    Correct answer: \", y)\n",
        "    assert x == y, \"%r and %r are different\" % (x, y)"
      ]
    },
    {
      "cell_type": "markdown",
      "id": "4b4c01df",
      "metadata": {
        "id": "4b4c01df",
        "notebookgrader": {
          "id": "f6577a5872acf108a9ce182899b91cccee045e54",
          "readonly": true
        }
      },
      "source": [
        "## The `__len__` Method"
      ]
    },
    {
      "cell_type": "markdown",
      "id": "a8b7cf33",
      "metadata": {
        "id": "a8b7cf33",
        "notebookgrader": {
          "id": "3d9c46fcacf79ffdc81828d5b7361e53a4848ec8",
          "readonly": true
        }
      },
      "source": [
        "If you want to take the length of an object, as in\n",
        "\n",
        "    len(someobject)\n",
        "\n",
        "then `someobject` must have a `__len__` method, which should return the length.\n",
        "Here is a wrong implementation, which always returns length 2.  The implementation is wrong, but it shows how `__len__` should be implemented."
      ]
    },
    {
      "cell_type": "code",
      "execution_count": 11,
      "id": "56045f8c",
      "metadata": {
        "id": "56045f8c",
        "notebookgrader": {
          "id": "2729728039c3b3d20e6b28b77bdb0c50ce6291fa",
          "is_solution": false,
          "is_tests": false,
          "readonly": true
        },
        "outputId": "215bb3fe-5177-4f9f-d93c-e59010db4b2c"
      },
      "outputs": [],
      "source": [
        "# We define a function...\n",
        "def wronglength(self):\n",
        "    return 2\n",
        "\n",
        "#... and we assign it to the __len__ methods.\n",
        "CountingQueue.__len__ = wronglength"
      ]
    },
    {
      "cell_type": "markdown",
      "id": "9cda5948",
      "metadata": {
        "id": "9cda5948",
        "notebookgrader": {
          "id": "f4489b89cd58c6db617cbeb3df5d4374cbdba307",
          "readonly": true
        }
      },
      "source": [
        "What we did before is a bit un-orthodox.  We should have really added the definition of `__len__` into the declaration of the class, like this:\n",
        "\n",
        "    class CountingQueue(object):\n",
        "\n",
        "        def __init__(self):\n",
        "            self.queue = []\n",
        "\n",
        "        # ... etc etc...\n",
        "\n",
        "        def __len__(self):\n",
        "            return 2\n",
        "\n",
        "In these class notebooks, however, to avoid redefining classes from scratch all the time, we will often use the trick of defining a function, and then assigning it to a class method."
      ]
    },
    {
      "cell_type": "markdown",
      "id": "3e6baade",
      "metadata": {
        "id": "3e6baade",
        "notebookgrader": {
          "id": "a1e80abfe2afc11e7955631217539e77ab198705",
          "readonly": true
        }
      },
      "source": [
        "**Exercise:** Define a correct function `__len__`, which returns the number of elements in a counting queue."
      ]
    },
    {
      "cell_type": "code",
      "execution_count": 12,
      "id": "9584de0e",
      "metadata": {
        "id": "9584de0e",
        "notebookgrader": {
          "id": "a68f3761272eea53c17b5178df59ba3255cc76cd",
          "is_solution": true,
          "is_tests": false,
          "readonly": false
        },
        "outputId": "7bf90fd5-5dc0-41c9-a0cc-7b97d809d30b"
      },
      "outputs": [],
      "source": [
        "#@title Exercise: implement `__len__` for a counting queue\n",
        "\n",
        "def countingqueue_len(self):\n",
        "    \"\"\"Returns the number of elements in the queue.\"\"\"\n",
        "    ### YOUR SOLUTION HERE\n",
        "    return sum(count for _, count in self.queue)\n",
        "# This is a way to add a method to a class once the class\n",
        "# has already been defined.\n",
        "CountingQueue.__len__ = countingqueue_len"
      ]
    },
    {
      "cell_type": "code",
      "execution_count": 13,
      "id": "38e8535b",
      "metadata": {
        "cellView": "form",
        "id": "38e8535b",
        "notebookgrader": {
          "id": "aee0e7ed5212276f8897aa77e904dd7f82307948",
          "is_solution": false,
          "is_tests": true,
          "points_earned": 10,
          "readonly": true,
          "test_points": 10
        },
        "outputId": "ff1b276b-c47e-4bdb-b30d-69c2260fc012"
      },
      "outputs": [],
      "source": [
        "# Tests 10 points: `__len__`\n",
        "\n",
        "q = CountingQueue()\n",
        "for i in range(10):\n",
        "    q.add('a')\n",
        "q.add('b')\n",
        "for i in range(3):\n",
        "    q.add('c', count=2)\n",
        "check_equal(len(q), 17)\n"
      ]
    },
    {
      "cell_type": "markdown",
      "id": "aa2f1d95",
      "metadata": {
        "id": "aa2f1d95",
        "notebookgrader": {
          "id": "58b169e9f57c780883990d0ae543f2808fcc4aff",
          "readonly": true
        }
      },
      "source": [
        "**Exercise:** Implement counting stacks."
      ]
    },
    {
      "cell_type": "markdown",
      "id": "2818ac4e",
      "metadata": {
        "id": "2818ac4e",
        "notebookgrader": {
          "id": "cbfec8ff78414135296d6044e210aea09ad649d5",
          "readonly": true
        }
      },
      "source": [
        "## The `__iter__` Method\n",
        "\n",
        "We would like to be able to have a way of iterating over elements in our counting queue.  \n",
        "This can be used, for instance, to print them, or to process the elements in some way.\n",
        "\n",
        "Precisely, we would like to have a way of writing, for a counting queue `q`:\n",
        "\n",
        "    for el in q:\n",
        "        print el\n",
        "\n",
        "and we would like this to print all queue elements, in order.\n",
        "\n",
        "The way to achieve this is to define an `__iter__` method that acts as a generator for the elements."
      ]
    },
    {
      "cell_type": "markdown",
      "id": "d50001ac",
      "metadata": {
        "id": "d50001ac",
        "notebookgrader": {
          "id": "f17208be485c92fc35e8b80848084232a3708969",
          "readonly": true
        }
      },
      "source": [
        "Doing this for a normal (non-counting) queue is easy.  Note how we are again using our hacky syntax for adding a method post-definition to a class."
      ]
    },
    {
      "cell_type": "code",
      "execution_count": 14,
      "id": "fdda75ee",
      "metadata": {
        "id": "fdda75ee",
        "notebookgrader": {
          "id": "011c6db41dbc3bf1219d5cf80a39355e34bbf404",
          "is_solution": false,
          "is_tests": false,
          "readonly": true
        },
        "outputId": "da3e6279-c65b-4857-f04e-82068eac1cc5"
      },
      "outputs": [],
      "source": [
        "def queue_iter_elements(self):\n",
        "    for el in self.queue:\n",
        "        yield el\n",
        "\n",
        "Queue.__iter__ = queue_iter_elements"
      ]
    },
    {
      "cell_type": "code",
      "execution_count": 15,
      "id": "a878536e",
      "metadata": {
        "colab": {
          "base_uri": "https://localhost:8080/",
          "height": 69
        },
        "id": "a878536e",
        "notebookgrader": {
          "id": "4f5381a3b331ce4e2e0fa2e258070bf7287ac78e",
          "is_solution": false,
          "is_tests": false,
          "readonly": true
        },
        "outputId": "b843b66d-75cd-4ec1-959b-a8714941749d"
      },
      "outputs": [
        {
          "name": "stdout",
          "output_type": "stream",
          "text": [
            "a\n",
            "b\n",
            "c\n"
          ]
        }
      ],
      "source": [
        "normal_queue = Queue()\n",
        "normal_queue.add('a')\n",
        "normal_queue.add('b')\n",
        "normal_queue.add('c')\n",
        "\n",
        "for el in normal_queue:\n",
        "    print(el)"
      ]
    },
    {
      "cell_type": "markdown",
      "id": "3ae8d26a",
      "metadata": {
        "id": "3ae8d26a",
        "notebookgrader": {
          "id": "aeb18aa483c4d12e815abce10403f7c00152e371",
          "readonly": true
        }
      },
      "source": [
        "Note that we cannot use our `queue_iter_elements` on a counting queue; we would get a wrong result:"
      ]
    },
    {
      "cell_type": "code",
      "execution_count": 16,
      "id": "ca64869c",
      "metadata": {
        "colab": {
          "base_uri": "https://localhost:8080/",
          "height": 104
        },
        "id": "ca64869c",
        "notebookgrader": {
          "id": "c680c8be5a2e44c8df65c317efbf5f46dd2a19bc",
          "is_solution": false,
          "is_tests": false,
          "readonly": true
        },
        "outputId": "55fa99e2-5a04-4a68-e8d5-44499520403a"
      },
      "outputs": [
        {
          "name": "stdout",
          "output_type": "stream",
          "text": [
            "(0, 2)\n",
            "(1, 2)\n",
            "(2, 2)\n",
            "(3, 2)\n",
            "(4, 2)\n"
          ]
        }
      ],
      "source": [
        "CountingQueue.__iter__ = queue_iter_elements\n",
        "\n",
        "q = CountingQueue()\n",
        "for i in range(5):\n",
        "    q.add(i)\n",
        "    q.add(i)\n",
        "for el in q:\n",
        "    print(el)"
      ]
    },
    {
      "cell_type": "markdown",
      "id": "4cfd09eb",
      "metadata": {
        "id": "4cfd09eb",
        "notebookgrader": {
          "id": "eeb32f2cae4490d4bd2cbba763e08f108d888233",
          "readonly": true
        }
      },
      "source": [
        "**Exercise:** Write an iterator for counting queue that correctly iterates over the element in the counting queue."
      ]
    },
    {
      "cell_type": "code",
      "execution_count": 17,
      "id": "634fb1d0",
      "metadata": {
        "id": "634fb1d0",
        "notebookgrader": {
          "id": "f761b85e2df321321ea5c11d5788621e3bd37f23",
          "is_solution": true,
          "is_tests": false,
          "readonly": false
        },
        "outputId": "f5348e99-533d-4bb2-d6ee-e69abff93b3e"
      },
      "outputs": [],
      "source": [
        "#@title Exercise: Write an iterator for CountingQueue\n",
        "\n",
        "# Note: it can be done elegantly in 3 lines of code.\n",
        "\n",
        "def countingqueue_iter_elements(self):\n",
        "    \"\"\"Iterates through all the elements of the queue,\n",
        "    without removing them.\"\"\"\n",
        "    ### YOUR SOLUTION HERE\n",
        "    for element, count in self.queue:\n",
        "        for _ in range(count):\n",
        "            yield element\n",
        "\n",
        "CountingQueue.__iter__ = countingqueue_iter_elements"
      ]
    },
    {
      "cell_type": "code",
      "execution_count": 18,
      "id": "a2633124",
      "metadata": {
        "cellView": "form",
        "id": "a2633124",
        "notebookgrader": {
          "id": "5d0cea1783f52f740c69f50c8e580edc1ba2902a",
          "is_solution": false,
          "is_tests": true,
          "points_earned": 10,
          "readonly": true,
          "test_points": 10
        },
        "outputId": "e96cd2a8-f955-4f50-b4ee-34cd8bb3046f"
      },
      "outputs": [],
      "source": [
        "# Tests 10 points: for `CountingQueue.__iter__`\n",
        "\n",
        "q = CountingQueue()\n",
        "for i in range(10):\n",
        "    q.add('a')\n",
        "q.add('b')\n",
        "for i in range(3):\n",
        "    q.add('c', count=2)\n",
        "l1 = [x for x in q]\n",
        "l2 = []\n",
        "while not q.isempty():\n",
        "    l2.append(q.get())\n",
        "check_equal(l1, l2)\n"
      ]
    }
  ],
  "metadata": {
    "colab": {
      "provenance": []
    },
    "kernelspec": {
      "display_name": "Python 3",
      "language": "python",
      "name": "python3"
    },
    "language_info": {
      "codemirror_mode": {
        "name": "ipython",
        "version": 3
      },
      "file_extension": ".py",
      "mimetype": "text/x-python",
      "name": "python",
      "nbconvert_exporter": "python",
      "pygments_lexer": "ipython3",
      "version": "3.11.5"
    }
  },
  "nbformat": 4,
  "nbformat_minor": 5
}
