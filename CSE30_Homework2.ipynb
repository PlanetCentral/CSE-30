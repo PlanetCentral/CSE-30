{
  "cells": [
    {
      "cell_type": "markdown",
      "id": "a2becf08",
      "metadata": {
        "id": "a2becf08",
        "notebookgrader": {
          "id": "8ac000bfffd536e8c2912d22988a106d1a8e9ed1",
          "readonly": true
        }
      },
      "source": [
        "# Regions\n",
        "\n",
        "### © Luca de Alfaro, 2018-21, [CC-BY_NC License](http://creativecommons.org/licenses/by-nc-nd/4.0/)."
      ]
    },
    {
      "cell_type": "markdown",
      "id": "60f9d235",
      "metadata": {
        "id": "60f9d235",
        "notebookgrader": {
          "id": "c38eaba6d9aeefade8d14152f521f5de8eef490c",
          "readonly": true
        }
      },
      "source": [
        "In this module, we will write code to represent regions of space.  We will represent a _region_ as the union of rectangles whose sides are parallel to the Cartesian axes.  Of course, this does not suffice to represent all possible regions of space, but by using lots of small rectangles, we can at least approximate most (continuous, etc) regions.\n",
        "\n",
        "Since a region is the union of rectangles, let us turn our attention to rectangles."
      ]
    },
    {
      "cell_type": "markdown",
      "id": "83659d48",
      "metadata": {
        "id": "83659d48",
        "notebookgrader": {
          "id": "367aeba68f3997ec0ada374f4d5a83c5fcc7ad11",
          "readonly": true
        }
      },
      "source": [
        "## Rectangles\n",
        "\n",
        "We need to represent rectangles whose sides, and edges, are parallel to the axes of the Cartesian space.\n",
        "What is a good representation for a rectangle?\n",
        "\n",
        "Let us consider informally the 2D case first.\n",
        "One of the most obvious representations for such a rectangle consists in representing it by its four vertices, represented as $(x, y)$ coordinate pairs.  The following is a possibility:"
      ]
    },
    {
      "cell_type": "code",
      "execution_count": 47,
      "id": "6f166fc1",
      "metadata": {
        "id": "6f166fc1",
        "notebookgrader": {
          "id": "1738669007b7ae9ecc0bada4c3d5d16a45a55e6a",
          "is_solution": false,
          "is_tests": false,
          "readonly": true
        }
      },
      "outputs": [],
      "source": [
        "class NaiveRectangle1(object):\n",
        "\n",
        "    def __init__(self, x0, y0, x1, y1, x2, y2, x3, y3):\n",
        "        self.x0 = x0 # Lower left\n",
        "        self.x1 = x1 # Upper left\n",
        "        self.x2 = x2 # Upper right\n",
        "        self.x3 = x3 # Lower right\n",
        "        self.y0 = y0 # Lower left\n",
        "        self.y1 = y1 # Upper left\n",
        "        self.y2 = y2 # Upper right\n",
        "        self.y3 = y3 # Lower right"
      ]
    },
    {
      "cell_type": "markdown",
      "id": "e39dc3c5",
      "metadata": {
        "id": "e39dc3c5",
        "notebookgrader": {
          "id": "edfcd9d6a7f2c49409a7608547b8986cc3044554",
          "readonly": true
        }
      },
      "source": [
        "This representation suffers from a first immediate problem: in a 2D rectangle with sides parallel to the edges, there are only 4 independent numbers, not 8!  In particular, we see that it must be `x0 == x3`, and `x1 == x2`, and `y0 == y1`, and `y2 = y3`.\n",
        "This suggests keeping only the two opposite corners, for instance, lower left and upper right:"
      ]
    },
    {
      "cell_type": "code",
      "execution_count": 48,
      "id": "0e851427",
      "metadata": {
        "id": "0e851427",
        "notebookgrader": {
          "id": "40cb2dcbd8916de270d56a993ef6cec5af0dafee",
          "is_solution": false,
          "is_tests": false,
          "readonly": true
        }
      },
      "outputs": [],
      "source": [
        "class NaiveRectangle2(object):\n",
        "\n",
        "    def __init__(self, xll, yll, xur, yur):\n",
        "        self.xll = x0 # Lower left\n",
        "        self.yll = yll # Lower left\n",
        "        self.xur = xur # Upper right\n",
        "        self.yur = yur# Upper right\n"
      ]
    },
    {
      "cell_type": "markdown",
      "id": "2f69e180",
      "metadata": {
        "id": "2f69e180",
        "notebookgrader": {
          "id": "a0a2a410921394fd35194175b884d1bec7d041f6",
          "readonly": true
        }
      },
      "source": [
        "This representation, based on \"selected vertices\", is a plausible representation for 2D rectangles, but I argue not an optimal one.  There are two problems with it.\n",
        "\n",
        "First, it is not clear how to generalize it to multiple dimensions.  In 3D, for instance, two vertices are not enough, four are too many, and yet, one can check that no set of three vertices of a rectangle suffices to uniquely identify the rectangle.  This lack of generalizability should make us suspicious that representing rectangles in terms of a reduced set of their vertices is not a good idea.\n",
        "\n",
        "Second, even if we limit ourselves to 2D, the representation in terms of opposite vertices does not make it easy to implement the operations we need.  At a minimum, we need to compute operations between rectangles such as intersection and difference, so we can subtract boxes from the empty space.  Yet, there are many ways in which for example rectangles can intersect:\n",
        "\n",
        "* One rectangle contains a vertex of the other.\n",
        "* One rectangle is completely contained the other.\n",
        "* One rectangle has a face in the other rectangle.\n",
        "\n",
        "and perhaps more.  If we try to hard-code this for 3D rectangles, implementing operations such as intersection, and difference, might result in very cumbersome case analysis.  \n",
        "\n",
        "Whenever things turn complicated, it is a good idea to wonder whether there is perhaps some other way of thinking at the problem, which is perhaps initially less apparent, but that can lead to a much simpler treatment.  In this case, there is: it is _intervals_.  \n",
        "\n",
        "A 1D rectangle is simply an interval.  We can think of a 2D rectangle, rather than as a collection of vertices, as the intersection of two intervals: one for the x-axis, and one for the y-axis.  Similarly, a 3D rectangle can be thought of as the intersection of three intervals, on the x, y, and z axes.  To compute the intersection of two rectangles, we just need to compute the intersection of their intervals on the respective axes.  Thus, intervals provide a simple representation that generalizes well to multiple dimensions.\n",
        "\n",
        "We start building our representation from intervals.  We then use intersection of intervals to represent rectangles, and unions rectangels to represent regions of space.\n"
      ]
    },
    {
      "cell_type": "markdown",
      "id": "82621d9e",
      "metadata": {
        "id": "82621d9e",
        "notebookgrader": {
          "id": "719e9011450427b8d8173e75ce234b0954070a08",
          "readonly": true
        }
      },
      "source": [
        "## Intervals\n",
        "\n",
        "An interval is defined by its two endpoints.  We keep them sorted, which will make it (a lot) easier to operate on them."
      ]
    },
    {
      "cell_type": "code",
      "execution_count": 49,
      "id": "6aae6f74",
      "metadata": {
        "id": "6aae6f74",
        "notebookgrader": {
          "id": "399579236a25e7993351607d07fed4e51de20f65",
          "is_solution": false,
          "is_tests": false,
          "readonly": true
        }
      },
      "outputs": [],
      "source": [
        "class Interval(object):\n",
        "\n",
        "    def __init__(self, x0, x1):\n",
        "        # Sorts the endpoints, to ensure that x0 <= x1.\n",
        "        x0, x1 = (x0, x1) if x0 < x1 else (x1, x0)\n",
        "        assert x0 < x1 # No point intervals.\n",
        "        self.x0 = x0\n",
        "        self.x1 = x1\n",
        "\n",
        "    @property\n",
        "    def length(self):\n",
        "        return self.x1 - self.x0\n",
        "\n",
        "    def endpoints(self):\n",
        "        return (self.x0, self.x1)\n",
        "\n",
        "    def __getitem__(self, i):\n",
        "        \"\"\"Alternative way of accessing endpoints.\"\"\"\n",
        "        if i == 0:\n",
        "            return self.x0\n",
        "        elif i == 1:\n",
        "            return self.x1\n",
        "        raise KeyError()\n",
        "\n",
        "    def __repr__(self):\n",
        "        return \"[{},{}]\".format(self.x0, self.x1)"
      ]
    },
    {
      "cell_type": "markdown",
      "id": "da4ae4ab",
      "metadata": {
        "id": "da4ae4ab",
        "notebookgrader": {
          "id": "ff058271acbdb2fef76b3e00bb32577e1c115502",
          "readonly": true
        }
      },
      "source": [
        "The main operations we need on intervals, to do anything interesting, are:\n",
        "\n",
        "* **Intersection.** Given two intervals `i` and `j`, we want to define `__and__` for an interval so that `i && j` will be either `None`, if `i` and `j` have no intersection, or the interval corresponding to the intersection of `i` and `j`.\n",
        "\n",
        "* **Union.** The union of two intervals is not necessarily an interval; it could also be _two_ intervals, if the original intervals are disjoint and there is a gap in between.  Thus, we define `__sub__` so that `i - j` returns a _list_ consisting of 1 or 2 intervals.\n",
        "\n",
        "* **Difference.** The difference `i - j` is the portion of `i` that is not in `j`.  The result is a _list_ of intervals, containing 0 intervals (if `j` includes `i`), one interval (if `j` does not overlap `i`, or if it overlaps only from one side of `i`), or two intervals (if `j` falls in the middle of `i`).\n",
        "\n",
        "* **Equality.** Two intervals are equal if, well, they are equal.\n",
        "\n",
        "* **Membership.** We test for a point belonging to an interval.\n",
        "\n",
        "In defining these operations, we disregard isolated points, and we blur the distinction between open and closed intervals.  After all, we only care about representing regions of space, and so isolated points and things that have no extension, or no volume, are not a concern of ours.  So for instance, if we subtract the interval $[3, 5]$ from $[0, 4]$, the result will be simply the interval $[4, 5]$: we do not track whether the interval is open or closed at 5.  Likewise, point-wise intervals such as $[5, 5]$ are simply not considered."
      ]
    },
    {
      "cell_type": "markdown",
      "id": "a2a74046",
      "metadata": {
        "id": "a2a74046",
        "notebookgrader": {
          "id": "44001314ad20fe3bc56b487c7121fabd69903f54",
          "readonly": true
        }
      },
      "source": [
        "### Equality\n",
        "\n",
        "Let us start by implementing equality.  We leave this to you."
      ]
    },
    {
      "cell_type": "code",
      "execution_count": 50,
      "id": "d0f5b6de",
      "metadata": {
        "id": "d0f5b6de",
        "notebookgrader": {
          "id": "894a28e2eb18c6e4a72aaf1a342cfb389a98e940",
          "is_solution": true,
          "is_tests": false,
          "readonly": false
        }
      },
      "outputs": [],
      "source": [
        "#@title Defining Equality\n",
        "\n",
        "def interval_equality(self, other):\n",
        "    \"\"\"Return True iff the intervals self and other are equal, and False otherwise.\"\"\"\n",
        "    # Remember, other is not guaranteed to be an Interval.\n",
        "    if not isinstance(other, Interval):\n",
        "        return False\n",
        "    ### YOUR SOLUTION HERE\n",
        "    return self.x0 == other.x0 and self.x1 == other.x1\n",
        "Interval.__eq__ = interval_equality"
      ]
    },
    {
      "cell_type": "code",
      "execution_count": 51,
      "id": "0cd8d442",
      "metadata": {
        "colab": {
          "base_uri": "https://localhost:8080/"
        },
        "id": "0cd8d442",
        "notebookgrader": {
          "id": "4072e793d1bcaf6d0f36437e7b6ae621aff7272e",
          "is_solution": false,
          "is_tests": false,
          "readonly": true
        },
        "outputId": "3392fe67-b396-4c3c-d8da-6acf7f2cabab"
      },
      "outputs": [
        {
          "data": {
            "text/plain": [
              "[3,5]"
            ]
          },
          "execution_count": 51,
          "metadata": {},
          "output_type": "execute_result"
        }
      ],
      "source": [
        "i = Interval(3, 5)\n",
        "j = Interval(4, 5)\n",
        "i"
      ]
    },
    {
      "cell_type": "code",
      "execution_count": 52,
      "id": "b2ca8bef",
      "metadata": {
        "id": "b2ca8bef",
        "notebookgrader": {
          "id": "6737affef63e2c740a9ed158089039f1a1e3367c",
          "is_solution": false,
          "is_tests": true,
          "points_earned": 5,
          "readonly": true,
          "test_points": 5
        }
      },
      "outputs": [],
      "source": [
        "# Tests 5 points.\n",
        "\n",
        "assert i != j\n",
        "assert Interval(5, 7) == Interval(5, 7)"
      ]
    },
    {
      "cell_type": "markdown",
      "id": "fe5b40ad",
      "metadata": {
        "id": "fe5b40ad",
        "notebookgrader": {
          "id": "d2d64a4b1f8b2b0ebc8a2d56674aa5df356d4466",
          "readonly": true
        }
      },
      "source": [
        "### Union\n",
        "\n",
        "We define union for you, to give you an example."
      ]
    },
    {
      "cell_type": "code",
      "execution_count": 53,
      "id": "27dd97fd",
      "metadata": {
        "id": "27dd97fd",
        "notebookgrader": {
          "id": "5893a0b4fb7a01a91368783538074c5d1d675684",
          "is_solution": false,
          "is_tests": false,
          "readonly": true
        }
      },
      "outputs": [],
      "source": [
        "def interval_or(self, other):\n",
        "    \"\"\"Union of self and other.  Returns a list of 1 or 2 non-overlapping intervals.\"\"\"\n",
        "    if self.x1 < other.x0 or other.x1 < self.x0:\n",
        "        # Disjoint\n",
        "        return [self, other]\n",
        "    else:\n",
        "        # Have intersection, merge them.\n",
        "        return [Interval(min(self.x0, other.x0), max(self.x1, other.x1))]\n",
        "\n",
        "Interval.__or__ = interval_or"
      ]
    },
    {
      "cell_type": "code",
      "execution_count": 54,
      "id": "cf68d975",
      "metadata": {
        "colab": {
          "base_uri": "https://localhost:8080/"
        },
        "id": "cf68d975",
        "notebookgrader": {
          "id": "d16b841a7e681bc44d408e35b185b476a613439a",
          "is_solution": false,
          "is_tests": false,
          "readonly": true
        },
        "outputId": "99d236e6-dd79-4ed5-9896-2b7af57bc561"
      },
      "outputs": [
        {
          "data": {
            "text/plain": [
              "[[3,5], [7,10]]"
            ]
          },
          "execution_count": 54,
          "metadata": {},
          "output_type": "execute_result"
        }
      ],
      "source": [
        "Interval(3, 5) | Interval(7, 10)"
      ]
    },
    {
      "cell_type": "code",
      "execution_count": 55,
      "id": "892e4ae2",
      "metadata": {
        "colab": {
          "base_uri": "https://localhost:8080/"
        },
        "id": "892e4ae2",
        "notebookgrader": {
          "id": "32c34d08f0c4d164ebff581eea1772f3759dd2d5",
          "is_solution": false,
          "is_tests": false,
          "readonly": true
        },
        "outputId": "527351ff-e2a4-46ae-e704-192f99f5b3ee"
      },
      "outputs": [
        {
          "data": {
            "text/plain": [
              "[[3,10]]"
            ]
          },
          "execution_count": 55,
          "metadata": {},
          "output_type": "execute_result"
        }
      ],
      "source": [
        "Interval(3, 5) | Interval(4, 10)"
      ]
    },
    {
      "cell_type": "markdown",
      "id": "8a478808",
      "metadata": {
        "id": "8a478808",
        "notebookgrader": {
          "id": "f89da4a60fcb513b8320e192ce8d23491e14883d",
          "readonly": true
        }
      },
      "source": [
        "## Intersection\n",
        "\n",
        "The intersection of two intervals `i` and `j` consists either of a single interval, or `None`, if the two intervals have no intersection.  We leave it to you to implement it."
      ]
    },
    {
      "cell_type": "code",
      "execution_count": 56,
      "id": "9d2d4e5b",
      "metadata": {
        "id": "9d2d4e5b",
        "notebookgrader": {
          "id": "e8773e4f839dc7dc4e2e3dcfb3a2167945236015",
          "is_solution": true,
          "is_tests": false,
          "readonly": false
        }
      },
      "outputs": [],
      "source": [
        "#@title Interval intersection\n",
        "\n",
        "def interval_and(self, other):\n",
        "    \"\"\"Intersection; returns an interval, or None.\"\"\"\n",
        "    ### YOUR SOLUTION HERE\n",
        "    if not isinstance(other, Interval):\n",
        "      return None\n",
        "    if self.x1 <= other.x0 or other.x1 <= self.x0:\n",
        "        return None\n",
        "    start = max(self.x0, other.x0)\n",
        "    end = min(self.x1, other.x1)\n",
        "    return Interval(start, end)\n",
        "Interval.__and__ = interval_and"
      ]
    },
    {
      "cell_type": "code",
      "execution_count": 57,
      "id": "14dda613",
      "metadata": {
        "id": "14dda613",
        "notebookgrader": {
          "id": "8571c962b784248eba74a5482b9531b8bea923bb",
          "is_solution": false,
          "is_tests": true,
          "points_earned": 10,
          "readonly": true,
          "test_points": 10
        }
      },
      "outputs": [],
      "source": [
        "# Tests 10 points.\n",
        "\n",
        "assert Interval(3, 10) & Interval(6, 20) == Interval(6, 10)\n",
        "assert Interval(3, 4) & Interval(5, 6) is None"
      ]
    },
    {
      "cell_type": "markdown",
      "id": "f30351f5",
      "metadata": {
        "id": "f30351f5",
        "notebookgrader": {
          "id": "323f8fedd58eb01826bb02e4705b1cd16f5417e7",
          "readonly": true
        }
      },
      "source": [
        "### Membership\n",
        "\n",
        "Given an interval `i`, and a floating point number `x`, we can write a method `__contains__` of an interval, which checks if `x` belongs to the interval.  In this way, writing `x in i` will return `True` if `x` belongs to `i`, and `False` otherwise. For the purpose of this method, you can consider an interval closed, so that\n",
        "\n",
        "    3 in Interval(3, 5)\n",
        "\n",
        "returns `True`."
      ]
    },
    {
      "cell_type": "code",
      "execution_count": 58,
      "id": "0862af45",
      "metadata": {
        "id": "0862af45",
        "notebookgrader": {
          "id": "dfd42256b5b69331cb08858377259711b60f22b6",
          "is_solution": true,
          "is_tests": false,
          "readonly": false
        }
      },
      "outputs": [],
      "source": [
        "#@title Membership of a point in an interval\n",
        "\n",
        "def interval_contains(self, x):\n",
        "    ### YOUR SOLUTION HERE\n",
        "    return self.x0 <= x <= self.x1\n",
        "Interval.__contains__ = interval_contains"
      ]
    },
    {
      "cell_type": "code",
      "execution_count": 59,
      "id": "81681e87",
      "metadata": {
        "id": "81681e87",
        "notebookgrader": {
          "id": "862392557452127ac8ab30f06388b26633c98f7b",
          "is_solution": false,
          "is_tests": true,
          "points_earned": 10,
          "readonly": true,
          "test_points": 10
        }
      },
      "outputs": [],
      "source": [
        "# Tests 10 points.\n",
        "\n",
        "assert 3 in Interval(3, 5)\n",
        "assert not (1 in Interval(3, 5))"
      ]
    },
    {
      "cell_type": "markdown",
      "id": "9b3c0adc",
      "metadata": {
        "id": "9b3c0adc",
        "notebookgrader": {
          "id": "fc32db9dbb3387d0d8f965f2265ca1d4531af44e",
          "readonly": true
        }
      },
      "source": [
        "## Difference\n",
        "\n",
        "For intervals `i`, `j`, the difference of `i - j` consists of 0, 1, or 2 non-overlapping intervals.  Again, we leave the implementation to you."
      ]
    },
    {
      "cell_type": "code",
      "execution_count": 60,
      "id": "7ea5e6fd",
      "metadata": {
        "id": "7ea5e6fd",
        "notebookgrader": {
          "id": "3a029176aa1118eebae10784a7d85a9be9c83d2f",
          "is_solution": true,
          "is_tests": false,
          "readonly": false
        }
      },
      "outputs": [],
      "source": [
        "#@title Interval difference\n",
        "\n",
        "def interval_sub(self, other):\n",
        "    \"\"\"Subtracts from this interval the interval other, returning a possibly\n",
        "    empty list of intervals.\"\"\"\n",
        "    ### YOUR SOLUTION HERE\n",
        "    if not isinstance(other, Interval):\n",
        "        return [self]\n",
        "\n",
        "    #no overlap\n",
        "    if self.x1 <= other.x0 or other.x1 <= self.x0:\n",
        "        return [self]\n",
        "\n",
        "    result = []\n",
        "\n",
        "    #if other starts after  beginning\n",
        "    if other.x0 > self.x0:\n",
        "        result.append(Interval(self.x0, other.x0))\n",
        "\n",
        "    #if other ends before\n",
        "    if other.x1 < self.x1:\n",
        "        result.append(Interval(other.x1, self.x1))\n",
        "\n",
        "    return result\n",
        "Interval.__sub__ = interval_sub"
      ]
    },
    {
      "cell_type": "code",
      "execution_count": 61,
      "id": "a80dad3e",
      "metadata": {
        "id": "a80dad3e",
        "notebookgrader": {
          "id": "cd0ac2f883c1b6c5fca51302cd10e3f795e22be7",
          "is_solution": false,
          "is_tests": true,
          "points_earned": 10,
          "readonly": true,
          "test_points": 10
        }
      },
      "outputs": [],
      "source": [
        "# Tests 10 points.\n",
        "\n",
        "assert Interval(4, 6) - Interval(5, 8) == [Interval(4, 5)]\n",
        "assert Interval(0, 10) - Interval(4, 5) == [Interval(0, 4), Interval(5, 10)]"
      ]
    },
    {
      "cell_type": "markdown",
      "id": "92645a3b",
      "metadata": {
        "id": "92645a3b",
        "notebookgrader": {
          "id": "87c234d0f99f13168dabee4a19693415c2c0e06d",
          "readonly": true
        }
      },
      "source": [
        "The obvious problem with this implementation is that intervals are not closed under union or difference: the union of two intervals cannot be expressed as a single interval.  To obtain a type that is closed under union and difference, we should consider _unions of intervals_ instead.  The only reason we do not do it here is that intervals are only a temporary stepping stone for us to the definition of rectangles and regions, and so, we do not find it worthwhile to define a class that is closed under these operations.  The class Region, on the other hand, will be closed under these operations.\n",
        "\n",
        "**Exercise:** Define an IntervalSet class, consisting of (finite!) unions of intervals, and define the union, difference, intersection, and len (total length) operations for it."
      ]
    },
    {
      "cell_type": "markdown",
      "id": "95f36700",
      "metadata": {
        "id": "95f36700",
        "notebookgrader": {
          "id": "8336a224774ab26c0c1c9b8481f53f1e0fb6def2",
          "readonly": true
        }
      },
      "source": [
        "Another way of testing this code is the following.  Let's generate many random intervals $I_1$ and $I_2$.  Denoting with $-$ the difference of intervals and with $\\cap$ their intersection, and denoting the length of an interval $I$ by $l(I)$, the following invariant must be true:\n",
        "\n",
        "$$\n",
        "l(I_1 - I_2) + l(I_2 - I_1) + 2l(I_1 \\cap I_2) = l(I_1) + l(I_2)\n",
        "$$\n",
        "\n",
        "To verify this, let us start by defining this total length function precisely.\n"
      ]
    },
    {
      "cell_type": "code",
      "execution_count": 62,
      "id": "4357f5a7",
      "metadata": {
        "colab": {
          "base_uri": "https://localhost:8080/"
        },
        "id": "4357f5a7",
        "notebookgrader": {
          "id": "e8e9cf6ddd39e85bc6916662505b497d15aab5dc",
          "is_solution": false,
          "is_tests": false,
          "readonly": true
        },
        "outputId": "dc3d6a34-73e6-48a0-e7c1-cdfafa0505b1"
      },
      "outputs": [
        {
          "name": "stdout",
          "output_type": "stream",
          "text": [
            "0.0\n",
            "i1: 1\n",
            "i2: 2\n",
            "i1+i2: 3\n"
          ]
        }
      ],
      "source": [
        "import numpy as np\n",
        "\n",
        "def total_length(x):\n",
        "    if x is None:\n",
        "        return 0.\n",
        "    elif type(x) == list:\n",
        "        return np.sum([i.length for i in x])\n",
        "    else:\n",
        "        return x.length\n",
        "\n",
        "print(total_length(None))\n",
        "i1 = Interval(0, 1)\n",
        "i2 = Interval(3, 5)\n",
        "print(\"i1:\", total_length(i1))\n",
        "print(\"i2:\", total_length(i2))\n",
        "print(\"i1+i2:\", total_length([i1, i2]))"
      ]
    },
    {
      "cell_type": "code",
      "execution_count": 63,
      "id": "a9a8d7d9",
      "metadata": {
        "id": "a9a8d7d9",
        "notebookgrader": {
          "id": "a5f10138b3481bce794a29c77b9430379b871396",
          "is_solution": false,
          "is_tests": false,
          "readonly": true
        }
      },
      "outputs": [],
      "source": [
        "import random\n",
        "\n",
        "def test_random():\n",
        "    i1 = Interval(random.random(), random.random())\n",
        "    i2 = Interval(random.random(), random.random())\n",
        "    d1 = i1 - i2\n",
        "    d2 = i2 - i1\n",
        "    inters = i1 & i2\n",
        "    assert (total_length(d1) + total_length(d2) + 2. * total_length(inters)\n",
        "        == i1.length + i2.length)\n",
        "\n",
        "for _ in range(100):\n",
        "    test_random()\n"
      ]
    },
    {
      "cell_type": "markdown",
      "id": "8f0be96e",
      "metadata": {
        "id": "8f0be96e",
        "notebookgrader": {
          "id": "7d29651866f2e4de7a78b436f344f177f87f0b30",
          "readonly": true
        }
      },
      "source": [
        "### Rectangles\n",
        "\n",
        "Let us now develop a representation of a rectangle, in terms of intersection of intervals.  We will phrase the definition in such a way that it works in any number of dimensions, storing the intervals as a list, as opposed to (say) storing the three intervals separately for 3D."
      ]
    },
    {
      "cell_type": "code",
      "execution_count": 64,
      "id": "9f46beb7",
      "metadata": {
        "id": "9f46beb7",
        "notebookgrader": {
          "id": "ba0fe217bf385da62db5927e99f130ae3dc4f1fc",
          "is_solution": false,
          "is_tests": false,
          "readonly": true
        }
      },
      "outputs": [],
      "source": [
        "import string\n",
        "\n",
        "class Rectangle(object):\n",
        "\n",
        "    def __init__(self, *intervals, name=None):\n",
        "        \"\"\"A rectangle is initialized with a list, whose elements are\n",
        "        either Interval, or a pair of numbers.\n",
        "        It would be perhaps cleaner to accept only list of intervals,\n",
        "        but specifying rectangles via a list of pairs, with each pair\n",
        "        defining an interval, makes for a concise shorthand that will be\n",
        "        useful in tests.\n",
        "        Every rectangle has a name, used to depict it.\n",
        "        If no name is provided, we invent a random one.\"\"\"\n",
        "        self.intervals = []\n",
        "        for i in intervals:\n",
        "            self.intervals.append(i if type(i) == Interval else Interval(*i))\n",
        "        # I want each rectangle to have a name.\n",
        "        if name is None:\n",
        "            self.name = ''.join(\n",
        "                random.choices(string.ascii_letters + string.digits, k=8))\n",
        "        else:\n",
        "            self.name = name\n",
        "\n",
        "    def __repr__(self):\n",
        "        \"\"\"Function used to print a rectangle.\"\"\"\n",
        "        s = \"Rectangle \" + self.name + \": \"\n",
        "        s += repr([(i.x0, i.x1) for i in self.intervals])\n",
        "        return s\n",
        "\n",
        "    def clone(self, name=None):\n",
        "        \"\"\"Returns a clone of itself, with a given name.\"\"\"\n",
        "        name = name or self.name + \"'\"\n",
        "        return Rectangle(*self.intervals, name=name)\n",
        "\n",
        "    def __len__(self):\n",
        "        \"\"\"Returns the number of dimensions of the rectangle\n",
        "        (not the length of the edges).  This is used with\n",
        "        __getitem__ below, to get the interval along a dimension.\"\"\"\n",
        "        return len(self.intervals)\n",
        "\n",
        "    def __getitem__(self, n):\n",
        "        \"\"\"Returns the interval along the n-th dimension\"\"\"\n",
        "        return self.intervals[n]\n",
        "\n",
        "    def __setitem__(self, n, i):\n",
        "        \"\"\"Sets the interval along the n-th dimension to be i\"\"\"\n",
        "        self.intervals[n] = i\n",
        "\n",
        "    def __eq__(self, other):\n",
        "        if not isinstance(other, Rectangle):\n",
        "            return False\n",
        "        # We rely on interval equality here.\n",
        "        return self.intervals == other.intervals\n",
        "\n",
        "    @property\n",
        "    def ndims(self):\n",
        "        \"\"\"Returns the number of dimensions of the interval.\"\"\"\n",
        "        return len(self.intervals)\n",
        "\n",
        "    @property\n",
        "    def volume(self):\n",
        "        return np.prod([i.length for i in self.intervals])\n",
        "\n"
      ]
    },
    {
      "cell_type": "code",
      "execution_count": 65,
      "id": "564a3251",
      "metadata": {
        "colab": {
          "base_uri": "https://localhost:8080/"
        },
        "id": "564a3251",
        "notebookgrader": {
          "id": "1a2b92e9e44da36692cfbb1f7e3a5fac6bc5085b",
          "is_solution": false,
          "is_tests": false,
          "readonly": true
        },
        "outputId": "5e71cf0c-3ae1-49cf-bd58-5639a3547c5f"
      },
      "outputs": [
        {
          "name": "stdout",
          "output_type": "stream",
          "text": [
            "Rectangle 656rwtLN: [(3.0, 4.0), (1.0, 4.0)]\n",
            "Rectangle my_rectangle: [(1.0, 2.0), (5.0, 6.0)]\n",
            "Rectangle my_rectangle': [(1.0, 2.0), (5.0, 6.0)]\n"
          ]
        }
      ],
      "source": [
        "print(Rectangle(Interval(3., 4.), Interval(1., 4.)))\n",
        "r = Rectangle(Interval(1., 2.), (5., 6.), name=\"my_rectangle\")\n",
        "print(r)\n",
        "print(r.clone())"
      ]
    },
    {
      "cell_type": "markdown",
      "id": "2f86579f",
      "metadata": {
        "id": "2f86579f",
        "notebookgrader": {
          "id": "a961c73f61f3f4677d05b83e30c0557bb450ebd4",
          "readonly": true
        }
      },
      "source": [
        "### Drawing rectangles\n",
        "\n",
        "Before we go much further, it is useful to be able to draw rectangles.  Rectangles can have any number of dimensions, and we will write here code to draw them on 2D, projecting away all other dimensions."
      ]
    },
    {
      "cell_type": "code",
      "execution_count": 66,
      "id": "a733f3db",
      "metadata": {
        "id": "a733f3db",
        "notebookgrader": {
          "id": "5db0e4041ec9361247f9869cb131a7607a97342d",
          "is_solution": false,
          "is_tests": false,
          "readonly": true
        }
      },
      "outputs": [],
      "source": [
        "import matplotlib\n",
        "import matplotlib.pyplot as plt\n",
        "import matplotlib.path as mpath\n",
        "import matplotlib.patches as mpatches\n",
        "from matplotlib.collections import PatchCollection\n",
        "matplotlib.rcParams['figure.figsize'] = (6.0, 4.0)\n",
        "\n",
        "def draw_rectangles(*rectangles, prefix=\"\"):\n",
        "    \"\"\"Here, rectangles is a rectangle iterator; it could be a list,\n",
        "    for instance.\"\"\"\n",
        "    fig, ax = plt.subplots()\n",
        "    patches = []\n",
        "    # We keep track of the limits.\n",
        "    lo_x, hi_x = [], []\n",
        "    lo_y, hi_y = [], []\n",
        "    for r in rectangles:\n",
        "        x0, x1 = r[0].endpoints()\n",
        "        y0, y1 = r[1].endpoints()\n",
        "        lo_x.append(x0)\n",
        "        hi_x.append(x1)\n",
        "        lo_y.append(y0)\n",
        "        hi_y.append(y1)\n",
        "        # Prepares the \"patch\" for the rectangle, see\n",
        "        # https://matplotlib.org/api/_as_gen/matplotlib.patches.Rectangle.html\n",
        "        p = mpatches.Rectangle((x0, y0), x1 - x0, y1 - y0)\n",
        "        y = (y0 + y1) / 2. - 0.0\n",
        "        x = (x0 + x1) / 2. - 0.0\n",
        "        plt.text(x, y, prefix + r.name, ha=\"center\", family='sans-serif', size=12)\n",
        "        patches.append(p)\n",
        "    # Draws the patches.\n",
        "    colors = np.linspace(0, 1, len(patches) + 1)\n",
        "    collection = PatchCollection(patches, cmap=plt.cm.hsv, alpha=0.3)\n",
        "    collection.set_array(np.array(colors))\n",
        "    ax.add_collection(collection)\n",
        "    # Computes nice ax limits. Note that I need to take care of the case\n",
        "    # in which the rectangle lists are empty.\n",
        "    lox, hix = (min(lo_x), max(hi_x)) if len(lo_x) > 0 else (0., 1.)\n",
        "    loy, hiy = (min(lo_y), max(hi_y)) if len(lo_y) > 0 else (0., 1.)\n",
        "    sx, sy = hix - lox, hiy - loy\n",
        "    lox -= 0.2 * sx\n",
        "    hix += 0.2 * sx\n",
        "    loy -= 0.2 * sy\n",
        "    hiy += 0.2 * sy\n",
        "    ax.set_xlim(lox, hix)\n",
        "    ax.set_ylim(loy, hiy)\n",
        "    plt.gca().set_aspect('equal', adjustable='box')\n",
        "    plt.grid()\n",
        "    plt.show()\n"
      ]
    },
    {
      "cell_type": "code",
      "execution_count": 67,
      "id": "5fb67cf6",
      "metadata": {
        "colab": {
          "base_uri": "https://localhost:8080/",
          "height": 374
        },
        "id": "5fb67cf6",
        "notebookgrader": {
          "id": "0bbfb2742878c9c4d90f21242cf613478ec49a1c",
          "is_solution": false,
          "is_tests": false,
          "readonly": true
        },
        "outputId": "b6259f9d-af2c-4bbd-f3f0-8834cfa844a3"
      },
      "outputs": [
        {
          "data": {
            "image/png": "[encoded data removed]",
            "text/plain": [
              "<Figure size 600x400 with 1 Axes>"
            ]
          },
          "metadata": {},
          "output_type": "display_data"
        }
      ],
      "source": [
        "r1 = Rectangle((3., 5.), (1., 4.), name=\"A\")\n",
        "r2 = Rectangle((1., 4.), (2., 6.), name=\"B\")\n",
        "r3 = Rectangle((2., 3.5), (1.5, 5.), name=\"C\")\n",
        "draw_rectangles(r1, r2, r3)"
      ]
    },
    {
      "cell_type": "markdown",
      "id": "db94782c",
      "metadata": {
        "id": "db94782c",
        "notebookgrader": {
          "id": "4adbc569736113bbf4a8d3f4540e5613f856a39c",
          "readonly": true
        }
      },
      "source": [
        "### Rectangle Operations"
      ]
    },
    {
      "cell_type": "markdown",
      "id": "dcead0a3",
      "metadata": {
        "id": "dcead0a3",
        "notebookgrader": {
          "id": "41d5f7483be6ca271f909e55f1f84b8d7f31e2ec",
          "readonly": true
        }
      },
      "source": [
        "There are three main operations on rectangles: intersection, union, and difference.\n",
        "Among them, only intersection is guaranteed to return another rectangle.  In general, the union of two rectangles is ... two rectangles, and the difference between two rectangles is ... a whole lot of rectangles, as we will see.\n",
        "\n",
        "We let you implement rectangle intersection.  Of course, the intersection is defined only if the rectangles have the same number of dimensions.  The intersection is computed by taking the intersection of the intervals of the two rectangles for corresponding dimensions.  If one of the intervals is empty, you should return None.  "
      ]
    },
    {
      "cell_type": "code",
      "execution_count": 68,
      "id": "ed87fde3",
      "metadata": {
        "id": "ed87fde3",
        "notebookgrader": {
          "id": "47df1a532b7d40990fb399482452e3fdc4f8a010",
          "is_solution": true,
          "is_tests": false,
          "readonly": false
        }
      },
      "outputs": [],
      "source": [
        "# @ title Rectangle intersection\n",
        "\n",
        "def rectangle_and(self, other):\n",
        "    if self.ndims != other.ndims:\n",
        "        raise TypeError(\"The rectangles have different dimensions: {} and {}\".format(\n",
        "            self.ndims, other.ndims\n",
        "        ))\n",
        "    ### YOUR SOLUTION HERE\n",
        "    intersections = [self[i] & other[i] for i in range(self.ndims)]\n",
        "\n",
        "    if any(interval is None for interval in intersections):\n",
        "        return None\n",
        "\n",
        "    return Rectangle(*intersections)\n",
        "\n",
        "Rectangle.__and__ = rectangle_and"
      ]
    },
    {
      "cell_type": "code",
      "execution_count": 69,
      "id": "985d240b",
      "metadata": {
        "colab": {
          "base_uri": "https://localhost:8080/",
          "height": 719
        },
        "id": "985d240b",
        "notebookgrader": {
          "id": "ad52bf5b283b80f1ca22562758d7e13967d83742",
          "is_solution": false,
          "is_tests": false,
          "readonly": true
        },
        "outputId": "cb22678d-f8db-440e-cbc8-0cb835c02742"
      },
      "outputs": [
        {
          "data": {
            "image/png": "[encoded data removed]",
            "text/plain": [
              "<Figure size 600x400 with 1 Axes>"
            ]
          },
          "metadata": {},
          "output_type": "display_data"
        },
        {
          "data": {
            "image/png": "[encoded data removed]",
            "text/plain": [
              "<Figure size 600x400 with 1 Axes>"
            ]
          },
          "metadata": {},
          "output_type": "display_data"
        }
      ],
      "source": [
        "r1 = Rectangle((2, 3), (0, 4))\n",
        "r2 = Rectangle((0, 4), (1, 3))\n",
        "draw_rectangles(r1, r2)\n",
        "draw_rectangles(r1 & r2)"
      ]
    },
    {
      "cell_type": "code",
      "execution_count": 70,
      "id": "72a1ddf4",
      "metadata": {
        "id": "72a1ddf4",
        "notebookgrader": {
          "id": "050e818fe6f91699b7aae5930c06a7d097141994",
          "is_solution": false,
          "is_tests": true,
          "points_earned": 10,
          "readonly": true,
          "test_points": 10
        }
      },
      "outputs": [],
      "source": [
        "# Tests 10 points.\n",
        "\n",
        "r1 = Rectangle((12, 13), (0, 4))\n",
        "r2 = Rectangle((0, 4), (1, 3))\n",
        "\n",
        "assert r1 & r2 is None"
      ]
    },
    {
      "cell_type": "code",
      "execution_count": 71,
      "id": "89db889f",
      "metadata": {
        "id": "89db889f",
        "notebookgrader": {
          "id": "0224f227b805422670cd3a39a64889f7167de0ac",
          "is_solution": true,
          "is_tests": false,
          "readonly": false
        }
      },
      "outputs": [],
      "source": [
        "#@title Membership of a point in a rectangle.\n",
        "\n",
        "def rectangle_contains(self, p):\n",
        "    # The point is a tuple with one element per dimension of the rectangle.\n",
        "    assert len(p) == self.ndims\n",
        "    ### YOUR SOLUTION HERE\n",
        "    return all(i.x0 <= p[dim] <= i.x1 for dim, i in enumerate(self.intervals))\n",
        "\n",
        "Rectangle.__contains__ = rectangle_contains"
      ]
    },
    {
      "cell_type": "code",
      "execution_count": 72,
      "id": "ec191e8b",
      "metadata": {
        "id": "ec191e8b",
        "notebookgrader": {
          "id": "f0af326a1743d8592d6c786c7b61370eb8929967",
          "is_solution": false,
          "is_tests": true,
          "points_earned": 10,
          "readonly": true,
          "test_points": 10
        }
      },
      "outputs": [],
      "source": [
        "# Tests 10 points.\n",
        "\n",
        "assert (2, 3) in Rectangle((0, 4), (1, 5))\n",
        "assert (2, 3) not in Rectangle((0, 4), (4, 5))"
      ]
    },
    {
      "cell_type": "markdown",
      "id": "942bb0d7",
      "metadata": {
        "id": "942bb0d7",
        "notebookgrader": {
          "id": "9a8757d56f23f0836f54c3193c8b48c10885e97f",
          "readonly": true
        }
      },
      "source": [
        "**Exercise:** Write a method `__eq__` such that `r1 == r2` is `True` iff the two rectangles are identical, and a method `__le__` such that `r1 <= r2` returns `True` iff `r1` is a subset of `r2`."
      ]
    },
    {
      "cell_type": "markdown",
      "id": "bc0ac9e8",
      "metadata": {
        "id": "bc0ac9e8",
        "notebookgrader": {
          "id": "06b94892f3cd5201cede7dd79728b0b0f03d7be3",
          "readonly": true
        }
      },
      "source": [
        "### Rectangle Difference"
      ]
    },
    {
      "cell_type": "markdown",
      "id": "bff0f4b5",
      "metadata": {
        "id": "bff0f4b5",
        "notebookgrader": {
          "id": "6ac9cbfa041c520e228d460e94ab04eaad7914b5",
          "readonly": true
        }
      },
      "source": [
        "There are two ways of defining rectangle difference:\n",
        "\n",
        "* _Largest-cover difference_, which returns the difference represented by rectangles that are as large as possible, and therefore may be overlapping.\n",
        "* _Disjoint difference_, which returns rectangles that are disjoint."
      ]
    },
    {
      "cell_type": "markdown",
      "id": "efb1ee6e",
      "metadata": {
        "id": "efb1ee6e",
        "notebookgrader": {
          "id": "15686d165207d3aa450959ed6833eea3283f6222",
          "readonly": true
        }
      },
      "source": [
        "### Largest-Cover Difference\n",
        "\n",
        "Given two rectangles $R = (I_1, I_2, \\ldots, I_n)$ and $T = (J_1, J_2, \\ldots, J_n)$, their difference $R-T$ is the region $\\alpha =\\tilde{R} \\setminus \\tilde{T}$. We make the following observation: for a point to be in $R$ and not in $T$, all it takes is that in *one* of the dimensions $k$, it is in $I_k$, but not in $J_k$.\n",
        "\n",
        "Based on this idea, we construct a representation of $\\tilde{R} \\setminus \\tilde{T}$ as follows.  We initialize the list of result rectangles to be empty.  Then, we iterate over all dimensions $k = 1, 2, \\ldots, n$, and for each dimension $k$, we construct rectangles with intervals $I_1, \\ldots, I_{k-1}, I_k - J_k, I_{k+1}, \\ldots, I_n$, where $I_k - J_k$ represents interval difference.  There can be 0, 1, or 2 intervals in $I_k - J_k$, and correspondingly, $I_1, \\ldots, I_{k-1}, I_k - J_k, I_{k+1}, \\ldots, I_n$ will consist of 0, 1, or 2 rectangles; we add all such rectangles to the result list.  Let's translate this idea into code."
      ]
    },
    {
      "cell_type": "code",
      "execution_count": 73,
      "id": "15f6b7f3",
      "metadata": {
        "id": "15f6b7f3",
        "notebookgrader": {
          "id": "51989f863e0293b3f602fc138201576ae1baca62",
          "is_solution": true,
          "is_tests": false,
          "readonly": false
        }
      },
      "outputs": [],
      "source": [
        "#@title Implementation of largest-cover difference\n",
        "\n",
        "def rectangle_difference(r, t):\n",
        "    \"\"\"Computes the rectangle difference r - t, and outputs the result\n",
        "    as a list of rectangles.\"\"\"\n",
        "    assert len(r) == len(t), \"Rectangles have different dimensions\"\n",
        "    ### YOUR SOLUTION HERE\n",
        "    assert len(r) == len(t), \"Rectangles have different dimensions\"\n",
        "\n",
        "    differences = []\n",
        "    for dim in range(r.ndims):\n",
        "        if r[dim].x1 <= t[dim].x0 or r[dim].x0 >= t[dim].x1:\n",
        "            differences.append([r[dim]])\n",
        "        else:\n",
        "            diff_intervals = []\n",
        "            if r[dim].x0 < t[dim].x0:\n",
        "                diff_intervals.append(Interval(r[dim].x0, t[dim].x0))\n",
        "            if r[dim].x1 > t[dim].x1:\n",
        "                diff_intervals.append(Interval(t[dim].x1, r[dim].x1))\n",
        "            differences.append(diff_intervals)\n",
        "\n",
        "    possible_rectangles = []\n",
        "    for combination in cartesian_product(differences):\n",
        "        possible_rectangles.append(Rectangle(*combination))\n",
        "\n",
        "    return possible_rectangles\n",
        "\n",
        "def cartesian_product(lists):\n",
        "    \"\"\"Compute the Cartesian product of input lists.\"\"\"\n",
        "    product = [[]]\n",
        "    for lst in lists:\n",
        "        product = [x + [y] for x in product for y in lst]\n",
        "    return product"
      ]
    },
    {
      "cell_type": "markdown",
      "id": "7e56d672",
      "metadata": {
        "id": "7e56d672",
        "notebookgrader": {
          "id": "96c6645a26854c02d84fe63a11f366060014b539",
          "readonly": true
        }
      },
      "source": [
        "In the above code, we notice how it paid off to encapsulate intervals in their own abstraction.  Now that we need to reason about rectangles, we do not need to get bogged down into complicated considerations of how to perform difference; the comparisons between endpoints are all done in the context of intervals, where it is easier to reason about them.  It is often the case that problems become easy, once you think at them in the appropriate context.  It is much easier to develop the code for the difference of intervals, as we have done, and then move on to difference of rectangles, rather than trying to write code for rectangle difference directly.  The result is also far more elegant."
      ]
    },
    {
      "cell_type": "code",
      "execution_count": 74,
      "id": "d799afb8",
      "metadata": {
        "colab": {
          "base_uri": "https://localhost:8080/",
          "height": 719
        },
        "id": "d799afb8",
        "notebookgrader": {
          "id": "c987e3d69629210b19d9658e2d7eb323cff678de",
          "is_solution": false,
          "is_tests": false,
          "readonly": true
        },
        "outputId": "e77941c8-e64f-4a01-f143-d45d34924089"
      },
      "outputs": [
        {
          "data": {
            "image/png": "[encoded data removed]",
            "text/plain": [
              "<Figure size 600x400 with 1 Axes>"
            ]
          },
          "metadata": {},
          "output_type": "display_data"
        },
        {
          "data": {
            "image/png": "[encoded data removed]",
            "text/plain": [
              "<Figure size 600x400 with 1 Axes>"
            ]
          },
          "metadata": {},
          "output_type": "display_data"
        }
      ],
      "source": [
        "# Let us test visually what happens.\n",
        "r = Rectangle((0., 4.), (0., 4.), name=\"R\")\n",
        "t = Rectangle((2., 6.), (2., 6.), name=\"T\")\n",
        "d = rectangle_difference(r, t)\n",
        "draw_rectangles(r, t)\n",
        "draw_rectangles(*d)"
      ]
    },
    {
      "cell_type": "code",
      "execution_count": 75,
      "id": "212870f6",
      "metadata": {
        "colab": {
          "base_uri": "https://localhost:8080/",
          "height": 719
        },
        "id": "212870f6",
        "notebookgrader": {
          "id": "39e73bd426009b7ee7a71cfd755e3c1519ccdfb1",
          "is_solution": false,
          "is_tests": false,
          "readonly": true
        },
        "outputId": "32ee08cd-c6e1-48f1-8f18-6549b0fcfd3b"
      },
      "outputs": [
        {
          "data": {
            "image/png": "[encoded data removed]",
            "text/plain": [
              "<Figure size 600x400 with 1 Axes>"
            ]
          },
          "metadata": {},
          "output_type": "display_data"
        },
        {
          "data": {
            "image/png": "[encoded data removed]",
            "text/plain": [
              "<Figure size 600x400 with 1 Axes>"
            ]
          },
          "metadata": {},
          "output_type": "display_data"
        }
      ],
      "source": [
        "# Whooho!!  Let's try with another example. Now T is inside R.\n",
        "r = Rectangle((0., 4.), (0., 4.), name=\"R\")\n",
        "t = Rectangle((1.5, 3.5), (1., 3.), name=\"T\")\n",
        "d = rectangle_difference(r, t)\n",
        "draw_rectangles(r, t)\n",
        "draw_rectangles(*d)"
      ]
    },
    {
      "cell_type": "code",
      "execution_count": 76,
      "id": "5b4ede60",
      "metadata": {
        "colab": {
          "base_uri": "https://localhost:8080/",
          "height": 725
        },
        "id": "5b4ede60",
        "notebookgrader": {
          "id": "5f1d804fdd0cc2021511a4023ea43bf13c1b1fbd",
          "is_solution": false,
          "is_tests": false,
          "readonly": true
        },
        "outputId": "1536d3df-597c-4e53-fdef-fc6fc5642112"
      },
      "outputs": [
        {
          "data": {
            "image/png": "[encoded data removed]",
            "text/plain": [
              "<Figure size 600x400 with 1 Axes>"
            ]
          },
          "metadata": {},
          "output_type": "display_data"
        },
        {
          "data": {
            "image/png": "[encoded data removed]",
            "text/plain": [
              "<Figure size 600x400 with 1 Axes>"
            ]
          },
          "metadata": {},
          "output_type": "display_data"
        }
      ],
      "source": [
        "# It seems to work. And what happens if nothing is left?\n",
        "r = Rectangle((0., 4.), (0., 4.), name=\"R\")\n",
        "t = Rectangle((0., 5.), (0., 7.), name=\"T\")\n",
        "d = rectangle_difference(r, t)\n",
        "draw_rectangles(r, t)\n",
        "draw_rectangles(*d)"
      ]
    },
    {
      "cell_type": "markdown",
      "id": "840943a5",
      "metadata": {
        "id": "840943a5",
        "notebookgrader": {
          "id": "50690b7c7b6234c7905de8211d520a4f09cdb3d8",
          "readonly": true
        }
      },
      "source": [
        "#### Disjoint difference\n",
        "\n",
        "We can also define a version of rectangle difference which returns a set of _disjoint_ rectangles.  The idea is this.  Let the two rectangles be $R = (I_1, \\ldots, I_n)$ and $S = (J_1, \\ldots, J_n)$, where $I_1, \\ldots, I_n$ and $J_1, \\ldots, J_n$ are the intervals forming the two rectangles $R$ and $S$.\n",
        "\n",
        "To compute the difference $R \\setminus S$ as a list of disjoint rectangles, we reason by induction (thus writing a recursive solution). Consider the coordinate $k = 1$.\n",
        "\n",
        "Let $I_1 - J_1 = A$, so that $A$ is a list consisting of 0, 1, or 2 intervals.  Clearly, for any interval $L \\in A$, we have that $(L, I_2, \\ldots, I_n)$ is part of the result.\n",
        "\n",
        "As for the remaining part of the result, let $I_1 \\cap J_1 = H$.\n",
        "$H$ can be empty, or consist of one interval.  \n",
        "The rest of the result is given by\n",
        "\n",
        "$$\n",
        "(H, I_2, \\ldots, I_n) \\setminus (J_1, J_2, \\ldots, J_n)\n",
        "=\n",
        "H \\times [(I_2, \\ldots, I_n) \\setminus (J_2, \\ldots, J_n)] \\; .\n",
        "$$\n",
        "\n",
        "It is easier thus to define a generator, which yields all the rectangles in the difference."
      ]
    },
    {
      "cell_type": "code",
      "execution_count": 77,
      "id": "cf33e4ae",
      "metadata": {
        "id": "cf33e4ae",
        "notebookgrader": {
          "id": "c0c920b968a2c3e75339def22d7ee15db1edf5fa",
          "is_solution": true,
          "is_tests": false,
          "readonly": false
        }
      },
      "outputs": [],
      "source": [
        "#@title Computation of disjoint difference\n",
        "\n",
        "def disjoint_minus(r, s):\n",
        "    \"\"\"R and S are equal-length lists of intervals, representing\n",
        "    two rectangles R and S.  The function returns, or better, yields,\n",
        "    all the rectangles in the disjoint difference of R and S.\"\"\"\n",
        "    ### YOUR SOLUTION HERE\n",
        "    assert len(r) == len(s), \"Interval lists have different dimensions\"\n",
        "    differences = [r[dim] - s[dim] for dim in range(len(r))]\n",
        "    def cartesian_product(remaining_lists):\n",
        "        if not remaining_lists:\n",
        "            yield []\n",
        "            return\n",
        "        for item in remaining_lists[0]:\n",
        "            for rest in cartesian_product(remaining_lists[1:]):\n",
        "                yield [item] + rest\n",
        "\n",
        "    for combination in cartesian_product(differences):\n",
        "        yield combination\n",
        "\n",
        "def disjoint_difference(self, other):\n",
        "    return [Rectangle(*intervals) for intervals in disjoint_minus(self.intervals, other.intervals)]"
      ]
    },
    {
      "cell_type": "code",
      "execution_count": 78,
      "id": "89c27272",
      "metadata": {
        "colab": {
          "base_uri": "https://localhost:8080/",
          "height": 550
        },
        "id": "89c27272",
        "notebookgrader": {
          "id": "4a9783e8b74b33a12c1f0b78d5d7a2e1aad0623e",
          "is_solution": false,
          "is_tests": false,
          "readonly": true
        },
        "outputId": "11e4ed08-79b8-429f-ee24-d22609f1584a"
      },
      "outputs": [
        {
          "name": "stdout",
          "output_type": "stream",
          "text": [
            "[Rectangle HHmEAQCc: [(0.0, 1.5), (0.0, 1.0)], Rectangle DvERdmnH: [(0.0, 1.5), (3.0, 4.0)], Rectangle 2Oi69v0Y: [(3.5, 4.0), (0.0, 1.0)], Rectangle fEsJ0xfo: [(3.5, 4.0), (3.0, 4.0)]]\n"
          ]
        },
        {
          "data": {
            "image/png": "[encoded data removed]",
            "text/plain": [
              "<Figure size 600x400 with 1 Axes>"
            ]
          },
          "metadata": {},
          "output_type": "display_data"
        },
        {
          "data": {
            "image/png": "[encoded data removed]",
            "text/plain": [
              "<Figure size 600x400 with 1 Axes>"
            ]
          },
          "metadata": {},
          "output_type": "display_data"
        }
      ],
      "source": [
        "r = Rectangle((0., 4.), (0., 4.), name=\"R\")\n",
        "t = Rectangle((1.5, 3.5), (1., 3.), name=\"S\")\n",
        "d = disjoint_difference(r, t)\n",
        "print(d)\n",
        "draw_rectangles(r, t)\n",
        "draw_rectangles(*d)"
      ]
    },
    {
      "cell_type": "markdown",
      "id": "14c47cb1",
      "metadata": {
        "id": "14c47cb1",
        "notebookgrader": {
          "id": "ce095884ea5f2e25e06f581717d3cd804d9a3a86",
          "readonly": true
        }
      },
      "source": [
        "## Regions\n",
        "\n",
        "The problem with rectangles is that they are not closed under union: the union of two rectangles is not necessarily a rectangle.  \n",
        "\n",
        "We want a representation for objects in space that is closed under union, intersection, and difference.\n",
        "To this end, we introduce _regions_, which are unions of rectangles.\n"
      ]
    },
    {
      "cell_type": "code",
      "execution_count": 79,
      "id": "1af19603",
      "metadata": {
        "id": "1af19603",
        "notebookgrader": {
          "id": "1abed5392b11b57ef1f26cc9166f4827a96fb647",
          "is_solution": false,
          "is_tests": false,
          "readonly": true
        }
      },
      "outputs": [],
      "source": [
        "class Region(object):\n",
        "\n",
        "    def __init__(self, *rectangles, name=None):\n",
        "        \"\"\"A region is initialized via a set of rectangles.\"\"\"\n",
        "        assert len(rectangles) > 0, \"A region requires at least one rectangle.\"\n",
        "        self.ndims = rectangles[0].ndims\n",
        "        for r in rectangles[1:]:\n",
        "            assert r.ndims == self.ndims, \"The rectangles do not all have the same dimensions!\"\n",
        "        self.rectangles = list(rectangles)\n",
        "        if name is None:\n",
        "            self.name = ''.join(\n",
        "                random.choices(string.ascii_letters + string.digits, k=8))\n",
        "        else:\n",
        "            self.name = name\n",
        "\n",
        "    def draw(self):\n",
        "        draw_rectangles(*self.rectangles, prefix=self.name + \":\")\n",
        "\n",
        "    def __or__(self, other):\n",
        "        \"\"\"Union of regions.\"\"\"\n",
        "        return Region(*(self.rectangles + other.rectangles), name=self.name + \"_union_\" + other.name)"
      ]
    },
    {
      "cell_type": "code",
      "execution_count": 80,
      "id": "a9789a2a",
      "metadata": {
        "colab": {
          "base_uri": "https://localhost:8080/",
          "height": 374
        },
        "id": "a9789a2a",
        "notebookgrader": {
          "id": "a87f59fcada421dcc1fc429c5f0e16319213e461",
          "is_solution": false,
          "is_tests": false,
          "readonly": true
        },
        "outputId": "debacd15-2bc5-4dfb-9c00-dc152c578bed"
      },
      "outputs": [
        {
          "data": {
            "image/png": "[encoded data removed]",
            "text/plain": [
              "<Figure size 600x400 with 1 Axes>"
            ]
          },
          "metadata": {},
          "output_type": "display_data"
        }
      ],
      "source": [
        "# Let us try.\n",
        "r = Rectangle((0., 4.), (0., 4.), name=\"R\")\n",
        "t = Rectangle((1.5, 3.5), (1., 5.), name=\"T\")\n",
        "\n",
        "reg1 = Region(r, name=\"Reg1\")\n",
        "reg2 = Region(t, name=\"Reg2\")\n",
        "\n",
        "(reg1 | reg2).draw()"
      ]
    },
    {
      "cell_type": "markdown",
      "id": "d33623a6",
      "metadata": {
        "id": "d33623a6",
        "notebookgrader": {
          "id": "c7703af286e7b4c72955cbfbd6f5f78d99d7a475",
          "readonly": true
        }
      },
      "source": [
        "## Exercises"
      ]
    },
    {
      "cell_type": "markdown",
      "id": "678649db",
      "metadata": {
        "id": "678649db",
        "notebookgrader": {
          "id": "a0354ba0e427c408b8244028f12dde20e5ae6cc0",
          "readonly": true
        }
      },
      "source": [
        "**Exercise**: Write a method `__and__` that computes the region representing the intersection of two regions."
      ]
    },
    {
      "cell_type": "markdown",
      "id": "0fa769bb",
      "metadata": {
        "id": "0fa769bb",
        "notebookgrader": {
          "id": "d2aed3db49f6da4fb767dce4800441e68795f05b",
          "readonly": true
        }
      },
      "source": [
        "**Exercise:** Write a method `__contains__`, which checks whether a n-dimensional point belongs to the region.  Remember, a point belongs to the region if it belongs to one of the rectangles in the region."
      ]
    },
    {
      "cell_type": "code",
      "execution_count": 81,
      "id": "e0eb941e",
      "metadata": {
        "id": "e0eb941e",
        "notebookgrader": {
          "id": "6219f9878c4e991a88f06a34f0dc8c216691e735",
          "is_solution": true,
          "is_tests": false,
          "readonly": false
        }
      },
      "outputs": [],
      "source": [
        "#@title Membership of a point in a region\n",
        "\n",
        "def region_contains(self, p):\n",
        "    ### YOUR SOLUTION HERE\n",
        "  for rectangle in self.rectangles:\n",
        "        if p in rectangle:\n",
        "            return True\n",
        "  return False\n",
        "\n",
        "Region.__contains__ = region_contains"
      ]
    },
    {
      "cell_type": "code",
      "execution_count": 82,
      "id": "10dd4cf9",
      "metadata": {
        "id": "10dd4cf9",
        "notebookgrader": {
          "id": "5774d2e6b6240c771bf7cfc95d2c505cfbfb7249",
          "is_solution": false,
          "is_tests": true,
          "points_earned": 10,
          "readonly": true,
          "test_points": 10
        }
      },
      "outputs": [],
      "source": [
        "# Tests 10 points.\n",
        "\n",
        "assert (2, 1) in Region(Rectangle((0, 2), (0, 3)), Rectangle((4, 6), (5, 8)))\n",
        "assert (2, 1) not in Region(Rectangle((0, 1), (0, 3)), Rectangle((4, 6), (5, 8)))"
      ]
    },
    {
      "cell_type": "markdown",
      "id": "34d2ed1d",
      "metadata": {
        "id": "34d2ed1d",
        "notebookgrader": {
          "id": "75c011c9416d8940b0205d3eef860810d9931012",
          "readonly": true
        }
      },
      "source": [
        "**Exercise:** Write a method `__le__` for regions such that `R <= S` if the region `R` is contained in the region `S`.  You can test this by checking that the difference between R and S is empty."
      ]
    },
    {
      "cell_type": "markdown",
      "id": "7acab036",
      "metadata": {
        "id": "7acab036",
        "notebookgrader": {
          "id": "dc99c6fae5f36d9a628539ad4d1628c387323a3a",
          "readonly": true
        }
      },
      "source": [
        "**Excercise:** Write a subclass `NonoverlappingRegion` of `Region`, such that rectangles in `NonoverlappingRegion` are non-overlapping.  One should be able to create an object of class `NonoverlappingRegion` from any list of rectangles, and the initializer should use the method `disjoint_minus` to generate a list of non-overlapping rectangles defining the same region of space.  "
      ]
    },
    {
      "cell_type": "markdown",
      "id": "28eb3796",
      "metadata": {
        "id": "28eb3796",
        "notebookgrader": {
          "id": "dbe3ea5089d9fb24f874ed19733fcd161ff39409",
          "readonly": true
        }
      },
      "source": [
        "## Monte-Carlo Methods\n",
        "\n",
        "There are some obvious things we might want to do with a region, namely, compute its volume, compute whether two regions are equal, and compute the center of mass of a region.\n",
        "\n",
        "There are two approaches to this.\n",
        "\n",
        "One is to develop a precise approach.  The problem in computing the volume of a region is that the rectangles in it might overlap.  To solve this, one can use our method for computing disjoing differences to put regions in _normal form_, consisting of non-overlapping rectangles.\n",
        "The idea is to keep a region as a list of non-overlapping rectangles.  When we add a rectangle $S$ from a region consisting of non-overlapping rectangles $R_1, \\ldots, R_n$, we first subtract from $S$ each of $R_1, \\ldots, R_n$ in turn, getting as result a bunch of subrectangles of $S$; we can then add these subrectangles to the region.\n",
        "\n",
        "But this sounds like work!\n",
        "\n",
        "An alternative is to develop a _randomized_ approach."
      ]
    },
    {
      "cell_type": "markdown",
      "id": "fdf3b77f",
      "metadata": {
        "id": "fdf3b77f",
        "notebookgrader": {
          "id": "d90e4e85155eb93818b0e833c364a04af420480f",
          "readonly": true
        }
      },
      "source": [
        "### A Monte-Carlo algorithm for region area\n",
        "\n",
        "We can develop a randomized approach to measuring the area of a region as follows.  First, we compute a _bounding box_ around it, which is simply the smallest rectangle guaranteed to contain the region.  We simply take, for each coordinate, the min and max values of that coordinate of any rectangle in the region.\n",
        "\n",
        "Once we have a bounding box $B$ for a region $\\cal R$, we simply pick at random a lot of points $x \\in B$, using our Python `random` function.   We can use our test $x \\in \\cal R$, written in code as `x in my_region`, to check whether a point $x$ belongs to region $\\cal R$.  Let $N$ be the number of points we generate, and $M$ be the number of points that end up in $\\cal R$.  The volume $V_{\\cal R}$ of the region $\\cal R$ can be simply written as:\n",
        "\n",
        "$$\n",
        "V_{\\cal R} = \\frac{M}{N} \\cdot V_B \\; ,\n",
        "$$\n",
        "\n",
        "where $V_B$ is the volume of the bounding box.  We will lead you to implement this code in steps.\n",
        "\n",
        "This method is an example of a [Monte Carlo method](https://en.wikipedia.org/wiki/Monte_Carlo_method), a method which gives an answer to a question via repeated randomized experiments, rather than via mathematical computation, which may be complex or unfeasible."
      ]
    },
    {
      "cell_type": "markdown",
      "id": "04a1ee6a",
      "metadata": {
        "id": "04a1ee6a",
        "notebookgrader": {
          "id": "1613ba585fdb76833159aa4fccb1fadb30668b9b",
          "readonly": true
        }
      },
      "source": [
        "### Bounding boxes\n",
        "\n",
        "First, write a method `bounding_box` of a region, which returns the bounding box as a rectangle."
      ]
    },
    {
      "cell_type": "code",
      "execution_count": 83,
      "id": "9323ae43",
      "metadata": {
        "id": "9323ae43",
        "notebookgrader": {
          "id": "c8b315128baa89c74c58e534c00e3a0dfabe42eb",
          "is_solution": true,
          "is_tests": false,
          "readonly": false
        }
      },
      "outputs": [],
      "source": [
        "#@title Compute the bounding box of a region\n",
        "\n",
        "def region_bounding_box(self):\n",
        "    \"\"\"Returns the bounding box of the region, as a rectangle.\n",
        "    This returns None if the region does not contain any rectangle.\"\"\"\n",
        "    if len(self.rectangles) == 0:\n",
        "        return None\n",
        "    ### YOUR SOLUTION HERE\n",
        "    bounding_intervals = [\n",
        "        Interval(\n",
        "            min(rect[dim].x0 for rect in self.rectangles),\n",
        "            max(rect[dim].x1 for rect in self.rectangles)\n",
        "        )\n",
        "        for dim in range(self.ndims)\n",
        "    ]\n",
        "\n",
        "    return Rectangle(*bounding_intervals)\n",
        "Region.bounding_box = property(region_bounding_box)"
      ]
    },
    {
      "cell_type": "code",
      "execution_count": 84,
      "id": "d52719a9",
      "metadata": {
        "colab": {
          "base_uri": "https://localhost:8080/"
        },
        "id": "d52719a9",
        "notebookgrader": {
          "id": "e681b4b587a47f6e285be1d5fe86b98909143bdc",
          "is_solution": false,
          "is_tests": false,
          "readonly": true
        },
        "outputId": "528320d5-fa4a-4ac3-a03f-f3aefb567919"
      },
      "outputs": [
        {
          "data": {
            "text/plain": [
              "Rectangle G7LINehb: [(0, 6), (1, 8)]"
            ]
          },
          "execution_count": 84,
          "metadata": {},
          "output_type": "execute_result"
        }
      ],
      "source": [
        "reg = Region(Rectangle((0, 2), (1, 3)), Rectangle((4, 6), (5, 8)))\n",
        "reg.bounding_box"
      ]
    },
    {
      "cell_type": "markdown",
      "id": "77d658be",
      "metadata": {
        "id": "77d658be",
        "notebookgrader": {
          "id": "3d195b2226758ab595c5a80e5e5d1bdfa47cbe23",
          "readonly": true
        }
      },
      "source": [
        "### Select random points from a rectangle\n",
        "\n",
        "Next, we write a Rectangle method `random_point`, which returns a point of a rectangle chosen uniformly at random each time it is called.  To this end, it is easier first to write the corresponding method for an interval.  [In Python](https://docs.python.org/3/library/random.html#real-valued-distributions),\n",
        "\n",
        "    random.random()\n",
        "\n",
        "returns a random value uniformly distributed between 0 and 1, and\n",
        "\n",
        "    random.uniform(a, b)\n",
        "\n",
        "returns a random value uniformly distributed between a and b.  We can use this to define the interval method:"
      ]
    },
    {
      "cell_type": "code",
      "execution_count": 85,
      "id": "57fbac59",
      "metadata": {
        "id": "57fbac59",
        "notebookgrader": {
          "id": "07ae40acf9fb4bb1ffce2c98e7856c91735cc043",
          "is_solution": false,
          "is_tests": false,
          "readonly": true
        }
      },
      "outputs": [],
      "source": [
        "import random\n",
        "\n",
        "def interval_random_point(self):\n",
        "    return random.uniform(self.x0, self.x1)\n",
        "\n",
        "Interval.random_point = interval_random_point\n",
        "\n",
        "# Or if we wanted to be concise, we could just have written:\n",
        "\n",
        "Interval.random_point = lambda self : random.uniform(self.x0, self.x1)"
      ]
    },
    {
      "cell_type": "markdown",
      "id": "0c83943a",
      "metadata": {
        "id": "0c83943a",
        "notebookgrader": {
          "id": "71ccdc9f65638069108d61db8b326bde057e8b7d",
          "readonly": true
        }
      },
      "source": [
        "To select a random point from a rectangle, we just need to return a tuple formed by choosing a random point from each of the rectangle's intervals.  We leave this to you.  Remember that the intervals of a rectangle `self` are in `self.intervals`."
      ]
    },
    {
      "cell_type": "code",
      "execution_count": 86,
      "id": "9c0b7519",
      "metadata": {
        "id": "9c0b7519",
        "notebookgrader": {
          "id": "c355be088b95f4819e9226d5e11e5b727edda56c",
          "is_solution": true,
          "is_tests": false,
          "readonly": false
        }
      },
      "outputs": [],
      "source": [
        "#@title Random point of a rectangle\n",
        "\n",
        "def rectangle_random_point(self):\n",
        "    ### YOUR SOLUTION HERE\n",
        "    return tuple(interval.random_point() for interval in self.intervals)\n",
        "Rectangle.random_point = rectangle_random_point"
      ]
    },
    {
      "cell_type": "code",
      "execution_count": 87,
      "id": "10868c66",
      "metadata": {
        "colab": {
          "base_uri": "https://localhost:8080/"
        },
        "id": "10868c66",
        "notebookgrader": {
          "id": "1ee60f83d73c8c9bb9d954c7ccda68a881f85d0c",
          "is_solution": false,
          "is_tests": false,
          "readonly": true
        },
        "outputId": "2f90a8d1-43d6-4762-a9f3-8208ee2f838a"
      },
      "outputs": [
        {
          "name": "stdout",
          "output_type": "stream",
          "text": [
            "(0.8897477254160999, 2.307253579510478)\n",
            "(0.20529241229765405, 2.078904666846888)\n",
            "(1.6398196042164614, 2.4033932695102447)\n",
            "(1.5149610464746512, 1.130166058118003)\n",
            "(1.1797590887529732, 2.882336684806039)\n"
          ]
        }
      ],
      "source": [
        "r = Rectangle((0, 2), (1, 3))\n",
        "\n",
        "for i in range(5):\n",
        "    p = r.random_point()\n",
        "    assert isinstance(p, tuple)\n",
        "    assert len(p) == 2\n",
        "    assert p in r\n",
        "    print(p)"
      ]
    },
    {
      "cell_type": "markdown",
      "id": "512088ff",
      "metadata": {
        "id": "512088ff",
        "notebookgrader": {
          "id": "75fabee646692f73e134d0efc3c9071439b7f5a7",
          "readonly": true
        }
      },
      "source": [
        "We are now ready to compute the volume of a region $\\cal R$ using Monte Carlo methods.  The form of your code is:\n",
        "\n",
        "* Compute the bounding box $B$\n",
        "* Pick $N$ points at random from $B$, and count the number $M$ of them that fall in $\\cal R$.\n",
        "* Return $B.volume \\cdot (M/N)$."
      ]
    },
    {
      "cell_type": "code",
      "execution_count": 88,
      "id": "b3e6f71a",
      "metadata": {
        "id": "b3e6f71a",
        "notebookgrader": {
          "id": "7f483480dc2ddc6627dea3788e89795ac35c49b2",
          "is_solution": true,
          "is_tests": false,
          "readonly": false
        }
      },
      "outputs": [],
      "source": [
        "#@title Monte carlo Volume\n",
        "\n",
        "def region_montecarlo_volume(self, n=1000):\n",
        "    \"\"\"Computes the volume of a region, using Monte Carlo approximation\n",
        "    with n samples.\"\"\"\n",
        "    # The solution, written without any particular trick, takes 7 lines.\n",
        "    # If you write a much longer solution, you are on the wrong track.\n",
        "    ### YOUR SOLUTION HERE\n",
        "    bounding_box = self.bounding_box\n",
        "    points_inside = sum(1 for _ in range(n) if bounding_box.random_point() in self)\n",
        "    return (points_inside / n) * bounding_box.volume\n",
        "Region.montecarlo_volume = region_montecarlo_volume"
      ]
    },
    {
      "cell_type": "markdown",
      "id": "1b109f0f",
      "metadata": {
        "id": "1b109f0f",
        "notebookgrader": {
          "id": "a1185b67ab373535ff02a1067e7816907ac4f81d",
          "readonly": true
        }
      },
      "source": [
        "The approximation becomes the more precise, the more samples we have."
      ]
    },
    {
      "cell_type": "code",
      "execution_count": 89,
      "id": "2d6bc825",
      "metadata": {
        "colab": {
          "base_uri": "https://localhost:8080/",
          "height": 437
        },
        "id": "2d6bc825",
        "notebookgrader": {
          "id": "95184cb898e7269884552b95eee96b818865bc88",
          "is_solution": false,
          "is_tests": false,
          "readonly": true
        },
        "outputId": "88752bb1-7891-4628-ccf5-4c46edd653f1"
      },
      "outputs": [
        {
          "data": {
            "image/png": "[encoded data removed]",
            "text/plain": [
              "<Figure size 600x400 with 1 Axes>"
            ]
          },
          "metadata": {},
          "output_type": "display_data"
        },
        {
          "name": "stdout",
          "output_type": "stream",
          "text": [
            "   10 samples: 9.6\n",
            "  100 samples: 11.04\n",
            " 1000 samples: 10.224\n",
            "10000 samples: 10.0896\n"
          ]
        }
      ],
      "source": [
        "reg = Region(Rectangle((0, 4), (0, 2)), Rectangle((1, 2), (0, 4)))\n",
        "reg.draw()\n",
        "print(\"   10 samples:\", reg.montecarlo_volume(n=10))\n",
        "print(\"  100 samples:\", reg.montecarlo_volume(n=100))\n",
        "print(\" 1000 samples:\", reg.montecarlo_volume(n=1000))\n",
        "print(\"10000 samples:\", reg.montecarlo_volume(n=10000))"
      ]
    },
    {
      "cell_type": "code",
      "execution_count": 90,
      "id": "a2960ea2",
      "metadata": {
        "colab": {
          "base_uri": "https://localhost:8080/",
          "height": 437
        },
        "id": "a2960ea2",
        "notebookgrader": {
          "id": "a22028fab909a13ce9ac2a21444934ed5d335e1c",
          "is_solution": false,
          "is_tests": false,
          "readonly": true
        },
        "outputId": "25d0c0ef-6099-4809-9d77-4c4211a2d8ce"
      },
      "outputs": [
        {
          "data": {
            "image/png": "[encoded data removed]",
            "text/plain": [
              "<Figure size 600x400 with 1 Axes>"
            ]
          },
          "metadata": {},
          "output_type": "display_data"
        },
        {
          "name": "stdout",
          "output_type": "stream",
          "text": [
            "   10 samples: 9.6\n",
            "  100 samples: 8.16\n",
            " 1000 samples: 6.816\n",
            "10000 samples: 7.0688\n"
          ]
        }
      ],
      "source": [
        "reg = Region(Rectangle((0, 1), (0, 4)), Rectangle((0, 4), (0, 1)))\n",
        "reg.draw()\n",
        "print(\"   10 samples:\", reg.montecarlo_volume(n=10))\n",
        "print(\"  100 samples:\", reg.montecarlo_volume(n=100))\n",
        "print(\" 1000 samples:\", reg.montecarlo_volume(n=1000))\n",
        "print(\"10000 samples:\", reg.montecarlo_volume(n=10000))"
      ]
    },
    {
      "cell_type": "markdown",
      "id": "81c494de",
      "metadata": {
        "id": "81c494de",
        "notebookgrader": {
          "id": "d96dbd3397a6031d93a1ca06d79f0e673092d9f2",
          "readonly": true
        }
      },
      "source": [
        "We could quantify the standard deviation of the result, but it is beyond the scope of this class."
      ]
    },
    {
      "cell_type": "markdown",
      "id": "2361ea7d",
      "metadata": {
        "id": "2361ea7d",
        "notebookgrader": {
          "id": "8fedd84ee7f706e7e2c367f112d0cf89caf42466",
          "readonly": true
        }
      },
      "source": [
        "**Exercise (BONUS 10pts):** Develop a Monte-Carlo method for computing the center of mass of a region.  The idea consists in sampling uniformly at random from the bounding box, retaining only the points that are in the region.  The center of mass of the sampled points in the region provides an approximation for the center of mass of the region."
      ]
    },
    {
      "cell_type": "markdown",
      "id": "bbff672e",
      "metadata": {
        "id": "bbff672e",
        "notebookgrader": {
          "id": "ce2ccce3ce8a88bba9d300864391bda7950815ac",
          "readonly": true
        }
      },
      "source": [
        "## A Monte-Carlo method for region equality\n",
        "\n",
        "We can apply Monte Carlo methods also to the question of deciding region equality.\n",
        "\n",
        "One way to decide whether two regions $\\cal R_1$ and $\\cal R_2$ are equal consists in subtracting $\\cal R_2$ from $\\cal R_1$ and checking that the result is empty, and then subtracting $\\cal R_1$ from $\\cal R_2$, and checking that it is also empty.\n",
        "\n",
        "But again, this sounds like work, and why work if we can just guess?\n",
        "\n",
        "The idea is to compute the bounding box $B$ of $\\cal R_1 \\cup \\cal R_2$, and to sample points from $B$.  If we find a point $p$ that belongs to one region but not the other, we declare the regions distinct.  If we do not find such \"distinguishing\" point after $N$ trials, we declare the regions identical, and the point serves as a witness to their difference.\n",
        "\n",
        "We leave the implementation to you."
      ]
    },
    {
      "cell_type": "code",
      "execution_count": 91,
      "id": "d891f8e5",
      "metadata": {
        "id": "d891f8e5",
        "notebookgrader": {
          "id": "b4c3f47905b428beb11d20c9a1208b78e6bd4ca1",
          "is_solution": true,
          "is_tests": false,
          "readonly": false
        }
      },
      "outputs": [],
      "source": [
        "#@title Monte Carlo difference and equality between regions\n",
        "\n",
        "def region_montecarlo_difference(self, other, n=1000):\n",
        "    \"\"\"Checks whether a region self is different from a region other, using\n",
        "    a Monte Carlo method with n samples.  It returns either a point p that\n",
        "    witnesses the difference of the regions, or None, if no such point is found.\"\"\"\n",
        "    # This can be done without hurry in 6 lines of code.\n",
        "    ### YOUR SOLUTION HERE\n",
        "    union_bounding_box = Region(*(self.rectangles + other.rectangles)).bounding_box\n",
        "    for _ in range(n):\n",
        "        point = union_bounding_box.random_point()\n",
        "        if (point in self and point not in other) or (point in other and point not in self):\n",
        "            return point\n",
        "    return None\n",
        "Region.montecarlo_difference = region_montecarlo_difference\n",
        "\n",
        "def region_montecarlo_equality(self, other, n=1000):\n",
        "    return self.montecarlo_difference(other, n=n) is None\n",
        "\n",
        "Region.montecarlo_equality = region_montecarlo_equality"
      ]
    },
    {
      "cell_type": "code",
      "execution_count": 92,
      "id": "a0c8def7",
      "metadata": {
        "colab": {
          "base_uri": "https://localhost:8080/",
          "height": 1000
        },
        "id": "a0c8def7",
        "notebookgrader": {
          "id": "7ad600d88dda90d913b4a1e6052e91a37e4f82a8",
          "is_solution": false,
          "is_tests": false,
          "readonly": true
        },
        "outputId": "48323ae3-c4bf-43c2-975a-e05aeb9d3229"
      },
      "outputs": [
        {
          "data": {
            "image/png": "[encoded data removed]",
            "text/plain": [
              "<Figure size 600x400 with 1 Axes>"
            ]
          },
          "metadata": {},
          "output_type": "display_data"
        },
        {
          "data": {
            "image/png": "[encoded data removed]",
            "text/plain": [
              "<Figure size 600x400 with 1 Axes>"
            ]
          },
          "metadata": {},
          "output_type": "display_data"
        },
        {
          "data": {
            "image/png": "[encoded data removed]",
            "text/plain": [
              "<Figure size 600x400 with 1 Axes>"
            ]
          },
          "metadata": {},
          "output_type": "display_data"
        },
        {
          "name": "stdout",
          "output_type": "stream",
          "text": [
            "reg1 vs reg2 True\n",
            "reg1 vs reg2 False\n",
            "reg1 vs reg3 (1.3987302551045393, 3.3371365489050064)\n"
          ]
        }
      ],
      "source": [
        "reg1 = Region(Rectangle((0, 4), (0, 2)), Rectangle((1, 2), (0, 4)), name=\"reg1\")\n",
        "reg2 = Region(Rectangle((0, 4), (0, 2)), Rectangle((1, 2), (1, 4)), name=\"reg2\")\n",
        "reg3 = Region(Rectangle((0, 4), (0, 2)), Rectangle((1, 2), (0, 3)), name=\"reg3\")\n",
        "reg1.draw()\n",
        "reg2.draw()\n",
        "reg3.draw()\n",
        "print(\"reg1 vs reg2\", reg1.montecarlo_equality(reg2))\n",
        "print(\"reg1 vs reg2\", reg1.montecarlo_equality(reg3))\n",
        "print(\"reg1 vs reg3\", reg1.montecarlo_difference(reg3))\n"
      ]
    },
    {
      "cell_type": "code",
      "execution_count": null,
      "id": "3c7e2b91",
      "metadata": {
        "id": "3c7e2b91",
        "notebookgrader": {
          "id": "50327e062144988168f46cc7d5a589575dd86001",
          "is_solution": false,
          "is_tests": false,
          "readonly": true
        }
      },
      "outputs": [],
      "source": []
    }
  ],
  "metadata": {
    "colab": {
      "provenance": []
    },
    "kernelspec": {
      "display_name": "Python 3",
      "name": "python3"
    },
    "language_info": {
      "codemirror_mode": {
        "name": "ipython",
        "version": 3
      },
      "file_extension": ".py",
      "mimetype": "text/x-python",
      "name": "python",
      "nbconvert_exporter": "python",
      "pygments_lexer": "ipython3",
      "version": "3.11.5"
    }
  },
  "nbformat": 4,
  "nbformat_minor": 5
}
